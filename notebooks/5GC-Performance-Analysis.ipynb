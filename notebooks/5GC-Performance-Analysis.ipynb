{
 "cells": [
  {
   "cell_type": "code",
   "execution_count": 1,
   "metadata": {},
   "outputs": [
    {
     "name": "stdout",
     "output_type": "stream",
     "text": [
      "Requirement already satisfied: pandas in /Users/tariromukute/Documents/phd/control_plane_performance_analysis/.venv/lib/python3.11/site-packages (2.2.2)\n",
      "Requirement already satisfied: matplotlib in /Users/tariromukute/Documents/phd/control_plane_performance_analysis/.venv/lib/python3.11/site-packages (3.9.0)\n",
      "Requirement already satisfied: plotly in /Users/tariromukute/Documents/phd/control_plane_performance_analysis/.venv/lib/python3.11/site-packages (5.23.0)\n",
      "Requirement already satisfied: pyspark in /Users/tariromukute/Documents/phd/control_plane_performance_analysis/.venv/lib/python3.11/site-packages (3.5.1)\n",
      "Requirement already satisfied: numpy>=1.23.2 in /Users/tariromukute/Documents/phd/control_plane_performance_analysis/.venv/lib/python3.11/site-packages (from pandas) (2.0.1)\n",
      "Requirement already satisfied: python-dateutil>=2.8.2 in /Users/tariromukute/Documents/phd/control_plane_performance_analysis/.venv/lib/python3.11/site-packages (from pandas) (2.9.0.post0)\n",
      "Requirement already satisfied: pytz>=2020.1 in /Users/tariromukute/Documents/phd/control_plane_performance_analysis/.venv/lib/python3.11/site-packages (from pandas) (2024.1)\n",
      "Requirement already satisfied: tzdata>=2022.7 in /Users/tariromukute/Documents/phd/control_plane_performance_analysis/.venv/lib/python3.11/site-packages (from pandas) (2024.1)\n",
      "Requirement already satisfied: contourpy>=1.0.1 in /Users/tariromukute/Documents/phd/control_plane_performance_analysis/.venv/lib/python3.11/site-packages (from matplotlib) (1.2.1)\n",
      "Requirement already satisfied: cycler>=0.10 in /Users/tariromukute/Documents/phd/control_plane_performance_analysis/.venv/lib/python3.11/site-packages (from matplotlib) (0.12.1)\n",
      "Requirement already satisfied: fonttools>=4.22.0 in /Users/tariromukute/Documents/phd/control_plane_performance_analysis/.venv/lib/python3.11/site-packages (from matplotlib) (4.53.1)\n",
      "Requirement already satisfied: kiwisolver>=1.3.1 in /Users/tariromukute/Documents/phd/control_plane_performance_analysis/.venv/lib/python3.11/site-packages (from matplotlib) (1.4.5)\n",
      "Requirement already satisfied: packaging>=20.0 in /Users/tariromukute/Documents/phd/control_plane_performance_analysis/.venv/lib/python3.11/site-packages (from matplotlib) (24.1)\n",
      "Requirement already satisfied: pillow>=8 in /Users/tariromukute/Documents/phd/control_plane_performance_analysis/.venv/lib/python3.11/site-packages (from matplotlib) (10.4.0)\n",
      "Requirement already satisfied: pyparsing>=2.3.1 in /Users/tariromukute/Documents/phd/control_plane_performance_analysis/.venv/lib/python3.11/site-packages (from matplotlib) (3.1.2)\n",
      "Requirement already satisfied: tenacity>=6.2.0 in /Users/tariromukute/Documents/phd/control_plane_performance_analysis/.venv/lib/python3.11/site-packages (from plotly) (9.0.0)\n",
      "Requirement already satisfied: py4j==0.10.9.7 in /Users/tariromukute/Documents/phd/control_plane_performance_analysis/.venv/lib/python3.11/site-packages (from pyspark) (0.10.9.7)\n",
      "Requirement already satisfied: six>=1.5 in /Users/tariromukute/Documents/phd/control_plane_performance_analysis/.venv/lib/python3.11/site-packages (from python-dateutil>=2.8.2->pandas) (1.16.0)\n",
      "Requirement already satisfied: kaleido in /Users/tariromukute/Documents/phd/control_plane_performance_analysis/.venv/lib/python3.11/site-packages (0.2.1)\n"
     ]
    }
   ],
   "source": [
    "# Install a pip package in the current Jupyter kernel\n",
    "import sys\n",
    "!{sys.executable} -m pip install pandas matplotlib plotly pyspark\n",
    "!{sys.executable} -m pip install -U kaleido\n",
    "!{sys.executable} -m pip install nbformat>4.2.0"
   ]
  },
  {
   "attachments": {},
   "cell_type": "markdown",
   "metadata": {},
   "source": [
    "# Purpose\n",
    "\n",
    "This notebooks graphs the performance results of 5G core networks. The traffic for the 5G core networks is generated using a [5G core traffic generator](https://github.com/tariromukute/core-tg). The performance results are collected using a bcc and bpftrace tools."
   ]
  },
  {
   "cell_type": "code",
   "execution_count": 2,
   "metadata": {},
   "outputs": [
    {
     "name": "stderr",
     "output_type": "stream",
     "text": [
      "Setting default log level to \"WARN\".\n",
      "To adjust logging level use sc.setLogLevel(newLevel). For SparkR, use setLogLevel(newLevel).\n",
      "24/08/05 16:49:16 WARN NativeCodeLoader: Unable to load native-hadoop library for your platform... using builtin-java classes where applicable\n",
      "/Users/tariromukute/Documents/phd/control_plane_performance_analysis/.venv/lib/python3.11/site-packages/pyspark/sql/context.py:113: FutureWarning: Deprecated in 3.0.0. Use SparkSession.builder.getOrCreate() instead.\n",
      "  warnings.warn(\n"
     ]
    }
   ],
   "source": [
    "# configure spark variables\n",
    "from pyspark.context import SparkContext\n",
    "from pyspark.sql.context import SQLContext\n",
    "from pyspark.sql.session import SparkSession\n",
    "from pyspark.sql.functions import *\n",
    "from pyspark.sql.types import *\n",
    "    \n",
    "sc = SparkContext()\n",
    "sqlContext = SQLContext(sc)\n",
    "spark = SparkSession(sc)\n",
    "\n",
    "# load up other dependencies\n",
    "import re\n",
    "import pandas as pd\n",
    "\n",
    "import glob\n",
    "import matplotlib.pyplot as plt\n",
    "# import numpy as np"
   ]
  },
  {
   "cell_type": "code",
   "execution_count": 25,
   "metadata": {},
   "outputs": [],
   "source": [
    "import os\n",
    "if not os.path.exists(\"images\"):\n",
    "    os.mkdir(\"images\")\n",
    "\n",
    "import os\n",
    "import glob\n",
    "import plotly.express as px\n",
    "from plotly.subplots import make_subplots\n",
    "# from pyspark.sql.types import StructType,StructField, StringType, IntegerType\n",
    "# from pyspark.sql.functions import expr\n",
    "basePath = \"../results\"\n",
    "results_path = \"../docs/results\""
   ]
  },
  {
   "cell_type": "code",
   "execution_count": 5,
   "metadata": {},
   "outputs": [
    {
     "name": "stdout",
     "output_type": "stream",
     "text": [
      "5.23.0\n"
     ]
    }
   ],
   "source": [
    "# General chaterisation\n",
    "import plotly; print(plotly.__version__)"
   ]
  },
  {
   "cell_type": "code",
   "execution_count": 6,
   "metadata": {},
   "outputs": [],
   "source": [
    "import subprocess\n",
    "import os\n",
    "\n",
    "# Helper functions\n",
    "def remove_noise_processes(df, field, values):\n",
    "    a = df.loc[df[field].isin(values)].index.array.tolist()\n",
    "    df.drop(a, inplace=True)\n",
    "    return df\n",
    "\n",
    "def pivot_dataframe_to_gnuplot_format(df, values, index='ues', columns='cn'):\n",
    "\n",
    "    # Group the DataFrame by 'Country' and 'Year'\n",
    "    grouped_data = df.groupby([index, columns]).sum()\n",
    "\n",
    "    # Pivot the resulting grouped data\n",
    "    pivoted_df = grouped_data.pivot_table(index=index, columns=columns, values=values).reset_index()\n",
    "\n",
    "    return pivoted_df\n",
    "\n",
    "def draw_gnuplot_linepoints(df, name, title, xlabel, ylabel):\n",
    "    df.to_csv(f'gnuplot/{name}.csv', index=False)\n",
    "    print(df.columns)\n",
    "    # Write the Gnuplot script\n",
    "    with open(f'gnuplot/{name}.gnu', 'w') as f:\n",
    "        f.write('set style data linespoints\\n')\n",
    "        f.write('set term png\\n')\n",
    "        f.write(f\"set output '{name}.png'\\n\")\n",
    "        # f.write('set key outside left bottom horizontal spacing 1 width 2 height 1.5\\n')\n",
    "        f.write('set key noenhanced\\n')\n",
    "        f.write('set key top left\\n')\n",
    "        f.write('set key autotitle columnhead\\n')\n",
    "        f.write(\"set datafile separator ','\\n\")\n",
    "        f.write(f'set title \"{title}\"\\n')\n",
    "        f.write('set grid xtics ytics mytics\\n')\n",
    "        f.write(f'set xlabel \"{xlabel}\"\\n')\n",
    "        f.write(f'set ylabel \"{ylabel}\"\\n')\n",
    "        f.write(' # Create theme \\n \\\n",
    "        dpi = 600 ## dpi (variable) \\n \\\n",
    "        width = 164.5 ## mm (variable) \\n \\\n",
    "        height = 100 ## mm (variable) \\n \\\n",
    "        \\n \\\n",
    "        in2mm = 25.4 # mm (fixed) \\n \\\n",
    "        pt2mm = 0.3528 # mm (fixed) \\n \\\n",
    "        \\n \\\n",
    "        mm2px = dpi/in2mm \\n \\\n",
    "        ptscale = pt2mm*mm2px \\n \\\n",
    "        round(x) = x - floor(x) < 0.5 ? floor(x) : ceil(x) \\n \\\n",
    "        wpx = round(width * mm2px) \\n \\\n",
    "        hpx = round(height * mm2px) \\n \\\n",
    "        \\n \\\n",
    "        set terminal pngcairo size wpx,hpx fontscale ptscale/1.4 linewidth ptscale pointscale ptscale \\n \\\n",
    "        \\n \\\n",
    "        colors = \"blue red green brown black magenta orange purple sienna1 slategray tan1 yellow turquoise orchid khaki\" \\n ')\n",
    "        f.write(f'plot for [i=2:{len(df.columns)}] \"{name}.csv\" u 1:i t columnhead lc rgb word(colors, i-1)')\n",
    "\n",
    "    # Run the Gnuplot script\n",
    "    \n",
    "    # Relative path of the desired working directory\n",
    "    relative_dir_path = 'gnuplot'\n",
    "    \n",
    "    # Get the absolute path of the working directory\n",
    "    curr_dir = os.getcwd()\n",
    "    \n",
    "    # Create the full path to the desired directory\n",
    "    my_dir_path = os.path.join(curr_dir, relative_dir_path)\n",
    "    \n",
    "    subprocess.call(['gnuplot', '-p', f'{name}.gnu'],  cwd=my_dir_path)\n",
    "    # Change current working directory to 'mydir'\n",
    "    # os.chdir('./gnuplot')\n",
    "\n",
    "    # # Execute command 'mycommand' in the new directory\n",
    "    # os.system('gnuplot -p cn_perf_ue_avg_exp.gnu')\n",
    "\n",
    "    # display the image on the screen\n",
    "    from IPython.display import Image\n",
    "    Image(filename=f'gnuplot/{name}.png')\n",
    "\n",
    "labels = {\n",
    "    \"ues\": \"Number of UEs\",\n",
    "    \"time (ms)\": \"Time (ms)\",\n",
    "    \"syscall\": \"System calls\",\n",
    "    \"count\": \"Number of calls\",\n",
    "    \"avg\": \"Average time per syscall (ms)\",\n",
    "    \"avg_duration\": \"Time (ms)\",\n",
    "    \"cn\": \"Core network\",\n",
    "    \"rct\": \"Rate of change of N# of calls\"\n",
    "}\n",
    "\n",
    "sunburst_colors = {\n",
    "    'free5gc': 'red',\n",
    "    'oai': 'blue',\n",
    "    'open5gs': 'green'\n",
    "}\n",
    "\n",
    "noise_processes_excl_db = ['python3', 'systemd', 'snapd', 'sshd', 'sudo', 'multipathd', 'systemd-logind', 'systemd-timesyn', 'systemd-resolve', 'systemd-udevd', 'systemd-network', 'systemctl', 'accounts-daemon', 'dbus-daemon', '[unknown]']\n",
    "noise_processes = noise_processes_excl_db + ['mongod', 'mysqld']"
   ]
  },
  {
   "cell_type": "code",
   "execution_count": 45,
   "metadata": {},
   "outputs": [
    {
     "data": {
      "application/vnd.plotly.v1+json": {
       "config": {
        "plotlyServerURL": "https://plot.ly"
       },
       "data": [
        {
         "hovertemplate": "Core network=free5gc<br>ues=%{x}<br>Time (s)=%{y}<extra></extra>",
         "legendgroup": "free5gc",
         "line": {
          "color": "#636efa",
          "dash": "solid"
         },
         "marker": {
          "symbol": "circle"
         },
         "mode": "lines+markers",
         "name": "free5gc",
         "orientation": "v",
         "showlegend": true,
         "type": "scatter",
         "x": [
          1,
          2,
          3,
          4,
          5,
          10,
          20,
          30,
          40,
          50,
          100,
          200,
          300
         ],
         "xaxis": "x",
         "y": [
          0.392486811,
          0.282381137,
          0.252874454,
          0.306658745,
          0.327034791,
          0.524069866,
          0.997431993,
          1.386130651,
          1.903456847,
          2.342018763,
          4.894990762,
          9.717703342,
          15.01528398
         ],
         "yaxis": "y"
        },
        {
         "hovertemplate": "Core network=open5gs<br>ues=%{x}<br>Time (s)=%{y}<extra></extra>",
         "legendgroup": "open5gs",
         "line": {
          "color": "#EF553B",
          "dash": "solid"
         },
         "marker": {
          "symbol": "circle"
         },
         "mode": "lines+markers",
         "name": "open5gs",
         "orientation": "v",
         "showlegend": true,
         "type": "scatter",
         "x": [
          1,
          2,
          3,
          4,
          5,
          10,
          20,
          30,
          40,
          50,
          100,
          200,
          300
         ],
         "xaxis": "x",
         "y": [
          0.286592086,
          0.318584601,
          0.349553347,
          0.372268438,
          0.396276395,
          0.545829535,
          0.736775716,
          1.010319074,
          1.440649907,
          1.487702608,
          3.450438341,
          7.296126525,
          11.03989736
         ],
         "yaxis": "y"
        },
        {
         "hovertemplate": "Core network=oai<br>ues=%{x}<br>Time (s)=%{y}<extra></extra>",
         "legendgroup": "oai",
         "line": {
          "color": "#00cc96",
          "dash": "solid"
         },
         "marker": {
          "symbol": "circle"
         },
         "mode": "lines+markers",
         "name": "oai",
         "orientation": "v",
         "showlegend": true,
         "type": "scatter",
         "x": [
          1,
          2,
          3,
          4,
          5,
          10,
          20,
          30,
          40,
          50,
          100,
          200,
          300
         ],
         "xaxis": "x",
         "y": [
          0.473553975,
          0.674150785,
          0.912513336,
          1.112318913,
          1.253202836,
          2.231157144,
          4.350514174,
          6.431807121,
          8.665176709,
          10.80865312,
          21.55573002,
          44.12744665,
          64.49484619
         ],
         "yaxis": "y"
        }
       ],
       "layout": {
        "legend": {
         "title": {
          "text": "Core network"
         },
         "tracegroupgap": 0
        },
        "template": {
         "data": {
          "bar": [
           {
            "error_x": {
             "color": "#2a3f5f"
            },
            "error_y": {
             "color": "#2a3f5f"
            },
            "marker": {
             "line": {
              "color": "#E5ECF6",
              "width": 0.5
             },
             "pattern": {
              "fillmode": "overlay",
              "size": 10,
              "solidity": 0.2
             }
            },
            "type": "bar"
           }
          ],
          "barpolar": [
           {
            "marker": {
             "line": {
              "color": "#E5ECF6",
              "width": 0.5
             },
             "pattern": {
              "fillmode": "overlay",
              "size": 10,
              "solidity": 0.2
             }
            },
            "type": "barpolar"
           }
          ],
          "carpet": [
           {
            "aaxis": {
             "endlinecolor": "#2a3f5f",
             "gridcolor": "white",
             "linecolor": "white",
             "minorgridcolor": "white",
             "startlinecolor": "#2a3f5f"
            },
            "baxis": {
             "endlinecolor": "#2a3f5f",
             "gridcolor": "white",
             "linecolor": "white",
             "minorgridcolor": "white",
             "startlinecolor": "#2a3f5f"
            },
            "type": "carpet"
           }
          ],
          "choropleth": [
           {
            "colorbar": {
             "outlinewidth": 0,
             "ticks": ""
            },
            "type": "choropleth"
           }
          ],
          "contour": [
           {
            "colorbar": {
             "outlinewidth": 0,
             "ticks": ""
            },
            "colorscale": [
             [
              0,
              "#0d0887"
             ],
             [
              0.1111111111111111,
              "#46039f"
             ],
             [
              0.2222222222222222,
              "#7201a8"
             ],
             [
              0.3333333333333333,
              "#9c179e"
             ],
             [
              0.4444444444444444,
              "#bd3786"
             ],
             [
              0.5555555555555556,
              "#d8576b"
             ],
             [
              0.6666666666666666,
              "#ed7953"
             ],
             [
              0.7777777777777778,
              "#fb9f3a"
             ],
             [
              0.8888888888888888,
              "#fdca26"
             ],
             [
              1,
              "#f0f921"
             ]
            ],
            "type": "contour"
           }
          ],
          "contourcarpet": [
           {
            "colorbar": {
             "outlinewidth": 0,
             "ticks": ""
            },
            "type": "contourcarpet"
           }
          ],
          "heatmap": [
           {
            "colorbar": {
             "outlinewidth": 0,
             "ticks": ""
            },
            "colorscale": [
             [
              0,
              "#0d0887"
             ],
             [
              0.1111111111111111,
              "#46039f"
             ],
             [
              0.2222222222222222,
              "#7201a8"
             ],
             [
              0.3333333333333333,
              "#9c179e"
             ],
             [
              0.4444444444444444,
              "#bd3786"
             ],
             [
              0.5555555555555556,
              "#d8576b"
             ],
             [
              0.6666666666666666,
              "#ed7953"
             ],
             [
              0.7777777777777778,
              "#fb9f3a"
             ],
             [
              0.8888888888888888,
              "#fdca26"
             ],
             [
              1,
              "#f0f921"
             ]
            ],
            "type": "heatmap"
           }
          ],
          "heatmapgl": [
           {
            "colorbar": {
             "outlinewidth": 0,
             "ticks": ""
            },
            "colorscale": [
             [
              0,
              "#0d0887"
             ],
             [
              0.1111111111111111,
              "#46039f"
             ],
             [
              0.2222222222222222,
              "#7201a8"
             ],
             [
              0.3333333333333333,
              "#9c179e"
             ],
             [
              0.4444444444444444,
              "#bd3786"
             ],
             [
              0.5555555555555556,
              "#d8576b"
             ],
             [
              0.6666666666666666,
              "#ed7953"
             ],
             [
              0.7777777777777778,
              "#fb9f3a"
             ],
             [
              0.8888888888888888,
              "#fdca26"
             ],
             [
              1,
              "#f0f921"
             ]
            ],
            "type": "heatmapgl"
           }
          ],
          "histogram": [
           {
            "marker": {
             "pattern": {
              "fillmode": "overlay",
              "size": 10,
              "solidity": 0.2
             }
            },
            "type": "histogram"
           }
          ],
          "histogram2d": [
           {
            "colorbar": {
             "outlinewidth": 0,
             "ticks": ""
            },
            "colorscale": [
             [
              0,
              "#0d0887"
             ],
             [
              0.1111111111111111,
              "#46039f"
             ],
             [
              0.2222222222222222,
              "#7201a8"
             ],
             [
              0.3333333333333333,
              "#9c179e"
             ],
             [
              0.4444444444444444,
              "#bd3786"
             ],
             [
              0.5555555555555556,
              "#d8576b"
             ],
             [
              0.6666666666666666,
              "#ed7953"
             ],
             [
              0.7777777777777778,
              "#fb9f3a"
             ],
             [
              0.8888888888888888,
              "#fdca26"
             ],
             [
              1,
              "#f0f921"
             ]
            ],
            "type": "histogram2d"
           }
          ],
          "histogram2dcontour": [
           {
            "colorbar": {
             "outlinewidth": 0,
             "ticks": ""
            },
            "colorscale": [
             [
              0,
              "#0d0887"
             ],
             [
              0.1111111111111111,
              "#46039f"
             ],
             [
              0.2222222222222222,
              "#7201a8"
             ],
             [
              0.3333333333333333,
              "#9c179e"
             ],
             [
              0.4444444444444444,
              "#bd3786"
             ],
             [
              0.5555555555555556,
              "#d8576b"
             ],
             [
              0.6666666666666666,
              "#ed7953"
             ],
             [
              0.7777777777777778,
              "#fb9f3a"
             ],
             [
              0.8888888888888888,
              "#fdca26"
             ],
             [
              1,
              "#f0f921"
             ]
            ],
            "type": "histogram2dcontour"
           }
          ],
          "mesh3d": [
           {
            "colorbar": {
             "outlinewidth": 0,
             "ticks": ""
            },
            "type": "mesh3d"
           }
          ],
          "parcoords": [
           {
            "line": {
             "colorbar": {
              "outlinewidth": 0,
              "ticks": ""
             }
            },
            "type": "parcoords"
           }
          ],
          "pie": [
           {
            "automargin": true,
            "type": "pie"
           }
          ],
          "scatter": [
           {
            "fillpattern": {
             "fillmode": "overlay",
             "size": 10,
             "solidity": 0.2
            },
            "type": "scatter"
           }
          ],
          "scatter3d": [
           {
            "line": {
             "colorbar": {
              "outlinewidth": 0,
              "ticks": ""
             }
            },
            "marker": {
             "colorbar": {
              "outlinewidth": 0,
              "ticks": ""
             }
            },
            "type": "scatter3d"
           }
          ],
          "scattercarpet": [
           {
            "marker": {
             "colorbar": {
              "outlinewidth": 0,
              "ticks": ""
             }
            },
            "type": "scattercarpet"
           }
          ],
          "scattergeo": [
           {
            "marker": {
             "colorbar": {
              "outlinewidth": 0,
              "ticks": ""
             }
            },
            "type": "scattergeo"
           }
          ],
          "scattergl": [
           {
            "marker": {
             "colorbar": {
              "outlinewidth": 0,
              "ticks": ""
             }
            },
            "type": "scattergl"
           }
          ],
          "scattermapbox": [
           {
            "marker": {
             "colorbar": {
              "outlinewidth": 0,
              "ticks": ""
             }
            },
            "type": "scattermapbox"
           }
          ],
          "scatterpolar": [
           {
            "marker": {
             "colorbar": {
              "outlinewidth": 0,
              "ticks": ""
             }
            },
            "type": "scatterpolar"
           }
          ],
          "scatterpolargl": [
           {
            "marker": {
             "colorbar": {
              "outlinewidth": 0,
              "ticks": ""
             }
            },
            "type": "scatterpolargl"
           }
          ],
          "scatterternary": [
           {
            "marker": {
             "colorbar": {
              "outlinewidth": 0,
              "ticks": ""
             }
            },
            "type": "scatterternary"
           }
          ],
          "surface": [
           {
            "colorbar": {
             "outlinewidth": 0,
             "ticks": ""
            },
            "colorscale": [
             [
              0,
              "#0d0887"
             ],
             [
              0.1111111111111111,
              "#46039f"
             ],
             [
              0.2222222222222222,
              "#7201a8"
             ],
             [
              0.3333333333333333,
              "#9c179e"
             ],
             [
              0.4444444444444444,
              "#bd3786"
             ],
             [
              0.5555555555555556,
              "#d8576b"
             ],
             [
              0.6666666666666666,
              "#ed7953"
             ],
             [
              0.7777777777777778,
              "#fb9f3a"
             ],
             [
              0.8888888888888888,
              "#fdca26"
             ],
             [
              1,
              "#f0f921"
             ]
            ],
            "type": "surface"
           }
          ],
          "table": [
           {
            "cells": {
             "fill": {
              "color": "#EBF0F8"
             },
             "line": {
              "color": "white"
             }
            },
            "header": {
             "fill": {
              "color": "#C8D4E3"
             },
             "line": {
              "color": "white"
             }
            },
            "type": "table"
           }
          ]
         },
         "layout": {
          "annotationdefaults": {
           "arrowcolor": "#2a3f5f",
           "arrowhead": 0,
           "arrowwidth": 1
          },
          "autotypenumbers": "strict",
          "coloraxis": {
           "colorbar": {
            "outlinewidth": 0,
            "ticks": ""
           }
          },
          "colorscale": {
           "diverging": [
            [
             0,
             "#8e0152"
            ],
            [
             0.1,
             "#c51b7d"
            ],
            [
             0.2,
             "#de77ae"
            ],
            [
             0.3,
             "#f1b6da"
            ],
            [
             0.4,
             "#fde0ef"
            ],
            [
             0.5,
             "#f7f7f7"
            ],
            [
             0.6,
             "#e6f5d0"
            ],
            [
             0.7,
             "#b8e186"
            ],
            [
             0.8,
             "#7fbc41"
            ],
            [
             0.9,
             "#4d9221"
            ],
            [
             1,
             "#276419"
            ]
           ],
           "sequential": [
            [
             0,
             "#0d0887"
            ],
            [
             0.1111111111111111,
             "#46039f"
            ],
            [
             0.2222222222222222,
             "#7201a8"
            ],
            [
             0.3333333333333333,
             "#9c179e"
            ],
            [
             0.4444444444444444,
             "#bd3786"
            ],
            [
             0.5555555555555556,
             "#d8576b"
            ],
            [
             0.6666666666666666,
             "#ed7953"
            ],
            [
             0.7777777777777778,
             "#fb9f3a"
            ],
            [
             0.8888888888888888,
             "#fdca26"
            ],
            [
             1,
             "#f0f921"
            ]
           ],
           "sequentialminus": [
            [
             0,
             "#0d0887"
            ],
            [
             0.1111111111111111,
             "#46039f"
            ],
            [
             0.2222222222222222,
             "#7201a8"
            ],
            [
             0.3333333333333333,
             "#9c179e"
            ],
            [
             0.4444444444444444,
             "#bd3786"
            ],
            [
             0.5555555555555556,
             "#d8576b"
            ],
            [
             0.6666666666666666,
             "#ed7953"
            ],
            [
             0.7777777777777778,
             "#fb9f3a"
            ],
            [
             0.8888888888888888,
             "#fdca26"
            ],
            [
             1,
             "#f0f921"
            ]
           ]
          },
          "colorway": [
           "#636efa",
           "#EF553B",
           "#00cc96",
           "#ab63fa",
           "#FFA15A",
           "#19d3f3",
           "#FF6692",
           "#B6E880",
           "#FF97FF",
           "#FECB52"
          ],
          "font": {
           "color": "#2a3f5f"
          },
          "geo": {
           "bgcolor": "white",
           "lakecolor": "white",
           "landcolor": "#E5ECF6",
           "showlakes": true,
           "showland": true,
           "subunitcolor": "white"
          },
          "hoverlabel": {
           "align": "left"
          },
          "hovermode": "closest",
          "mapbox": {
           "style": "light"
          },
          "paper_bgcolor": "white",
          "plot_bgcolor": "#E5ECF6",
          "polar": {
           "angularaxis": {
            "gridcolor": "white",
            "linecolor": "white",
            "ticks": ""
           },
           "bgcolor": "#E5ECF6",
           "radialaxis": {
            "gridcolor": "white",
            "linecolor": "white",
            "ticks": ""
           }
          },
          "scene": {
           "xaxis": {
            "backgroundcolor": "#E5ECF6",
            "gridcolor": "white",
            "gridwidth": 2,
            "linecolor": "white",
            "showbackground": true,
            "ticks": "",
            "zerolinecolor": "white"
           },
           "yaxis": {
            "backgroundcolor": "#E5ECF6",
            "gridcolor": "white",
            "gridwidth": 2,
            "linecolor": "white",
            "showbackground": true,
            "ticks": "",
            "zerolinecolor": "white"
           },
           "zaxis": {
            "backgroundcolor": "#E5ECF6",
            "gridcolor": "white",
            "gridwidth": 2,
            "linecolor": "white",
            "showbackground": true,
            "ticks": "",
            "zerolinecolor": "white"
           }
          },
          "shapedefaults": {
           "line": {
            "color": "#2a3f5f"
           }
          },
          "ternary": {
           "aaxis": {
            "gridcolor": "white",
            "linecolor": "white",
            "ticks": ""
           },
           "baxis": {
            "gridcolor": "white",
            "linecolor": "white",
            "ticks": ""
           },
           "bgcolor": "#E5ECF6",
           "caxis": {
            "gridcolor": "white",
            "linecolor": "white",
            "ticks": ""
           }
          },
          "title": {
           "x": 0.05
          },
          "xaxis": {
           "automargin": true,
           "gridcolor": "white",
           "linecolor": "white",
           "ticks": "",
           "title": {
            "standoff": 15
           },
           "zerolinecolor": "white",
           "zerolinewidth": 2
          },
          "yaxis": {
           "automargin": true,
           "gridcolor": "white",
           "linecolor": "white",
           "ticks": "",
           "title": {
            "standoff": 15
           },
           "zerolinecolor": "white",
           "zerolinewidth": 2
          }
         }
        },
        "title": {
         "text": "Total time taken to complete Registration and De-registration procedures"
        },
        "xaxis": {
         "anchor": "y",
         "domain": [
          0,
          1
         ],
         "title": {
          "text": "ues"
         }
        },
        "yaxis": {
         "anchor": "x",
         "domain": [
          0,
          1
         ],
         "title": {
          "text": "Time (s)"
         }
        }
       }
      }
     },
     "metadata": {},
     "output_type": "display_data"
    },
    {
     "data": {
      "application/vnd.plotly.v1+json": {
       "config": {
        "plotlyServerURL": "https://plot.ly"
       },
       "data": [
        {
         "hovertemplate": "variable=free5gc<br>ues=%{x}<br>value=%{y}<extra></extra>",
         "legendgroup": "free5gc",
         "line": {
          "color": "#636efa",
          "dash": "solid"
         },
         "marker": {
          "symbol": "circle"
         },
         "mode": "lines+markers",
         "name": "free5gc",
         "orientation": "v",
         "showlegend": true,
         "type": "scatter",
         "x": [
          1,
          2,
          3,
          4,
          5,
          10,
          20,
          30,
          40,
          50,
          100,
          200,
          300
         ],
         "xaxis": "x",
         "y": [
          0.381246885,
          0.18118159,
          0.184126377,
          0.237970491,
          0.271893756,
          0.473261499,
          0.868505681,
          1.23509193,
          1.63449468,
          2.063151129,
          4.333613207,
          8.584849109,
          13.19300881
         ],
         "yaxis": "y"
        },
        {
         "hovertemplate": "variable=open5gs<br>ues=%{x}<br>value=%{y}<extra></extra>",
         "legendgroup": "open5gs",
         "line": {
          "color": "#EF553B",
          "dash": "solid"
         },
         "marker": {
          "symbol": "circle"
         },
         "mode": "lines+markers",
         "name": "open5gs",
         "orientation": "v",
         "showlegend": true,
         "type": "scatter",
         "x": [
          1,
          2,
          3,
          4,
          5,
          10,
          20,
          30,
          40,
          50,
          100,
          200,
          300
         ],
         "xaxis": "x",
         "y": [
          0.277335644,
          0.204822222,
          0.212259663,
          0.235409101,
          0.226801475,
          0.346396788,
          0.542112839,
          0.806202274,
          1.150452155,
          1.21929644,
          2.93499926,
          6.439768004,
          9.786832661
         ],
         "yaxis": "y"
        },
        {
         "hovertemplate": "variable=oai<br>ues=%{x}<br>value=%{y}<extra></extra>",
         "legendgroup": "oai",
         "line": {
          "color": "#00cc96",
          "dash": "solid"
         },
         "marker": {
          "symbol": "circle"
         },
         "mode": "lines+markers",
         "name": "oai",
         "orientation": "v",
         "showlegend": true,
         "type": "scatter",
         "x": [
          1,
          2,
          3,
          4,
          5,
          10,
          20,
          30,
          40,
          50,
          100,
          200,
          300
         ],
         "xaxis": "x",
         "y": [
          0.469223102,
          0.56044507,
          0.695773734,
          0.794484655,
          0.831883844,
          1.295912774,
          2.398196749,
          3.488497937,
          4.668274989,
          5.774609701,
          11.41232848,
          23.81999167,
          34.04827591
         ],
         "yaxis": "y"
        }
       ],
       "layout": {
        "legend": {
         "title": {
          "text": "variable"
         },
         "tracegroupgap": 0
        },
        "template": {
         "data": {
          "bar": [
           {
            "error_x": {
             "color": "#2a3f5f"
            },
            "error_y": {
             "color": "#2a3f5f"
            },
            "marker": {
             "line": {
              "color": "#E5ECF6",
              "width": 0.5
             },
             "pattern": {
              "fillmode": "overlay",
              "size": 10,
              "solidity": 0.2
             }
            },
            "type": "bar"
           }
          ],
          "barpolar": [
           {
            "marker": {
             "line": {
              "color": "#E5ECF6",
              "width": 0.5
             },
             "pattern": {
              "fillmode": "overlay",
              "size": 10,
              "solidity": 0.2
             }
            },
            "type": "barpolar"
           }
          ],
          "carpet": [
           {
            "aaxis": {
             "endlinecolor": "#2a3f5f",
             "gridcolor": "white",
             "linecolor": "white",
             "minorgridcolor": "white",
             "startlinecolor": "#2a3f5f"
            },
            "baxis": {
             "endlinecolor": "#2a3f5f",
             "gridcolor": "white",
             "linecolor": "white",
             "minorgridcolor": "white",
             "startlinecolor": "#2a3f5f"
            },
            "type": "carpet"
           }
          ],
          "choropleth": [
           {
            "colorbar": {
             "outlinewidth": 0,
             "ticks": ""
            },
            "type": "choropleth"
           }
          ],
          "contour": [
           {
            "colorbar": {
             "outlinewidth": 0,
             "ticks": ""
            },
            "colorscale": [
             [
              0,
              "#0d0887"
             ],
             [
              0.1111111111111111,
              "#46039f"
             ],
             [
              0.2222222222222222,
              "#7201a8"
             ],
             [
              0.3333333333333333,
              "#9c179e"
             ],
             [
              0.4444444444444444,
              "#bd3786"
             ],
             [
              0.5555555555555556,
              "#d8576b"
             ],
             [
              0.6666666666666666,
              "#ed7953"
             ],
             [
              0.7777777777777778,
              "#fb9f3a"
             ],
             [
              0.8888888888888888,
              "#fdca26"
             ],
             [
              1,
              "#f0f921"
             ]
            ],
            "type": "contour"
           }
          ],
          "contourcarpet": [
           {
            "colorbar": {
             "outlinewidth": 0,
             "ticks": ""
            },
            "type": "contourcarpet"
           }
          ],
          "heatmap": [
           {
            "colorbar": {
             "outlinewidth": 0,
             "ticks": ""
            },
            "colorscale": [
             [
              0,
              "#0d0887"
             ],
             [
              0.1111111111111111,
              "#46039f"
             ],
             [
              0.2222222222222222,
              "#7201a8"
             ],
             [
              0.3333333333333333,
              "#9c179e"
             ],
             [
              0.4444444444444444,
              "#bd3786"
             ],
             [
              0.5555555555555556,
              "#d8576b"
             ],
             [
              0.6666666666666666,
              "#ed7953"
             ],
             [
              0.7777777777777778,
              "#fb9f3a"
             ],
             [
              0.8888888888888888,
              "#fdca26"
             ],
             [
              1,
              "#f0f921"
             ]
            ],
            "type": "heatmap"
           }
          ],
          "heatmapgl": [
           {
            "colorbar": {
             "outlinewidth": 0,
             "ticks": ""
            },
            "colorscale": [
             [
              0,
              "#0d0887"
             ],
             [
              0.1111111111111111,
              "#46039f"
             ],
             [
              0.2222222222222222,
              "#7201a8"
             ],
             [
              0.3333333333333333,
              "#9c179e"
             ],
             [
              0.4444444444444444,
              "#bd3786"
             ],
             [
              0.5555555555555556,
              "#d8576b"
             ],
             [
              0.6666666666666666,
              "#ed7953"
             ],
             [
              0.7777777777777778,
              "#fb9f3a"
             ],
             [
              0.8888888888888888,
              "#fdca26"
             ],
             [
              1,
              "#f0f921"
             ]
            ],
            "type": "heatmapgl"
           }
          ],
          "histogram": [
           {
            "marker": {
             "pattern": {
              "fillmode": "overlay",
              "size": 10,
              "solidity": 0.2
             }
            },
            "type": "histogram"
           }
          ],
          "histogram2d": [
           {
            "colorbar": {
             "outlinewidth": 0,
             "ticks": ""
            },
            "colorscale": [
             [
              0,
              "#0d0887"
             ],
             [
              0.1111111111111111,
              "#46039f"
             ],
             [
              0.2222222222222222,
              "#7201a8"
             ],
             [
              0.3333333333333333,
              "#9c179e"
             ],
             [
              0.4444444444444444,
              "#bd3786"
             ],
             [
              0.5555555555555556,
              "#d8576b"
             ],
             [
              0.6666666666666666,
              "#ed7953"
             ],
             [
              0.7777777777777778,
              "#fb9f3a"
             ],
             [
              0.8888888888888888,
              "#fdca26"
             ],
             [
              1,
              "#f0f921"
             ]
            ],
            "type": "histogram2d"
           }
          ],
          "histogram2dcontour": [
           {
            "colorbar": {
             "outlinewidth": 0,
             "ticks": ""
            },
            "colorscale": [
             [
              0,
              "#0d0887"
             ],
             [
              0.1111111111111111,
              "#46039f"
             ],
             [
              0.2222222222222222,
              "#7201a8"
             ],
             [
              0.3333333333333333,
              "#9c179e"
             ],
             [
              0.4444444444444444,
              "#bd3786"
             ],
             [
              0.5555555555555556,
              "#d8576b"
             ],
             [
              0.6666666666666666,
              "#ed7953"
             ],
             [
              0.7777777777777778,
              "#fb9f3a"
             ],
             [
              0.8888888888888888,
              "#fdca26"
             ],
             [
              1,
              "#f0f921"
             ]
            ],
            "type": "histogram2dcontour"
           }
          ],
          "mesh3d": [
           {
            "colorbar": {
             "outlinewidth": 0,
             "ticks": ""
            },
            "type": "mesh3d"
           }
          ],
          "parcoords": [
           {
            "line": {
             "colorbar": {
              "outlinewidth": 0,
              "ticks": ""
             }
            },
            "type": "parcoords"
           }
          ],
          "pie": [
           {
            "automargin": true,
            "type": "pie"
           }
          ],
          "scatter": [
           {
            "fillpattern": {
             "fillmode": "overlay",
             "size": 10,
             "solidity": 0.2
            },
            "type": "scatter"
           }
          ],
          "scatter3d": [
           {
            "line": {
             "colorbar": {
              "outlinewidth": 0,
              "ticks": ""
             }
            },
            "marker": {
             "colorbar": {
              "outlinewidth": 0,
              "ticks": ""
             }
            },
            "type": "scatter3d"
           }
          ],
          "scattercarpet": [
           {
            "marker": {
             "colorbar": {
              "outlinewidth": 0,
              "ticks": ""
             }
            },
            "type": "scattercarpet"
           }
          ],
          "scattergeo": [
           {
            "marker": {
             "colorbar": {
              "outlinewidth": 0,
              "ticks": ""
             }
            },
            "type": "scattergeo"
           }
          ],
          "scattergl": [
           {
            "marker": {
             "colorbar": {
              "outlinewidth": 0,
              "ticks": ""
             }
            },
            "type": "scattergl"
           }
          ],
          "scattermapbox": [
           {
            "marker": {
             "colorbar": {
              "outlinewidth": 0,
              "ticks": ""
             }
            },
            "type": "scattermapbox"
           }
          ],
          "scatterpolar": [
           {
            "marker": {
             "colorbar": {
              "outlinewidth": 0,
              "ticks": ""
             }
            },
            "type": "scatterpolar"
           }
          ],
          "scatterpolargl": [
           {
            "marker": {
             "colorbar": {
              "outlinewidth": 0,
              "ticks": ""
             }
            },
            "type": "scatterpolargl"
           }
          ],
          "scatterternary": [
           {
            "marker": {
             "colorbar": {
              "outlinewidth": 0,
              "ticks": ""
             }
            },
            "type": "scatterternary"
           }
          ],
          "surface": [
           {
            "colorbar": {
             "outlinewidth": 0,
             "ticks": ""
            },
            "colorscale": [
             [
              0,
              "#0d0887"
             ],
             [
              0.1111111111111111,
              "#46039f"
             ],
             [
              0.2222222222222222,
              "#7201a8"
             ],
             [
              0.3333333333333333,
              "#9c179e"
             ],
             [
              0.4444444444444444,
              "#bd3786"
             ],
             [
              0.5555555555555556,
              "#d8576b"
             ],
             [
              0.6666666666666666,
              "#ed7953"
             ],
             [
              0.7777777777777778,
              "#fb9f3a"
             ],
             [
              0.8888888888888888,
              "#fdca26"
             ],
             [
              1,
              "#f0f921"
             ]
            ],
            "type": "surface"
           }
          ],
          "table": [
           {
            "cells": {
             "fill": {
              "color": "#EBF0F8"
             },
             "line": {
              "color": "white"
             }
            },
            "header": {
             "fill": {
              "color": "#C8D4E3"
             },
             "line": {
              "color": "white"
             }
            },
            "type": "table"
           }
          ]
         },
         "layout": {
          "annotationdefaults": {
           "arrowcolor": "#2a3f5f",
           "arrowhead": 0,
           "arrowwidth": 1
          },
          "autotypenumbers": "strict",
          "coloraxis": {
           "colorbar": {
            "outlinewidth": 0,
            "ticks": ""
           }
          },
          "colorscale": {
           "diverging": [
            [
             0,
             "#8e0152"
            ],
            [
             0.1,
             "#c51b7d"
            ],
            [
             0.2,
             "#de77ae"
            ],
            [
             0.3,
             "#f1b6da"
            ],
            [
             0.4,
             "#fde0ef"
            ],
            [
             0.5,
             "#f7f7f7"
            ],
            [
             0.6,
             "#e6f5d0"
            ],
            [
             0.7,
             "#b8e186"
            ],
            [
             0.8,
             "#7fbc41"
            ],
            [
             0.9,
             "#4d9221"
            ],
            [
             1,
             "#276419"
            ]
           ],
           "sequential": [
            [
             0,
             "#0d0887"
            ],
            [
             0.1111111111111111,
             "#46039f"
            ],
            [
             0.2222222222222222,
             "#7201a8"
            ],
            [
             0.3333333333333333,
             "#9c179e"
            ],
            [
             0.4444444444444444,
             "#bd3786"
            ],
            [
             0.5555555555555556,
             "#d8576b"
            ],
            [
             0.6666666666666666,
             "#ed7953"
            ],
            [
             0.7777777777777778,
             "#fb9f3a"
            ],
            [
             0.8888888888888888,
             "#fdca26"
            ],
            [
             1,
             "#f0f921"
            ]
           ],
           "sequentialminus": [
            [
             0,
             "#0d0887"
            ],
            [
             0.1111111111111111,
             "#46039f"
            ],
            [
             0.2222222222222222,
             "#7201a8"
            ],
            [
             0.3333333333333333,
             "#9c179e"
            ],
            [
             0.4444444444444444,
             "#bd3786"
            ],
            [
             0.5555555555555556,
             "#d8576b"
            ],
            [
             0.6666666666666666,
             "#ed7953"
            ],
            [
             0.7777777777777778,
             "#fb9f3a"
            ],
            [
             0.8888888888888888,
             "#fdca26"
            ],
            [
             1,
             "#f0f921"
            ]
           ]
          },
          "colorway": [
           "#636efa",
           "#EF553B",
           "#00cc96",
           "#ab63fa",
           "#FFA15A",
           "#19d3f3",
           "#FF6692",
           "#B6E880",
           "#FF97FF",
           "#FECB52"
          ],
          "font": {
           "color": "#2a3f5f"
          },
          "geo": {
           "bgcolor": "white",
           "lakecolor": "white",
           "landcolor": "#E5ECF6",
           "showlakes": true,
           "showland": true,
           "subunitcolor": "white"
          },
          "hoverlabel": {
           "align": "left"
          },
          "hovermode": "closest",
          "mapbox": {
           "style": "light"
          },
          "paper_bgcolor": "white",
          "plot_bgcolor": "#E5ECF6",
          "polar": {
           "angularaxis": {
            "gridcolor": "white",
            "linecolor": "white",
            "ticks": ""
           },
           "bgcolor": "#E5ECF6",
           "radialaxis": {
            "gridcolor": "white",
            "linecolor": "white",
            "ticks": ""
           }
          },
          "scene": {
           "xaxis": {
            "backgroundcolor": "#E5ECF6",
            "gridcolor": "white",
            "gridwidth": 2,
            "linecolor": "white",
            "showbackground": true,
            "ticks": "",
            "zerolinecolor": "white"
           },
           "yaxis": {
            "backgroundcolor": "#E5ECF6",
            "gridcolor": "white",
            "gridwidth": 2,
            "linecolor": "white",
            "showbackground": true,
            "ticks": "",
            "zerolinecolor": "white"
           },
           "zaxis": {
            "backgroundcolor": "#E5ECF6",
            "gridcolor": "white",
            "gridwidth": 2,
            "linecolor": "white",
            "showbackground": true,
            "ticks": "",
            "zerolinecolor": "white"
           }
          },
          "shapedefaults": {
           "line": {
            "color": "#2a3f5f"
           }
          },
          "ternary": {
           "aaxis": {
            "gridcolor": "white",
            "linecolor": "white",
            "ticks": ""
           },
           "baxis": {
            "gridcolor": "white",
            "linecolor": "white",
            "ticks": ""
           },
           "bgcolor": "#E5ECF6",
           "caxis": {
            "gridcolor": "white",
            "linecolor": "white",
            "ticks": ""
           }
          },
          "title": {
           "x": 0.05
          },
          "xaxis": {
           "automargin": true,
           "gridcolor": "white",
           "linecolor": "white",
           "ticks": "",
           "title": {
            "standoff": 15
           },
           "zerolinecolor": "white",
           "zerolinewidth": 2
          },
          "yaxis": {
           "automargin": true,
           "gridcolor": "white",
           "linecolor": "white",
           "ticks": "",
           "title": {
            "standoff": 15
           },
           "zerolinecolor": "white",
           "zerolinewidth": 2
          }
         }
        },
        "title": {
         "text": "Average time taken to complete Registration and De-registration procedures"
        },
        "xaxis": {
         "anchor": "y",
         "domain": [
          0,
          1
         ],
         "title": {
          "text": "ues"
         }
        },
        "yaxis": {
         "anchor": "x",
         "domain": [
          0,
          1
         ],
         "title": {
          "text": "value"
         }
        }
       }
      }
     },
     "metadata": {},
     "output_type": "display_data"
    }
   ],
   "source": [
    "import pandas as pd \n",
    "\n",
    "perf_total_df = pd.read_csv(f\"{basePath}/cn_perf_time_to_completion.csv\")\n",
    "\n",
    "title='Total time taken to complete Registration and De-registration procedures'\n",
    "perf_total_fig = px.line(perf_total_df, x=\"ues\", y=[\"free5gc\", \"open5gs\", \"oai\"],\n",
    "                title=title, markers=True, labels={'variable': 'Core network', 'value': 'Time (s)'})\n",
    "perf_total_html = perf_total_fig.to_html(full_html=False, include_plotlyjs='cdn')\n",
    "with open(f\"{results_path}/cn_perf_time_to_completion.html\", 'w+') as f:\n",
    "    f.write(perf_total_html)\n",
    "\n",
    "perf_avg_df = pd.read_csv(f\"{basePath}/cn_perf_ue_avg_exp.csv\")\n",
    "\n",
    "title='Average time taken to complete Registration and De-registration procedures'\n",
    "perf_avg_fig = px.line(perf_avg_df, x=\"ues\", y=[\"free5gc\", \"open5gs\", \"oai\"],\n",
    "                title=title, markers=True)\n",
    "\n",
    "perf_avg_html = perf_avg_fig.to_html(full_html=False, include_plotlyjs='cdn')\n",
    "with open(f\"{results_path}/cn_perf_ue_avg_exp.html\", 'w+') as f:\n",
    "    f.write(perf_avg_html)"
   ]
  },
  {
   "cell_type": "code",
   "execution_count": 26,
   "metadata": {},
   "outputs": [
    {
     "name": "stdout",
     "output_type": "stream",
     "text": [
      "Index(['ues', 'free5gc', 'oai', 'open5gs'], dtype='object', name='cn')\n",
      "Index(['ues', 'free5gc', 'oai', 'open5gs'], dtype='object', name='cn')\n",
      "Index(['ues', 'free5gc', 'oai', 'open5gs'], dtype='object', name='cn')\n"
     ]
    }
   ],
   "source": [
    "\"\"\" This shows how the usage syscalls change as the load changes. \n",
    "(a) The number of syscalls as the traffic load increases\n",
    "(b) The time spent executing syscalls as the traffic increases\n",
    "(c) The average time spent per syscall as the traffic increases\n",
    "This can tell us:\n",
    "1. How the core network is architectures to respond to increasing load\n",
    "2. Comparing can tell us the core network that sends more time on syscalls. We can use that to corellate to the performance of the core network\n",
    "3. We have the details on overal performance of the core networks, we can look at the results that correlate the performance\n",
    "4. Is there a general trend to syscalls that can show well architected e.g., the latency should increase as load increase etc.\n",
    "If there is an ideal trend or correlation, does it match the trend of the core networks and correlate to the performance we are seeing\n",
    "\"\"\"\n",
    "\n",
    "top_n = 5\n",
    "syscount_df = spark.read.option(\"basePath\", basePath).json(\n",
    "f\"{basePath}/cn=*/ues=*/tool=syscount\")\n",
    "\n",
    "df_syscount = syscount_df.toPandas().groupby(['cn', 'ues']).agg({ 'count': 'sum', 'time (ms)': 'sum' }).reset_index()\n",
    "\n",
    "df_syscount['avg'] = (df_syscount['time (ms)'] / df_syscount['count'])\n",
    "\n",
    "title='Syscalls across the system (by latency)'\n",
    "syscount_fig = px.line(df_syscount, x=\"ues\", y=\"time (ms)\", color=\"cn\", labels=labels,\n",
    "                title=title, markers=True)\n",
    "# syscount_fig.show()\n",
    "syscount_fig.write_image(\"./plotly/syscount_latency.jpeg\")\n",
    "syscount_html = syscount_fig.to_html(full_html=False, include_plotlyjs='cdn')\n",
    "with open(f\"{results_path}/syscount_latency.html\", 'w+') as f:\n",
    "    f.write(syscount_html)\n",
    "\n",
    "gnuplot_df = pivot_dataframe_to_gnuplot_format(df_syscount, 'time (ms)')\n",
    "draw_gnuplot_linepoints(gnuplot_df, name='syscount_latency', title=title,\n",
    "                        xlabel='Number of UEs', ylabel=labels['time (ms)'])\n",
    "\n",
    "title=f'Syscalls across the system (by number of calls)'\n",
    "sysprocess_count_fig = px.line(df_syscount, x=\"ues\", y=\"count\", color=\"cn\", labels=labels,\n",
    "                hover_data=[\"count\", \"time (ms)\"],\n",
    "                title=title, markers=True)\n",
    "# sysprocess_count_fig.show()\n",
    "sysprocess_count_fig.write_image(\"plotly/syscount_count.jpeg\")\n",
    "sysprocess_count_html = sysprocess_count_fig.to_html(full_html=False, include_plotlyjs='cdn')\n",
    "with open(f\"{results_path}/syscount_count.html\", 'w+') as f:\n",
    "    f.write(sysprocess_count_html)\n",
    "\n",
    "gnuplot_df = pivot_dataframe_to_gnuplot_format(df_syscount, 'count')\n",
    "draw_gnuplot_linepoints(gnuplot_df, name='syscount_count', title=title,\n",
    "                        xlabel='Number of UEs', ylabel=labels['count'])\n",
    "\n",
    "title=f'Syscalls across the system (by average latency)'\n",
    "syscount_avg_fig = px.line(df_syscount, x=\"ues\", y=\"avg\", color=\"cn\", labels=labels,\n",
    "                hover_data=[\"count\", \"time (ms)\"],\n",
    "                title=title, markers=True)\n",
    "# sysprocess_count_fig.show()\n",
    "syscount_avg_fig.write_image(\"plotly/syscount_avg.jpeg\")\n",
    "syscount_avg_html = syscount_avg_fig.to_html(full_html=False, include_plotlyjs='cdn')\n",
    "with open(f\"{results_path}/syscount_avg.html\", 'w+') as f:\n",
    "    f.write(syscount_avg_html)\n",
    "\n",
    "gnuplot_df = pivot_dataframe_to_gnuplot_format(df_syscount, 'avg')\n",
    "draw_gnuplot_linepoints(gnuplot_df, name='syscount_avg', title=title,\n",
    "                        xlabel='Number of UEs', ylabel=labels['avg'])\n"
   ]
  },
  {
   "cell_type": "code",
   "execution_count": 28,
   "metadata": {},
   "outputs": [
    {
     "data": {
      "application/vnd.plotly.v1+json": {
       "config": {
        "plotlyServerURL": "https://plot.ly"
       },
       "data": [
        {
         "branchvalues": "total",
         "customdata": [
          [
           0.992496,
           "open5gs"
          ],
          [
           70.669195,
           "oai"
          ],
          [
           24.233444,
           "oai"
          ],
          [
           21.888244999999998,
           "open5gs"
          ],
          [
           636.897725,
           "free5gc"
          ],
          [
           94.110147,
           "open5gs"
          ],
          [
           8.113163,
           "free5gc"
          ],
          [
           472.062816,
           "oai"
          ],
          [
           268.349964,
           "open5gs"
          ],
          [
           21.343575,
           "free5gc"
          ],
          [
           9.649305,
           "oai"
          ],
          [
           17.057186,
           "open5gs"
          ],
          [
           12.22836,
           "free5gc"
          ],
          [
           15.165507,
           "open5gs"
          ],
          [
           13168498.707267,
           "free5gc"
          ],
          [
           8752308.778859,
           "oai"
          ],
          [
           20958673.231264,
           "open5gs"
          ],
          [
           12.593911,
           "free5gc"
          ],
          [
           40.696355999999994,
           "oai"
          ],
          [
           13.38223,
           "open5gs"
          ],
          [
           19.162052,
           "free5gc"
          ],
          [
           8.381044,
           "free5gc"
          ],
          [
           4.663259,
           "open5gs"
          ],
          [
           1.458245,
           "free5gc"
          ],
          [
           6.0192,
           "oai"
          ],
          [
           4.83267,
           "open5gs"
          ],
          [
           7.349981,
           "free5gc"
          ],
          [
           8.840786,
           "oai"
          ],
          [
           8108781.513494,
           "open5gs"
          ],
          [
           3931383.098273,
           "oai"
          ],
          [
           15.854811,
           "oai"
          ],
          [
           0.105103,
           "open5gs"
          ],
          [
           1782203.172859,
           "free5gc"
          ],
          [
           214.386125,
           "free5gc"
          ],
          [
           4.056166,
           "oai"
          ],
          [
           412.771721,
           "oai"
          ],
          [
           147.48106299999998,
           "open5gs"
          ],
          [
           9.515403,
           "oai"
          ],
          [
           5.628922,
           "free5gc"
          ],
          [
           1.713626,
           "oai"
          ],
          [
           5.333973,
           "oai"
          ],
          [
           4280.629887,
           "free5gc"
          ],
          [
           174.728494,
           "oai"
          ],
          [
           1544146.9781,
           "free5gc"
          ],
          [
           1028378.1950620001,
           "oai"
          ],
          [
           1856699.758526,
           "open5gs"
          ],
          [
           2.12865,
           "open5gs"
          ],
          [
           1881263.096471,
           "free5gc"
          ],
          [
           0.144532,
           "free5gc"
          ],
          [
           49.902797,
           "open5gs"
          ],
          [
           0.482553,
           "oai"
          ],
          [
           272.835387,
           "free5gc"
          ],
          [
           27.423571000000003,
           "oai"
          ],
          [
           1577.355351,
           "free5gc"
          ],
          [
           8.372854,
           "open5gs"
          ],
          [
           53.812977000000004,
           "oai"
          ],
          [
           46.627785,
           "free5gc"
          ],
          [
           3.874716,
           "open5gs"
          ],
          [
           219.106729,
           "oai"
          ],
          [
           43.759749,
           "open5gs"
          ],
          [
           709.885774,
           "open5gs"
          ],
          [
           10.029353,
           "oai"
          ],
          [
           1466.932512,
           "oai"
          ],
          [
           83.67155,
           "free5gc"
          ],
          [
           0.074007,
           "open5gs"
          ],
          [
           886.7058069999999,
           "open5gs"
          ],
          [
           7.9790659999999995,
           "open5gs"
          ],
          [
           161339.508734,
           "free5gc"
          ],
          [
           5.276948,
           "open5gs"
          ],
          [
           17.498255,
           "oai"
          ],
          [
           4.575936,
           "free5gc"
          ],
          [
           1653454.579811,
           "free5gc"
          ],
          [
           1281.7526460000001,
           "oai"
          ],
          [
           1976469.951477,
           "oai"
          ],
          [
           839.127601,
           "oai"
          ],
          [
           455052.261833,
           "free5gc"
          ],
          [
           457762.110544,
           "oai"
          ],
          [
           460058.558723,
           "open5gs"
          ],
          [
           1.350309,
           "free5gc"
          ],
          [
           16.90547,
           "oai"
          ],
          [
           0.122476,
           "free5gc"
          ],
          [
           23.126354,
           "free5gc"
          ],
          [
           1.831687,
           "open5gs"
          ],
          [
           1994.583371,
           "free5gc"
          ],
          [
           1935575.233767,
           "oai"
          ],
          [
           170.297821,
           "open5gs"
          ],
          [
           5.405872,
           "free5gc"
          ],
          [
           41.462109,
           "oai"
          ],
          [
           1966956.372149,
           "open5gs"
          ],
          [
           0.675016,
           "open5gs"
          ],
          [
           6.4485529999999995,
           "oai"
          ],
          [
           0.166253,
           "free5gc"
          ],
          [
           92.308258,
           "oai"
          ],
          [
           6.408189999999999,
           "open5gs"
          ],
          [
           63.184983,
           "free5gc"
          ],
          [
           5.659751,
           "open5gs"
          ],
          [
           0.728801,
           "free5gc"
          ],
          [
           7.602159,
           "oai"
          ],
          [
           5.531486,
           "open5gs"
          ],
          [
           68.102553,
           "free5gc"
          ],
          [
           2.67384,
           "free5gc"
          ],
          [
           0.837589,
           "oai"
          ],
          [
           2.642052,
           "open5gs"
          ],
          [
           4381819.48238,
           "oai"
          ],
          [
           2.832048,
           "free5gc"
          ],
          [
           11.278925,
           "oai"
          ],
          [
           33.903973,
           "free5gc"
          ],
          [
           17.760664000000002,
           "oai"
          ],
          [
           3.482065,
           "open5gs"
          ],
          [
           8.758319,
           "open5gs"
          ],
          [
           4.853164,
           "oai"
          ],
          [
           481.479991,
           "free5gc"
          ],
          [
           119.07905600000001,
           "open5gs"
          ],
          [
           0.243901,
           "free5gc"
          ],
          [
           0.044403,
           "free5gc"
          ],
          [
           9.321742,
           "oai"
          ],
          [
           1.98437,
           "open5gs"
          ],
          [
           1.355164,
           "free5gc"
          ],
          [
           0.058104,
           "open5gs"
          ],
          [
           437.905198,
           "oai"
          ],
          [
           14.913392,
           "free5gc"
          ],
          [
           1.039635,
           "open5gs"
          ],
          [
           84.23825,
           "oai"
          ],
          [
           0.23353600000000002,
           "free5gc"
          ],
          [
           9.347062,
           "open5gs"
          ],
          [
           4.042056,
           "oai"
          ],
          [
           141.289218,
           "oai"
          ],
          [
           187.54207399999999,
           "free5gc"
          ],
          [
           1.654675,
           "free5gc"
          ],
          [
           5.941022,
           "oai"
          ],
          [
           1.814993,
           "open5gs"
          ],
          [
           155.64492,
           "open5gs"
          ],
          [
           0.07089,
           "open5gs"
          ],
          [
           2.428342,
           "open5gs"
          ],
          [
           0.108216,
           "free5gc"
          ],
          [
           167.489152,
           "oai"
          ],
          [
           21.66772,
           "open5gs"
          ],
          [
           0.228875,
           "free5gc"
          ],
          [
           5.736957,
           "free5gc"
          ],
          [
           96.989733,
           "oai"
          ],
          [
           5.480587,
           "open5gs"
          ],
          [
           0.06628,
           "free5gc"
          ],
          [
           8723.81146,
           "free5gc"
          ],
          [
           266.439238,
           "oai"
          ],
          [
           0.855002,
           "open5gs"
          ],
          [
           9.548713,
           "oai"
          ],
          [
           164.94816600000001,
           "free5gc"
          ],
          [
           2.538474,
           "oai"
          ],
          [
           38.453556,
           "oai"
          ],
          [
           2.581315,
           "free5gc"
          ],
          [
           321.451914,
           "open5gs"
          ],
          [
           15.152889,
           "oai"
          ],
          [
           101.512738,
           "open5gs"
          ],
          [
           3060743.933238,
           "free5gc"
          ],
          [
           74.430406,
           "oai"
          ],
          [
           1959155.839426,
           "open5gs"
          ],
          [
           8.365821,
           "free5gc"
          ],
          [
           7.483686,
           "open5gs"
          ],
          [
           0.037134,
           "free5gc"
          ],
          [
           3.137308,
           "oai"
          ],
          [
           6.842554,
           "oai"
          ],
          [
           2.96466,
           "free5gc"
          ],
          [
           0.455301,
           "oai"
          ],
          [
           549.090969,
           "free5gc"
          ],
          [
           147.471352,
           "oai"
          ],
          [
           149.50990800000002,
           "open5gs"
          ],
          [
           990358.062718,
           "free5gc"
          ],
          [
           957087.4418789999,
           "oai"
          ],
          [
           984430.4376610001,
           "open5gs"
          ],
          [
           4.9323,
           "oai"
          ],
          [
           474.730207,
           "free5gc"
          ],
          [
           4558.067003,
           "oai"
          ],
          [
           1141.913436,
           "open5gs"
          ],
          [
           4.616738,
           "free5gc"
          ],
          [
           321.887185,
           "open5gs"
          ],
          [
           6.109323,
           "open5gs"
          ],
          [
           "(?)",
           "free5gc"
          ],
          [
           "(?)",
           "oai"
          ],
          [
           "(?)",
           "open5gs"
          ]
         ],
         "domain": {
          "x": [
           0,
           1
          ],
          "y": [
           0,
           1
          ]
         },
         "hovertemplate": "labels=%{label}<br>count=%{value}<br>parent=%{parent}<br>id=%{id}<br>time (ms)=%{customdata[0]}<br>cn=%{customdata[1]}<extra></extra>",
         "ids": [
          "open5gs/accept",
          "oai/execve",
          "oai/fcntl",
          "open5gs/fcntl",
          "free5gc/fdatasync",
          "open5gs/fdatasync",
          "free5gc/fstat",
          "oai/fstat",
          "open5gs/fstat",
          "free5gc/fsync",
          "oai/fsync",
          "open5gs/fsync",
          "free5gc/ftruncate",
          "open5gs/ftruncate",
          "free5gc/futex",
          "oai/futex",
          "open5gs/futex",
          "free5gc/getdents64",
          "oai/getdents64",
          "open5gs/getdents64",
          "free5gc/getpeername",
          "free5gc/getpid",
          "open5gs/getpid",
          "free5gc/getrandom",
          "oai/getrandom",
          "open5gs/getrandom",
          "free5gc/getrusage",
          "oai/getrusage",
          "open5gs/epoll_wait",
          "oai/epoll_wait",
          "oai/ftruncate",
          "open5gs/epoll_pwait",
          "free5gc/epoll_wait",
          "free5gc/accept4",
          "oai/accept4",
          "oai/access",
          "open5gs/access",
          "oai/alarm",
          "free5gc/bpf",
          "oai/bpf",
          "oai/brk",
          "free5gc/clock_gettime",
          "oai/clock_gettime",
          "free5gc/clock_nanosleep",
          "oai/clock_nanosleep",
          "open5gs/clock_nanosleep",
          "open5gs/bpf",
          "free5gc/epoll_pwait",
          "free5gc/clone",
          "open5gs/epoll_ctl",
          "oai/epoll_ctl",
          "free5gc/epoll_ctl",
          "oai/connect",
          "free5gc/connect",
          "open5gs/connect",
          "oai/close",
          "free5gc/close",
          "open5gs/clone",
          "oai/clone",
          "open5gs/close",
          "open5gs/openat",
          "oai/newfstatat",
          "oai/openat",
          "free5gc/openat",
          "open5gs/newfstatat",
          "open5gs/nanosleep",
          "open5gs/mprotect",
          "free5gc/nanosleep",
          "open5gs/munmap",
          "oai/munmap",
          "free5gc/munmap",
          "free5gc/poll",
          "oai/nanosleep",
          "oai/poll",
          "oai/readlinkat",
          "free5gc/ppoll",
          "oai/ppoll",
          "open5gs/ppoll",
          "free5gc/pread64",
          "oai/pread64",
          "free5gc/prlimit64",
          "free5gc/pwrite64",
          "open5gs/pwrite64",
          "free5gc/read",
          "oai/read",
          "open5gs/read",
          "free5gc/readlinkat",
          "oai/mprotect",
          "open5gs/poll",
          "open5gs/mmap",
          "oai/mkdir",
          "free5gc/mmap",
          "oai/mmap",
          "open5gs/getrusage",
          "free5gc/getsockopt",
          "open5gs/getsockopt",
          "free5gc/gettid",
          "oai/gettid",
          "open5gs/gettid",
          "free5gc/gettimeofday",
          "free5gc/inotify_add_watch",
          "oai/inotify_add_watch",
          "open5gs/inotify_add_watch",
          "oai/io_getevents",
          "free5gc/ioctl",
          "oai/ioctl",
          "free5gc/getsockname",
          "oai/keyctl",
          "open5gs/ioctl",
          "open5gs/madvise",
          "oai/madvise",
          "free5gc/madvise",
          "open5gs/lstat",
          "free5gc/mkdir",
          "free5gc/lstat",
          "oai/lseek",
          "open5gs/kill",
          "free5gc/kill",
          "open5gs/keyctl",
          "oai/lstat",
          "free5gc/tgkill",
          "open5gs/stat",
          "oai/stat",
          "free5gc/stat",
          "open5gs/socket",
          "oai/socketpair",
          "oai/socket",
          "free5gc/socket",
          "free5gc/timerfd_settime",
          "oai/signalfd4",
          "open5gs/socketpair",
          "open5gs/write",
          "open5gs/utimensat",
          "open5gs/timerfd_settime",
          "free5gc/unlink",
          "oai/unlink",
          "open5gs/unlink",
          "free5gc/unlinkat",
          "free5gc/wait4",
          "oai/wait4",
          "open5gs/wait4",
          "free5gc/waitid",
          "free5gc/write",
          "oai/write",
          "open5gs/setsockopt",
          "oai/timerfd_settime",
          "free5gc/setsockopt",
          "oai/sched_setaffinity",
          "oai/sendto",
          "free5gc/writev",
          "open5gs/readlinkat",
          "oai/recvfrom",
          "open5gs/recvfrom",
          "free5gc/recvmsg",
          "oai/recvmsg",
          "open5gs/recvmsg",
          "free5gc/rename",
          "open5gs/rename",
          "free5gc/rmdir",
          "oai/rmdir",
          "oai/rt_sigaction",
          "free5gc/rt_sigprocmask",
          "oai/sched_getaffinity",
          "free5gc/sched_yield",
          "oai/sched_yield",
          "open5gs/sched_yield",
          "free5gc/select",
          "oai/select",
          "open5gs/select",
          "oai/sendmmsg",
          "free5gc/sendmsg",
          "oai/sendmsg",
          "open5gs/sendmsg",
          "free5gc/sendto",
          "open5gs/sendto",
          "open5gs/writev",
          "free5gc",
          "oai",
          "open5gs"
         ],
         "labels": [
          "accept",
          "execve",
          "fcntl",
          "fcntl",
          "fdatasync",
          "fdatasync",
          "fstat",
          "fstat",
          "fstat",
          "fsync",
          "fsync",
          "fsync",
          "ftruncate",
          "ftruncate",
          "futex",
          "futex",
          "futex",
          "getdents64",
          "getdents64",
          "getdents64",
          "getpeername",
          "getpid",
          "getpid",
          "getrandom",
          "getrandom",
          "getrandom",
          "getrusage",
          "getrusage",
          "epoll_wait",
          "epoll_wait",
          "ftruncate",
          "epoll_pwait",
          "epoll_wait",
          "accept4",
          "accept4",
          "access",
          "access",
          "alarm",
          "bpf",
          "bpf",
          "brk",
          "clock_gettime",
          "clock_gettime",
          "clock_nanosleep",
          "clock_nanosleep",
          "clock_nanosleep",
          "bpf",
          "epoll_pwait",
          "clone",
          "epoll_ctl",
          "epoll_ctl",
          "epoll_ctl",
          "connect",
          "connect",
          "connect",
          "close",
          "close",
          "clone",
          "clone",
          "close",
          "openat",
          "newfstatat",
          "openat",
          "openat",
          "newfstatat",
          "nanosleep",
          "mprotect",
          "nanosleep",
          "munmap",
          "munmap",
          "munmap",
          "poll",
          "nanosleep",
          "poll",
          "readlinkat",
          "ppoll",
          "ppoll",
          "ppoll",
          "pread64",
          "pread64",
          "prlimit64",
          "pwrite64",
          "pwrite64",
          "read",
          "read",
          "read",
          "readlinkat",
          "mprotect",
          "poll",
          "mmap",
          "mkdir",
          "mmap",
          "mmap",
          "getrusage",
          "getsockopt",
          "getsockopt",
          "gettid",
          "gettid",
          "gettid",
          "gettimeofday",
          "inotify_add_watch",
          "inotify_add_watch",
          "inotify_add_watch",
          "io_getevents",
          "ioctl",
          "ioctl",
          "getsockname",
          "keyctl",
          "ioctl",
          "madvise",
          "madvise",
          "madvise",
          "lstat",
          "mkdir",
          "lstat",
          "lseek",
          "kill",
          "kill",
          "keyctl",
          "lstat",
          "tgkill",
          "stat",
          "stat",
          "stat",
          "socket",
          "socketpair",
          "socket",
          "socket",
          "timerfd_settime",
          "signalfd4",
          "socketpair",
          "write",
          "utimensat",
          "timerfd_settime",
          "unlink",
          "unlink",
          "unlink",
          "unlinkat",
          "wait4",
          "wait4",
          "wait4",
          "waitid",
          "write",
          "write",
          "setsockopt",
          "timerfd_settime",
          "setsockopt",
          "sched_setaffinity",
          "sendto",
          "writev",
          "readlinkat",
          "recvfrom",
          "recvfrom",
          "recvmsg",
          "recvmsg",
          "recvmsg",
          "rename",
          "rename",
          "rmdir",
          "rmdir",
          "rt_sigaction",
          "rt_sigprocmask",
          "sched_getaffinity",
          "sched_yield",
          "sched_yield",
          "sched_yield",
          "select",
          "select",
          "select",
          "sendmmsg",
          "sendmsg",
          "sendmsg",
          "sendmsg",
          "sendto",
          "sendto",
          "writev",
          "free5gc",
          "oai",
          "open5gs"
         ],
         "marker": {
          "colors": [
           "green",
           "blue",
           "blue",
           "green",
           "red",
           "green",
           "red",
           "blue",
           "green",
           "red",
           "blue",
           "green",
           "red",
           "green",
           "red",
           "blue",
           "green",
           "red",
           "blue",
           "green",
           "red",
           "red",
           "green",
           "red",
           "blue",
           "green",
           "red",
           "blue",
           "green",
           "blue",
           "blue",
           "green",
           "red",
           "red",
           "blue",
           "blue",
           "green",
           "blue",
           "red",
           "blue",
           "blue",
           "red",
           "blue",
           "red",
           "blue",
           "green",
           "green",
           "red",
           "red",
           "green",
           "blue",
           "red",
           "blue",
           "red",
           "green",
           "blue",
           "red",
           "green",
           "blue",
           "green",
           "green",
           "blue",
           "blue",
           "red",
           "green",
           "green",
           "green",
           "red",
           "green",
           "blue",
           "red",
           "red",
           "blue",
           "blue",
           "blue",
           "red",
           "blue",
           "green",
           "red",
           "blue",
           "red",
           "red",
           "green",
           "red",
           "blue",
           "green",
           "red",
           "blue",
           "green",
           "green",
           "blue",
           "red",
           "blue",
           "green",
           "red",
           "green",
           "red",
           "blue",
           "green",
           "red",
           "red",
           "blue",
           "green",
           "blue",
           "red",
           "blue",
           "red",
           "blue",
           "green",
           "green",
           "blue",
           "red",
           "green",
           "red",
           "red",
           "blue",
           "green",
           "red",
           "green",
           "blue",
           "red",
           "green",
           "blue",
           "red",
           "green",
           "blue",
           "blue",
           "red",
           "red",
           "blue",
           "green",
           "green",
           "green",
           "green",
           "red",
           "blue",
           "green",
           "red",
           "red",
           "blue",
           "green",
           "red",
           "red",
           "blue",
           "green",
           "blue",
           "red",
           "blue",
           "blue",
           "red",
           "green",
           "blue",
           "green",
           "red",
           "blue",
           "green",
           "red",
           "green",
           "red",
           "blue",
           "blue",
           "red",
           "blue",
           "red",
           "blue",
           "green",
           "red",
           "blue",
           "green",
           "blue",
           "red",
           "blue",
           "green",
           "red",
           "green",
           "green",
           "red",
           "blue",
           "green"
          ]
         },
         "name": "",
         "parents": [
          "open5gs",
          "oai",
          "oai",
          "open5gs",
          "free5gc",
          "open5gs",
          "free5gc",
          "oai",
          "open5gs",
          "free5gc",
          "oai",
          "open5gs",
          "free5gc",
          "open5gs",
          "free5gc",
          "oai",
          "open5gs",
          "free5gc",
          "oai",
          "open5gs",
          "free5gc",
          "free5gc",
          "open5gs",
          "free5gc",
          "oai",
          "open5gs",
          "free5gc",
          "oai",
          "open5gs",
          "oai",
          "oai",
          "open5gs",
          "free5gc",
          "free5gc",
          "oai",
          "oai",
          "open5gs",
          "oai",
          "free5gc",
          "oai",
          "oai",
          "free5gc",
          "oai",
          "free5gc",
          "oai",
          "open5gs",
          "open5gs",
          "free5gc",
          "free5gc",
          "open5gs",
          "oai",
          "free5gc",
          "oai",
          "free5gc",
          "open5gs",
          "oai",
          "free5gc",
          "open5gs",
          "oai",
          "open5gs",
          "open5gs",
          "oai",
          "oai",
          "free5gc",
          "open5gs",
          "open5gs",
          "open5gs",
          "free5gc",
          "open5gs",
          "oai",
          "free5gc",
          "free5gc",
          "oai",
          "oai",
          "oai",
          "free5gc",
          "oai",
          "open5gs",
          "free5gc",
          "oai",
          "free5gc",
          "free5gc",
          "open5gs",
          "free5gc",
          "oai",
          "open5gs",
          "free5gc",
          "oai",
          "open5gs",
          "open5gs",
          "oai",
          "free5gc",
          "oai",
          "open5gs",
          "free5gc",
          "open5gs",
          "free5gc",
          "oai",
          "open5gs",
          "free5gc",
          "free5gc",
          "oai",
          "open5gs",
          "oai",
          "free5gc",
          "oai",
          "free5gc",
          "oai",
          "open5gs",
          "open5gs",
          "oai",
          "free5gc",
          "open5gs",
          "free5gc",
          "free5gc",
          "oai",
          "open5gs",
          "free5gc",
          "open5gs",
          "oai",
          "free5gc",
          "open5gs",
          "oai",
          "free5gc",
          "open5gs",
          "oai",
          "oai",
          "free5gc",
          "free5gc",
          "oai",
          "open5gs",
          "open5gs",
          "open5gs",
          "open5gs",
          "free5gc",
          "oai",
          "open5gs",
          "free5gc",
          "free5gc",
          "oai",
          "open5gs",
          "free5gc",
          "free5gc",
          "oai",
          "open5gs",
          "oai",
          "free5gc",
          "oai",
          "oai",
          "free5gc",
          "open5gs",
          "oai",
          "open5gs",
          "free5gc",
          "oai",
          "open5gs",
          "free5gc",
          "open5gs",
          "free5gc",
          "oai",
          "oai",
          "free5gc",
          "oai",
          "free5gc",
          "oai",
          "open5gs",
          "free5gc",
          "oai",
          "open5gs",
          "oai",
          "free5gc",
          "oai",
          "open5gs",
          "free5gc",
          "open5gs",
          "open5gs",
          "",
          "",
          ""
         ],
         "textinfo": "label+percent root",
         "type": "sunburst",
         "values": [
          78,
          216,
          14249,
          22054,
          484,
          45,
          2915,
          69416,
          53521,
          7,
          5,
          6,
          115,
          145,
          607358,
          161478,
          67947,
          1660,
          2812,
          1754,
          14216,
          4711,
          2015,
          599,
          5111,
          4828,
          492,
          490,
          32347,
          11963,
          159,
          3,
          1162,
          28440,
          6,
          12541,
          12801,
          13576,
          1247,
          474,
          1516,
          5880830,
          88488,
          5479,
          1044,
          5491,
          561,
          619908,
          2,
          17845,
          121,
          56954,
          600,
          14230,
          101,
          86157,
          34437,
          92,
          489,
          72619,
          80702,
          3767,
          87430,
          5750,
          20,
          2579,
          1944,
          577410,
          1042,
          2073,
          794,
          1122,
          3752,
          4447,
          17568,
          161,
          479,
          168,
          8,
          5804,
          58,
          1134,
          97,
          347755,
          1979727,
          12585,
          614,
          5136,
          27213,
          166,
          287,
          10,
          18602,
          491,
          18598,
          253,
          453,
          7826,
          6999,
          73287,
          492,
          146,
          488,
          8761,
          2318,
          12702,
          28454,
          40,
          2987,
          996,
          621,
          53823,
          15406,
          14,
          6,
          13055,
          440,
          237,
          1,
          14027,
          1855,
          212,
          24827,
          31,
          193,
          208,
          1073,
          14283,
          277,
          5,
          141,
          14312,
          3,
          440,
          2,
          1618,
          1627,
          3,
          780,
          1403,
          783,
          6,
          196432,
          7245,
          272,
          1732,
          113770,
          4,
          1537,
          49,
          17864,
          4366,
          20866,
          38720,
          14214,
          35254,
          69,
          64,
          2,
          168,
          12158,
          3425,
          70,
          63255,
          672,
          3932,
          1802,
          2389,
          1700,
          86,
          20257,
          8151,
          11106,
          162,
          18272,
          55,
          8842924,
          2739087,
          575926
         ]
        }
       ],
       "layout": {
        "legend": {
         "tracegroupgap": 0
        },
        "template": {
         "data": {
          "bar": [
           {
            "error_x": {
             "color": "#2a3f5f"
            },
            "error_y": {
             "color": "#2a3f5f"
            },
            "marker": {
             "line": {
              "color": "#E5ECF6",
              "width": 0.5
             },
             "pattern": {
              "fillmode": "overlay",
              "size": 10,
              "solidity": 0.2
             }
            },
            "type": "bar"
           }
          ],
          "barpolar": [
           {
            "marker": {
             "line": {
              "color": "#E5ECF6",
              "width": 0.5
             },
             "pattern": {
              "fillmode": "overlay",
              "size": 10,
              "solidity": 0.2
             }
            },
            "type": "barpolar"
           }
          ],
          "carpet": [
           {
            "aaxis": {
             "endlinecolor": "#2a3f5f",
             "gridcolor": "white",
             "linecolor": "white",
             "minorgridcolor": "white",
             "startlinecolor": "#2a3f5f"
            },
            "baxis": {
             "endlinecolor": "#2a3f5f",
             "gridcolor": "white",
             "linecolor": "white",
             "minorgridcolor": "white",
             "startlinecolor": "#2a3f5f"
            },
            "type": "carpet"
           }
          ],
          "choropleth": [
           {
            "colorbar": {
             "outlinewidth": 0,
             "ticks": ""
            },
            "type": "choropleth"
           }
          ],
          "contour": [
           {
            "colorbar": {
             "outlinewidth": 0,
             "ticks": ""
            },
            "colorscale": [
             [
              0,
              "#0d0887"
             ],
             [
              0.1111111111111111,
              "#46039f"
             ],
             [
              0.2222222222222222,
              "#7201a8"
             ],
             [
              0.3333333333333333,
              "#9c179e"
             ],
             [
              0.4444444444444444,
              "#bd3786"
             ],
             [
              0.5555555555555556,
              "#d8576b"
             ],
             [
              0.6666666666666666,
              "#ed7953"
             ],
             [
              0.7777777777777778,
              "#fb9f3a"
             ],
             [
              0.8888888888888888,
              "#fdca26"
             ],
             [
              1,
              "#f0f921"
             ]
            ],
            "type": "contour"
           }
          ],
          "contourcarpet": [
           {
            "colorbar": {
             "outlinewidth": 0,
             "ticks": ""
            },
            "type": "contourcarpet"
           }
          ],
          "heatmap": [
           {
            "colorbar": {
             "outlinewidth": 0,
             "ticks": ""
            },
            "colorscale": [
             [
              0,
              "#0d0887"
             ],
             [
              0.1111111111111111,
              "#46039f"
             ],
             [
              0.2222222222222222,
              "#7201a8"
             ],
             [
              0.3333333333333333,
              "#9c179e"
             ],
             [
              0.4444444444444444,
              "#bd3786"
             ],
             [
              0.5555555555555556,
              "#d8576b"
             ],
             [
              0.6666666666666666,
              "#ed7953"
             ],
             [
              0.7777777777777778,
              "#fb9f3a"
             ],
             [
              0.8888888888888888,
              "#fdca26"
             ],
             [
              1,
              "#f0f921"
             ]
            ],
            "type": "heatmap"
           }
          ],
          "heatmapgl": [
           {
            "colorbar": {
             "outlinewidth": 0,
             "ticks": ""
            },
            "colorscale": [
             [
              0,
              "#0d0887"
             ],
             [
              0.1111111111111111,
              "#46039f"
             ],
             [
              0.2222222222222222,
              "#7201a8"
             ],
             [
              0.3333333333333333,
              "#9c179e"
             ],
             [
              0.4444444444444444,
              "#bd3786"
             ],
             [
              0.5555555555555556,
              "#d8576b"
             ],
             [
              0.6666666666666666,
              "#ed7953"
             ],
             [
              0.7777777777777778,
              "#fb9f3a"
             ],
             [
              0.8888888888888888,
              "#fdca26"
             ],
             [
              1,
              "#f0f921"
             ]
            ],
            "type": "heatmapgl"
           }
          ],
          "histogram": [
           {
            "marker": {
             "pattern": {
              "fillmode": "overlay",
              "size": 10,
              "solidity": 0.2
             }
            },
            "type": "histogram"
           }
          ],
          "histogram2d": [
           {
            "colorbar": {
             "outlinewidth": 0,
             "ticks": ""
            },
            "colorscale": [
             [
              0,
              "#0d0887"
             ],
             [
              0.1111111111111111,
              "#46039f"
             ],
             [
              0.2222222222222222,
              "#7201a8"
             ],
             [
              0.3333333333333333,
              "#9c179e"
             ],
             [
              0.4444444444444444,
              "#bd3786"
             ],
             [
              0.5555555555555556,
              "#d8576b"
             ],
             [
              0.6666666666666666,
              "#ed7953"
             ],
             [
              0.7777777777777778,
              "#fb9f3a"
             ],
             [
              0.8888888888888888,
              "#fdca26"
             ],
             [
              1,
              "#f0f921"
             ]
            ],
            "type": "histogram2d"
           }
          ],
          "histogram2dcontour": [
           {
            "colorbar": {
             "outlinewidth": 0,
             "ticks": ""
            },
            "colorscale": [
             [
              0,
              "#0d0887"
             ],
             [
              0.1111111111111111,
              "#46039f"
             ],
             [
              0.2222222222222222,
              "#7201a8"
             ],
             [
              0.3333333333333333,
              "#9c179e"
             ],
             [
              0.4444444444444444,
              "#bd3786"
             ],
             [
              0.5555555555555556,
              "#d8576b"
             ],
             [
              0.6666666666666666,
              "#ed7953"
             ],
             [
              0.7777777777777778,
              "#fb9f3a"
             ],
             [
              0.8888888888888888,
              "#fdca26"
             ],
             [
              1,
              "#f0f921"
             ]
            ],
            "type": "histogram2dcontour"
           }
          ],
          "mesh3d": [
           {
            "colorbar": {
             "outlinewidth": 0,
             "ticks": ""
            },
            "type": "mesh3d"
           }
          ],
          "parcoords": [
           {
            "line": {
             "colorbar": {
              "outlinewidth": 0,
              "ticks": ""
             }
            },
            "type": "parcoords"
           }
          ],
          "pie": [
           {
            "automargin": true,
            "type": "pie"
           }
          ],
          "scatter": [
           {
            "fillpattern": {
             "fillmode": "overlay",
             "size": 10,
             "solidity": 0.2
            },
            "type": "scatter"
           }
          ],
          "scatter3d": [
           {
            "line": {
             "colorbar": {
              "outlinewidth": 0,
              "ticks": ""
             }
            },
            "marker": {
             "colorbar": {
              "outlinewidth": 0,
              "ticks": ""
             }
            },
            "type": "scatter3d"
           }
          ],
          "scattercarpet": [
           {
            "marker": {
             "colorbar": {
              "outlinewidth": 0,
              "ticks": ""
             }
            },
            "type": "scattercarpet"
           }
          ],
          "scattergeo": [
           {
            "marker": {
             "colorbar": {
              "outlinewidth": 0,
              "ticks": ""
             }
            },
            "type": "scattergeo"
           }
          ],
          "scattergl": [
           {
            "marker": {
             "colorbar": {
              "outlinewidth": 0,
              "ticks": ""
             }
            },
            "type": "scattergl"
           }
          ],
          "scattermapbox": [
           {
            "marker": {
             "colorbar": {
              "outlinewidth": 0,
              "ticks": ""
             }
            },
            "type": "scattermapbox"
           }
          ],
          "scatterpolar": [
           {
            "marker": {
             "colorbar": {
              "outlinewidth": 0,
              "ticks": ""
             }
            },
            "type": "scatterpolar"
           }
          ],
          "scatterpolargl": [
           {
            "marker": {
             "colorbar": {
              "outlinewidth": 0,
              "ticks": ""
             }
            },
            "type": "scatterpolargl"
           }
          ],
          "scatterternary": [
           {
            "marker": {
             "colorbar": {
              "outlinewidth": 0,
              "ticks": ""
             }
            },
            "type": "scatterternary"
           }
          ],
          "surface": [
           {
            "colorbar": {
             "outlinewidth": 0,
             "ticks": ""
            },
            "colorscale": [
             [
              0,
              "#0d0887"
             ],
             [
              0.1111111111111111,
              "#46039f"
             ],
             [
              0.2222222222222222,
              "#7201a8"
             ],
             [
              0.3333333333333333,
              "#9c179e"
             ],
             [
              0.4444444444444444,
              "#bd3786"
             ],
             [
              0.5555555555555556,
              "#d8576b"
             ],
             [
              0.6666666666666666,
              "#ed7953"
             ],
             [
              0.7777777777777778,
              "#fb9f3a"
             ],
             [
              0.8888888888888888,
              "#fdca26"
             ],
             [
              1,
              "#f0f921"
             ]
            ],
            "type": "surface"
           }
          ],
          "table": [
           {
            "cells": {
             "fill": {
              "color": "#EBF0F8"
             },
             "line": {
              "color": "white"
             }
            },
            "header": {
             "fill": {
              "color": "#C8D4E3"
             },
             "line": {
              "color": "white"
             }
            },
            "type": "table"
           }
          ]
         },
         "layout": {
          "annotationdefaults": {
           "arrowcolor": "#2a3f5f",
           "arrowhead": 0,
           "arrowwidth": 1
          },
          "autotypenumbers": "strict",
          "coloraxis": {
           "colorbar": {
            "outlinewidth": 0,
            "ticks": ""
           }
          },
          "colorscale": {
           "diverging": [
            [
             0,
             "#8e0152"
            ],
            [
             0.1,
             "#c51b7d"
            ],
            [
             0.2,
             "#de77ae"
            ],
            [
             0.3,
             "#f1b6da"
            ],
            [
             0.4,
             "#fde0ef"
            ],
            [
             0.5,
             "#f7f7f7"
            ],
            [
             0.6,
             "#e6f5d0"
            ],
            [
             0.7,
             "#b8e186"
            ],
            [
             0.8,
             "#7fbc41"
            ],
            [
             0.9,
             "#4d9221"
            ],
            [
             1,
             "#276419"
            ]
           ],
           "sequential": [
            [
             0,
             "#0d0887"
            ],
            [
             0.1111111111111111,
             "#46039f"
            ],
            [
             0.2222222222222222,
             "#7201a8"
            ],
            [
             0.3333333333333333,
             "#9c179e"
            ],
            [
             0.4444444444444444,
             "#bd3786"
            ],
            [
             0.5555555555555556,
             "#d8576b"
            ],
            [
             0.6666666666666666,
             "#ed7953"
            ],
            [
             0.7777777777777778,
             "#fb9f3a"
            ],
            [
             0.8888888888888888,
             "#fdca26"
            ],
            [
             1,
             "#f0f921"
            ]
           ],
           "sequentialminus": [
            [
             0,
             "#0d0887"
            ],
            [
             0.1111111111111111,
             "#46039f"
            ],
            [
             0.2222222222222222,
             "#7201a8"
            ],
            [
             0.3333333333333333,
             "#9c179e"
            ],
            [
             0.4444444444444444,
             "#bd3786"
            ],
            [
             0.5555555555555556,
             "#d8576b"
            ],
            [
             0.6666666666666666,
             "#ed7953"
            ],
            [
             0.7777777777777778,
             "#fb9f3a"
            ],
            [
             0.8888888888888888,
             "#fdca26"
            ],
            [
             1,
             "#f0f921"
            ]
           ]
          },
          "colorway": [
           "#636efa",
           "#EF553B",
           "#00cc96",
           "#ab63fa",
           "#FFA15A",
           "#19d3f3",
           "#FF6692",
           "#B6E880",
           "#FF97FF",
           "#FECB52"
          ],
          "font": {
           "color": "#2a3f5f"
          },
          "geo": {
           "bgcolor": "white",
           "lakecolor": "white",
           "landcolor": "#E5ECF6",
           "showlakes": true,
           "showland": true,
           "subunitcolor": "white"
          },
          "hoverlabel": {
           "align": "left"
          },
          "hovermode": "closest",
          "mapbox": {
           "style": "light"
          },
          "paper_bgcolor": "white",
          "plot_bgcolor": "#E5ECF6",
          "polar": {
           "angularaxis": {
            "gridcolor": "white",
            "linecolor": "white",
            "ticks": ""
           },
           "bgcolor": "#E5ECF6",
           "radialaxis": {
            "gridcolor": "white",
            "linecolor": "white",
            "ticks": ""
           }
          },
          "scene": {
           "xaxis": {
            "backgroundcolor": "#E5ECF6",
            "gridcolor": "white",
            "gridwidth": 2,
            "linecolor": "white",
            "showbackground": true,
            "ticks": "",
            "zerolinecolor": "white"
           },
           "yaxis": {
            "backgroundcolor": "#E5ECF6",
            "gridcolor": "white",
            "gridwidth": 2,
            "linecolor": "white",
            "showbackground": true,
            "ticks": "",
            "zerolinecolor": "white"
           },
           "zaxis": {
            "backgroundcolor": "#E5ECF6",
            "gridcolor": "white",
            "gridwidth": 2,
            "linecolor": "white",
            "showbackground": true,
            "ticks": "",
            "zerolinecolor": "white"
           }
          },
          "shapedefaults": {
           "line": {
            "color": "#2a3f5f"
           }
          },
          "ternary": {
           "aaxis": {
            "gridcolor": "white",
            "linecolor": "white",
            "ticks": ""
           },
           "baxis": {
            "gridcolor": "white",
            "linecolor": "white",
            "ticks": ""
           },
           "bgcolor": "#E5ECF6",
           "caxis": {
            "gridcolor": "white",
            "linecolor": "white",
            "ticks": ""
           }
          },
          "title": {
           "x": 0.05
          },
          "xaxis": {
           "automargin": true,
           "gridcolor": "white",
           "linecolor": "white",
           "ticks": "",
           "title": {
            "standoff": 15
           },
           "zerolinecolor": "white",
           "zerolinewidth": 2
          },
          "yaxis": {
           "automargin": true,
           "gridcolor": "white",
           "linecolor": "white",
           "ticks": "",
           "title": {
            "standoff": 15
           },
           "zerolinecolor": "white",
           "zerolinewidth": 2
          }
         }
        },
        "title": {
         "text": "Syscalls per core network (by number of calls)"
        }
       }
      }
     },
     "metadata": {},
     "output_type": "display_data"
    }
   ],
   "source": [
    "\"\"\" Show the system calls that are called for each core network. This is aggregated for all UEs and not broken down by UE\n",
    "\n",
    "This can tell us:\n",
    "1. The system calls mostly involved and their proportional sizes per core network\n",
    "2. The core network with mostly system calls active and thier proportional sizes \n",
    "\"\"\"\n",
    "\n",
    "top_n = 5\n",
    "\n",
    "syscount_df = spark.read.option(\"basePath\", basePath).json(\n",
    "f\"{basePath}/cn=*/ues=*/tool=syscount\")\n",
    "\n",
    "df_syscount = syscount_df.toPandas().groupby(['cn', 'syscall']).agg({ 'count': 'sum', 'time (ms)': 'sum' }).reset_index()\n",
    "\n",
    "title=\"Syscalls per core network (by latency)\"\n",
    "sunburst_fig = px.sunburst(df_syscount, path=['cn', 'syscall'], values='time (ms)',\n",
    "            color_discrete_map=sunburst_colors,\n",
    "            color='cn', hover_data=['time (ms)'],\n",
    "            title=title)\n",
    "\n",
    "sunburst_fig.update_traces(textinfo=\"label+percent root\")\n",
    "# sunburst_fig.show()\n",
    "sunburst_fig.write_image(f\"plotly/grouped_syscount_latency.jpeg\")\n",
    "sunburst_html = sunburst_fig.to_html(full_html=False, include_plotlyjs='cdn')\n",
    "with open(f\"{results_path}/grouped_syscount_latency.html\", 'w+') as f:\n",
    "    f.write(sunburst_html)\n",
    "\n",
    "title=\"Syscalls per core network (by number of calls)\"\n",
    "sunburst_fig = px.sunburst(df_syscount, path=['cn', 'syscall'], values='count',\n",
    "            color_discrete_map=sunburst_colors,\n",
    "            color='cn', hover_data=['time (ms)'],\n",
    "            title=title)\n",
    "\n",
    "sunburst_fig.update_traces(textinfo=\"label+percent root\")\n",
    "sunburst_fig.show()\n",
    "sunburst_fig.write_image(f\"plotly/grouped_syscount_count.jpeg\")\n",
    "sunburst_html = sunburst_fig.to_html(full_html=False, include_plotlyjs='cdn')\n",
    "with open(f\"{results_path}/grouped_syscount_count.html\", 'w+') as f:\n",
    "    f.write(sunburst_html)\n"
   ]
  },
  {
   "cell_type": "code",
   "execution_count": 9,
   "metadata": {},
   "outputs": [
    {
     "data": {
      "text/plain": [
       "' A tabular view with ratios of the most sum of (latency per syscall, count per syscall and average latency of syscall). The tabular view will\\n1. Show us for each core network what is the ratio of a syscall precense over the other e.g., recvfrom has 4x more latency than sendto\\n2. Across core networks, we can compare the ratio of presence of a syscall e.g., free5gc invokes recvfrom 4x more than open5gs\\n3. For grouped syscalls, we can tell which flavor a given call network uses more e.g., for multiplexing syscalls, we can may see that free5gc uses\\nselect more than epoll_wait and infer based on the relative performance of them\\n4. In addition to (3), for different core networks we can see that e.g., free5gc use select which is 4x more that epoll_wait being used by open5gs.\\nTying this with the theory of the syscall we may be able to get the reasons for difference in performance\\n\\n'"
      ]
     },
     "execution_count": 9,
     "metadata": {},
     "output_type": "execute_result"
    }
   ],
   "source": [
    "\"\"\" A tabular view with ratios of the most sum of (latency per syscall, count per syscall and average latency of syscall). The tabular view will\n",
    "1. Show us for each core network what is the ratio of a syscall precense over the other e.g., recvfrom has 4x more latency than sendto\n",
    "2. Across core networks, we can compare the ratio of presence of a syscall e.g., free5gc invokes recvfrom 4x more than open5gs\n",
    "3. For grouped syscalls, we can tell which flavor a given call network uses more e.g., for multiplexing syscalls, we can may see that free5gc uses\n",
    "select more than epoll_wait and infer based on the relative performance of them\n",
    "4. In addition to (3), for different core networks we can see that e.g., free5gc use select which is 4x more that epoll_wait being used by open5gs.\n",
    "Tying this with the theory of the syscall we may be able to get the reasons for difference in performance\n",
    "\n",
    "\"\"\""
   ]
  },
  {
   "cell_type": "code",
   "execution_count": 29,
   "metadata": {},
   "outputs": [
    {
     "name": "stdout",
     "output_type": "stream",
     "text": [
      "Index(['ues', 'free5gc', 'oai', 'open5gs'], dtype='object', name='cn')\n",
      "Index(['ues', 'amf', 'ausf', 'nrf', 'pcf', 'udm', 'udr'], dtype='object', name='comm')\n",
      "Index(['ues', 'amf', 'ausf', 'nrf', 'smf', 'udm', 'udr'], dtype='object', name='comm')\n",
      "Index(['ues', 'open5gs-amfd', 'open5gs-ausfd', 'open5gs-nrfd', 'open5gs-scpd',\n",
      "       'open5gs-udmd', 'open5gs-udrd'],\n",
      "      dtype='object', name='comm')\n"
     ]
    }
   ],
   "source": [
    "\"\"\" The top X active processes per core network\n",
    "We can look at:\n",
    "1. The composition of the core network, the system calls that run or maintain the system\n",
    "2. It can tell us what the system spends most of it's time on\n",
    "3. For these we can see if they syscalls follow the 'ideal trend' of responding to traffic load\n",
    "\n",
    "\"\"\"\n",
    "top_n = 6\n",
    "\n",
    "def top_processes(df, field):\n",
    "    label_maxes = df.groupby(['comm'])[field].sum().sort_values(ascending=False)\n",
    "\n",
    "    # Select the top n labels with the highest y-values\n",
    "    top_labels = label_maxes.head(top_n).index.tolist()\n",
    "\n",
    "    return top_labels\n",
    "\n",
    "sysprocess_df = spark.read.option(\"basePath\", basePath).json(\n",
    "f\"{basePath}/cn=*/ues=*/tool=sysprocess\")\n",
    "\n",
    "df_sysprocess = sysprocess_df.toPandas()\n",
    "df_process = remove_noise_processes(df_sysprocess, 'comm', noise_processes_excl_db)\n",
    "df_process['avg'] = (df_process['time (ms)'] / df_process['count'])\n",
    "\n",
    "top_labels = top_processes(df_process, 'time (ms)')\n",
    "\n",
    "sunburst_fig = px.sunburst(df_process[df_process['comm'].isin(top_labels)], path=['cn', 'comm'], values='time (ms)',\n",
    "            color_discrete_map=sunburst_colors,\n",
    "            color='cn', hover_data=['time (ms)'],\n",
    "            title=f\"Processes making syscall (by latency)\")\n",
    "sunburst_fig.update_traces(textinfo=\"label+percent root\")\n",
    "# sunburst_fig.show()\n",
    "sunburst_fig.write_image(f\"plotly/grouped_sysprocess_latency.jpeg\")\n",
    "sunburst_html = sunburst_fig.to_html(full_html=False, include_plotlyjs='cdn')\n",
    "with open(f\"{results_path}/grouped_sysprocess_latency.html\", 'w+') as f:\n",
    "    f.write(sunburst_html)\n",
    "\n",
    "top_labels = top_processes(df_process, 'count')\n",
    "\n",
    "sunburst_fig = px.sunburst(df_process[df_process['comm'].isin(top_labels)], path=['cn', 'comm'], values='count',\n",
    "            color_discrete_map=sunburst_colors,\n",
    "            color='cn', hover_data=['time (ms)'],\n",
    "            title=f\"Processes making syscall (by number of calls)\")\n",
    "sunburst_fig.update_traces(textinfo=\"label+percent root\")\n",
    "# sunburst_fig.show()\n",
    "sunburst_fig.write_image(f\"plotly/grouped_sysprocess_count.jpeg\")\n",
    "sunburst_html = sunburst_fig.to_html(full_html=False, include_plotlyjs='cdn')\n",
    "with open(f\"{results_path}/grouped_sysprocess_count.html\", 'w+') as f:\n",
    "    f.write(sunburst_html)\n",
    "\n",
    "top_labels = top_processes(df_process, 'avg')\n",
    "\n",
    "sunburst_fig = px.sunburst(df_process[df_process['comm'].isin(top_labels)], path=['cn', 'comm'], values='avg',\n",
    "            color_discrete_map=sunburst_colors,\n",
    "            color='cn', hover_data=['time (ms)'],\n",
    "            title=f\"Processes making syscall (by average latency)\")\n",
    "sunburst_fig.update_traces(textinfo=\"label+percent root\")\n",
    "# sunburst_fig.show()\n",
    "sunburst_fig.write_image(f\"plotly/grouped_sysprocess_avg.jpeg\")\n",
    "sunburst_html = sunburst_fig.to_html(full_html=False, include_plotlyjs='cdn')\n",
    "with open(f\"{results_path}/grouped_sysprocess_avg.html\", 'w+') as f:\n",
    "    f.write(sunburst_html)\n",
    "\n",
    "# Create line graphs for the all process per core network\n",
    "top_labels = top_processes(df_process, 'count')\n",
    "df_cn_process = remove_noise_processes(df_sysprocess, 'comm', noise_processes)\n",
    "df_cn_process = df_cn_process.groupby(['ues', 'cn']).agg({ 'count': 'sum', 'time (ms)': 'sum'}).reset_index()\n",
    "\n",
    "title=f'Core networks: Top {top_n} active processes making syscall (by number of calls)'\n",
    "sysprocess_fig = px.line(df_cn_process.sort_values('ues'),\n",
    "        x=\"ues\", y=\"count\", color=\"cn\",\n",
    "        hover_data=[\"count\", \"time (ms)\"],\n",
    "        labels=labels,\n",
    "        title=title,\n",
    "        markers=True)\n",
    "# sysprocess_fig.show()\n",
    "sysprocess_fig.write_image(f\"plotly/core_network_sum_sysprocess_count.jpeg\")\n",
    "sysprocess_html = sysprocess_fig.to_html(full_html=False, include_plotlyjs='cdn')\n",
    "with open(f\"{results_path}/core_network_sum_sysprocess_count.html\", 'w+') as f:\n",
    "    f.write(sysprocess_html)\n",
    "\n",
    "gnuplot_df = pivot_dataframe_to_gnuplot_format(df_cn_process, 'count', index='ues', columns='cn')\n",
    "draw_gnuplot_linepoints(gnuplot_df, name=f'core_network_sum_sysprocess_count', title=title,\n",
    "                xlabel='Number of UEs', ylabel=labels['count'])\n",
    "\n",
    "\n",
    "# html += '</br>' + \"<h4>Performance per process</h4>\"\n",
    "# For the active processes remove databases\n",
    "df_process = remove_noise_processes(df_sysprocess, 'comm', noise_processes)\n",
    "df_process['avg'] = (df_process['time (ms)'] / df_process['count'])\n",
    "\n",
    "grouped_data = df_process.groupby(['cn'])\n",
    "for group_name, group_df in grouped_data:\n",
    "\n",
    "     top_labels = top_processes(group_df, 'count')\n",
    "\n",
    "     title=f'{group_name[0]}: Top {top_n} active processes making syscall (by number of calls)'\n",
    "     sysprocess_fig = px.line(group_df[group_df['comm'].isin(top_labels)].sort_values('ues'),\n",
    "                x=\"ues\", y=\"count\", color=\"comm\",\n",
    "                hover_data=[\"count\", \"time (ms)\"],\n",
    "                labels=labels,\n",
    "                title=title,\n",
    "                markers=True)\n",
    "    #  sysprocess_fig.show()\n",
    "     sysprocess_fig.write_image(f\"plotly/{group_name[0]}_sysprocess_count.jpeg\")\n",
    "     sysprocess_html = sysprocess_fig.to_html(full_html=False, include_plotlyjs='cdn')\n",
    "     with open(f\"{results_path}/{group_name[0]}_sysprocess_count.html\", 'w+') as f:\n",
    "        f.write(sysprocess_html)\n",
    "\n",
    "     gnuplot_df = pivot_dataframe_to_gnuplot_format(group_df[group_df['comm'].isin(top_labels)], 'count', index='ues', columns='comm')\n",
    "     draw_gnuplot_linepoints(gnuplot_df, name=f'{group_name[0]}_sysprocess_count', title=title,\n",
    "                        xlabel='Number of UEs', ylabel=labels['count'])\n",
    "     "
   ]
  },
  {
   "cell_type": "code",
   "execution_count": 30,
   "metadata": {},
   "outputs": [
    {
     "name": "stdout",
     "output_type": "stream",
     "text": [
      "Syscalls for io multiplexing\n",
      "Index(['ues', 'free5gc', 'oai', 'open5gs'], dtype='object', name='cn')\n",
      "Index(['ues', 'free5gc', 'oai', 'open5gs'], dtype='object', name='cn')\n",
      "Index(['ues', 'free5gc', 'oai', 'open5gs'], dtype='object', name='cn')\n"
     ]
    },
    {
     "name": "stderr",
     "output_type": "stream",
     "text": [
      "/var/folders/tz/ll4z7m713fl875l7yyb77pc00000gn/T/ipykernel_25805/1102642014.py:198: FutureWarning:\n",
      "\n",
      "The behavior of DataFrame concatenation with empty or all-NA entries is deprecated. In a future version, this will no longer exclude empty or all-NA columns when determining the result dtypes. To retain the old behavior, exclude the relevant entries before the concat operation.\n",
      "\n"
     ]
    },
    {
     "name": "stdout",
     "output_type": "stream",
     "text": [
      "Index(['ues', 'free5gc', 'oai', 'open5gs'], dtype='object', name='cn')\n",
      "Index(['ues', 'free5gc', 'oai', 'open5gs'], dtype='object', name='cn')\n",
      "Index(['ues', 'free5gc', 'oai', 'open5gs'], dtype='object', name='cn')\n"
     ]
    },
    {
     "name": "stderr",
     "output_type": "stream",
     "text": [
      "/var/folders/tz/ll4z7m713fl875l7yyb77pc00000gn/T/ipykernel_25805/1102642014.py:198: FutureWarning:\n",
      "\n",
      "The behavior of DataFrame concatenation with empty or all-NA entries is deprecated. In a future version, this will no longer exclude empty or all-NA columns when determining the result dtypes. To retain the old behavior, exclude the relevant entries before the concat operation.\n",
      "\n"
     ]
    },
    {
     "name": "stdout",
     "output_type": "stream",
     "text": [
      "Index(['ues', 'free5gc', 'oai', 'open5gs'], dtype='object', name='cn')\n",
      "Index(['ues', 'free5gc', 'oai', 'open5gs'], dtype='object', name='cn')\n",
      "Index(['ues', 'free5gc', 'oai', 'open5gs'], dtype='object', name='cn')\n"
     ]
    },
    {
     "name": "stderr",
     "output_type": "stream",
     "text": [
      "/var/folders/tz/ll4z7m713fl875l7yyb77pc00000gn/T/ipykernel_25805/1102642014.py:198: FutureWarning:\n",
      "\n",
      "The behavior of DataFrame concatenation with empty or all-NA entries is deprecated. In a future version, this will no longer exclude empty or all-NA columns when determining the result dtypes. To retain the old behavior, exclude the relevant entries before the concat operation.\n",
      "\n"
     ]
    },
    {
     "name": "stdout",
     "output_type": "stream",
     "text": [
      "Index(['ues', 'free5gc', 'oai', 'open5gs'], dtype='object', name='cn')\n",
      "Index(['ues', 'free5gc', 'oai', 'open5gs'], dtype='object', name='cn')\n",
      "Index(['ues', 'free5gc', 'oai', 'open5gs'], dtype='object', name='cn')\n"
     ]
    },
    {
     "name": "stderr",
     "output_type": "stream",
     "text": [
      "/var/folders/tz/ll4z7m713fl875l7yyb77pc00000gn/T/ipykernel_25805/1102642014.py:198: FutureWarning:\n",
      "\n",
      "The behavior of DataFrame concatenation with empty or all-NA entries is deprecated. In a future version, this will no longer exclude empty or all-NA columns when determining the result dtypes. To retain the old behavior, exclude the relevant entries before the concat operation.\n",
      "\n"
     ]
    },
    {
     "name": "stdout",
     "output_type": "stream",
     "text": [
      "Index(['ues', 'free5gc', 'oai', 'open5gs'], dtype='object', name='cn')\n",
      "Index(['ues', 'free5gc', 'oai', 'open5gs'], dtype='object', name='cn')\n",
      "Index(['ues', 'free5gc', 'oai', 'open5gs'], dtype='object', name='cn')\n"
     ]
    },
    {
     "name": "stderr",
     "output_type": "stream",
     "text": [
      "/var/folders/tz/ll4z7m713fl875l7yyb77pc00000gn/T/ipykernel_25805/1102642014.py:198: FutureWarning:\n",
      "\n",
      "The behavior of DataFrame concatenation with empty or all-NA entries is deprecated. In a future version, this will no longer exclude empty or all-NA columns when determining the result dtypes. To retain the old behavior, exclude the relevant entries before the concat operation.\n",
      "\n"
     ]
    },
    {
     "name": "stdout",
     "output_type": "stream",
     "text": [
      "Syscalls for read or write for files operations\n",
      "Index(['ues', 'free5gc', 'oai', 'open5gs'], dtype='object', name='cn')\n",
      "Index(['ues', 'free5gc', 'oai', 'open5gs'], dtype='object', name='cn')\n",
      "Index(['ues', 'free5gc', 'oai', 'open5gs'], dtype='object', name='cn')\n"
     ]
    },
    {
     "name": "stderr",
     "output_type": "stream",
     "text": [
      "/var/folders/tz/ll4z7m713fl875l7yyb77pc00000gn/T/ipykernel_25805/1102642014.py:198: FutureWarning:\n",
      "\n",
      "The behavior of DataFrame concatenation with empty or all-NA entries is deprecated. In a future version, this will no longer exclude empty or all-NA columns when determining the result dtypes. To retain the old behavior, exclude the relevant entries before the concat operation.\n",
      "\n"
     ]
    },
    {
     "name": "stdout",
     "output_type": "stream",
     "text": [
      "Index(['ues', 'free5gc', 'oai', 'open5gs'], dtype='object', name='cn')\n",
      "Index(['ues', 'free5gc', 'oai', 'open5gs'], dtype='object', name='cn')\n",
      "Index(['ues', 'free5gc', 'oai', 'open5gs'], dtype='object', name='cn')\n"
     ]
    },
    {
     "name": "stderr",
     "output_type": "stream",
     "text": [
      "/var/folders/tz/ll4z7m713fl875l7yyb77pc00000gn/T/ipykernel_25805/1102642014.py:198: FutureWarning:\n",
      "\n",
      "The behavior of DataFrame concatenation with empty or all-NA entries is deprecated. In a future version, this will no longer exclude empty or all-NA columns when determining the result dtypes. To retain the old behavior, exclude the relevant entries before the concat operation.\n",
      "\n"
     ]
    },
    {
     "name": "stdout",
     "output_type": "stream",
     "text": [
      "Syscalls for socket read operations\n",
      "Index(['ues', 'free5gc', 'oai', 'open5gs'], dtype='object', name='cn')\n",
      "Index(['ues', 'free5gc', 'oai', 'open5gs'], dtype='object', name='cn')\n",
      "Index(['ues', 'free5gc', 'oai', 'open5gs'], dtype='object', name='cn')\n"
     ]
    },
    {
     "name": "stderr",
     "output_type": "stream",
     "text": [
      "/var/folders/tz/ll4z7m713fl875l7yyb77pc00000gn/T/ipykernel_25805/1102642014.py:198: FutureWarning:\n",
      "\n",
      "The behavior of DataFrame concatenation with empty or all-NA entries is deprecated. In a future version, this will no longer exclude empty or all-NA columns when determining the result dtypes. To retain the old behavior, exclude the relevant entries before the concat operation.\n",
      "\n"
     ]
    },
    {
     "name": "stdout",
     "output_type": "stream",
     "text": [
      "Index(['ues', 'free5gc', 'oai', 'open5gs'], dtype='object', name='cn')\n",
      "Index(['ues', 'free5gc', 'oai', 'open5gs'], dtype='object', name='cn')\n",
      "Index(['ues', 'free5gc', 'oai', 'open5gs'], dtype='object', name='cn')\n"
     ]
    },
    {
     "name": "stderr",
     "output_type": "stream",
     "text": [
      "/var/folders/tz/ll4z7m713fl875l7yyb77pc00000gn/T/ipykernel_25805/1102642014.py:198: FutureWarning:\n",
      "\n",
      "The behavior of DataFrame concatenation with empty or all-NA entries is deprecated. In a future version, this will no longer exclude empty or all-NA columns when determining the result dtypes. To retain the old behavior, exclude the relevant entries before the concat operation.\n",
      "\n"
     ]
    },
    {
     "name": "stdout",
     "output_type": "stream",
     "text": [
      "Syscalls for socket write operations\n",
      "Index(['ues', 'free5gc', 'oai', 'open5gs'], dtype='object', name='cn')\n",
      "Index(['ues', 'free5gc', 'oai', 'open5gs'], dtype='object', name='cn')\n",
      "Index(['ues', 'free5gc', 'oai', 'open5gs'], dtype='object', name='cn')\n"
     ]
    },
    {
     "name": "stderr",
     "output_type": "stream",
     "text": [
      "/var/folders/tz/ll4z7m713fl875l7yyb77pc00000gn/T/ipykernel_25805/1102642014.py:198: FutureWarning:\n",
      "\n",
      "The behavior of DataFrame concatenation with empty or all-NA entries is deprecated. In a future version, this will no longer exclude empty or all-NA columns when determining the result dtypes. To retain the old behavior, exclude the relevant entries before the concat operation.\n",
      "\n"
     ]
    },
    {
     "name": "stdout",
     "output_type": "stream",
     "text": [
      "Index(['ues', 'free5gc', 'oai', 'open5gs'], dtype='object', name='cn')\n",
      "Index(['ues', 'free5gc', 'oai', 'open5gs'], dtype='object', name='cn')\n",
      "Index(['ues', 'free5gc', 'oai', 'open5gs'], dtype='object', name='cn')\n"
     ]
    },
    {
     "name": "stderr",
     "output_type": "stream",
     "text": [
      "/var/folders/tz/ll4z7m713fl875l7yyb77pc00000gn/T/ipykernel_25805/1102642014.py:198: FutureWarning:\n",
      "\n",
      "The behavior of DataFrame concatenation with empty or all-NA entries is deprecated. In a future version, this will no longer exclude empty or all-NA columns when determining the result dtypes. To retain the old behavior, exclude the relevant entries before the concat operation.\n",
      "\n"
     ]
    },
    {
     "name": "stdout",
     "output_type": "stream",
     "text": [
      "Syscalls for process time operations\n",
      "Index(['ues', 'free5gc', 'oai', 'open5gs'], dtype='object', name='cn')\n",
      "Index(['ues', 'free5gc', 'oai', 'open5gs'], dtype='object', name='cn')\n",
      "Index(['ues', 'free5gc', 'oai', 'open5gs'], dtype='object', name='cn')\n"
     ]
    },
    {
     "name": "stderr",
     "output_type": "stream",
     "text": [
      "/var/folders/tz/ll4z7m713fl875l7yyb77pc00000gn/T/ipykernel_25805/1102642014.py:198: FutureWarning:\n",
      "\n",
      "The behavior of DataFrame concatenation with empty or all-NA entries is deprecated. In a future version, this will no longer exclude empty or all-NA columns when determining the result dtypes. To retain the old behavior, exclude the relevant entries before the concat operation.\n",
      "\n"
     ]
    },
    {
     "name": "stdout",
     "output_type": "stream",
     "text": [
      "Index(['ues', 'free5gc', 'oai', 'open5gs'], dtype='object', name='cn')\n",
      "Index(['ues', 'free5gc', 'oai', 'open5gs'], dtype='object', name='cn')\n",
      "Index(['ues', 'free5gc', 'oai', 'open5gs'], dtype='object', name='cn')\n"
     ]
    },
    {
     "name": "stderr",
     "output_type": "stream",
     "text": [
      "/var/folders/tz/ll4z7m713fl875l7yyb77pc00000gn/T/ipykernel_25805/1102642014.py:198: FutureWarning:\n",
      "\n",
      "The behavior of DataFrame concatenation with empty or all-NA entries is deprecated. In a future version, this will no longer exclude empty or all-NA columns when determining the result dtypes. To retain the old behavior, exclude the relevant entries before the concat operation.\n",
      "\n"
     ]
    },
    {
     "name": "stdout",
     "output_type": "stream",
     "text": [
      "Syscalls for locks operations\n",
      "Index(['ues', 'free5gc', 'oai', 'open5gs'], dtype='object', name='cn')\n",
      "Index(['ues', 'free5gc', 'oai', 'open5gs'], dtype='object', name='cn')\n",
      "Index(['ues', 'free5gc', 'oai', 'open5gs'], dtype='object', name='cn')\n"
     ]
    },
    {
     "name": "stderr",
     "output_type": "stream",
     "text": [
      "/var/folders/tz/ll4z7m713fl875l7yyb77pc00000gn/T/ipykernel_25805/1102642014.py:198: FutureWarning:\n",
      "\n",
      "The behavior of DataFrame concatenation with empty or all-NA entries is deprecated. In a future version, this will no longer exclude empty or all-NA columns when determining the result dtypes. To retain the old behavior, exclude the relevant entries before the concat operation.\n",
      "\n"
     ]
    },
    {
     "name": "stdout",
     "output_type": "stream",
     "text": [
      "Syscalls for control operations\n",
      "Index(['ues', 'free5gc', 'oai', 'open5gs'], dtype='object', name='cn')\n",
      "Index(['ues', 'free5gc', 'oai', 'open5gs'], dtype='object', name='cn')\n",
      "Index(['ues', 'free5gc', 'oai', 'open5gs'], dtype='object', name='cn')\n"
     ]
    },
    {
     "name": "stderr",
     "output_type": "stream",
     "text": [
      "/var/folders/tz/ll4z7m713fl875l7yyb77pc00000gn/T/ipykernel_25805/1102642014.py:198: FutureWarning:\n",
      "\n",
      "The behavior of DataFrame concatenation with empty or all-NA entries is deprecated. In a future version, this will no longer exclude empty or all-NA columns when determining the result dtypes. To retain the old behavior, exclude the relevant entries before the concat operation.\n",
      "\n"
     ]
    }
   ],
   "source": [
    "\"\"\" For each of the syscalls, we plot for the core networks, the amount of times and occurances. \n",
    "\n",
    "This can tell us:\n",
    "1. How the core network are architected to respond to load for different operations e.g., how their socket read logic is implemented\n",
    "to work and how that responses to change in traffic load\n",
    "2. Relative to other core network which syscalls it uses the most. For example this can tell us the syscall that has the most differentiating factor, \n",
    "e.g., if all syscalls are relatively the same and there is a huge difference for sched_yield, then it is likely the differentiating syscall or design\n",
    "\n",
    "\"\"\"\n",
    "import pandas as pd\n",
    "import plotly.graph_objs as go\n",
    "\n",
    "\n",
    "def grouped_syscall_stats(df_sysprocess, syscall, writer=None):\n",
    "\n",
    "    cn_df = df_sysprocess.groupby(['cn', 'ues']).agg({ 'count': 'sum', 'time (ms)': 'sum' }).reset_index()\n",
    "\n",
    "    cn_df['avg'] = (cn_df['time (ms)'] / cn_df['count'])\n",
    "\n",
    "    title=f'Core network syscall {syscall} (by latency)'\n",
    "    sysprocess_count_fig = px.line(cn_df.sort_values('ues'),\n",
    "                    x=\"ues\", y=\"time (ms)\", color=\"cn\", \n",
    "                    hover_data=[\"count\", \"time (ms)\"],\n",
    "                    labels=labels,\n",
    "                    title=title,\n",
    "                    markers=True)\n",
    "    # sysprocess_count_fig.show()\n",
    "    sysprocess_count_fig.write_image(f\"plotly/core_network_on_{syscall}_latency.jpeg\")\n",
    "\n",
    "    gnuplot_df = pivot_dataframe_to_gnuplot_format(cn_df, 'count', index='ues', columns='cn')\n",
    "    draw_gnuplot_linepoints(gnuplot_df, name=f'core_network_on_{syscall}_latency', title=title,\n",
    "                        xlabel='Number of UEs', ylabel=labels['time (ms)'])\n",
    "    \n",
    "    title=f'Core network syscall {syscall} (by number of calls)'\n",
    "    sysprocess_count_fig = px.line(cn_df.sort_values('ues'),\n",
    "                    x=\"ues\", y=\"count\", color=\"cn\",\n",
    "                    hover_data=[\"count\", \"time (ms)\"],\n",
    "                    labels=labels,\n",
    "                    title=title,\n",
    "                    markers=True)\n",
    "    # sysprocess_count_fig.show()\n",
    "    sysprocess_count_fig.write_image(f\"plotly/core_network_on_{syscall}_count.jpeg\")\n",
    "    sysprocess_count_html = sysprocess_count_fig.to_html(full_html=False, include_plotlyjs='cdn')\n",
    "    with open(f\"{results_path}/core_network_on_{syscall}_count.html\", 'w+') as f:\n",
    "        f.write(sysprocess_count_html)\n",
    "\n",
    "    gnuplot_df = pivot_dataframe_to_gnuplot_format(cn_df, 'count', index='ues', columns='cn')\n",
    "    draw_gnuplot_linepoints(gnuplot_df, name=f'core_network_on_{syscall}_count', title=title,\n",
    "                        xlabel='Number of UEs', ylabel=labels['count'])\n",
    "\n",
    "    title=f'Core network syscall {syscall} (by average latency)'\n",
    "    sysprocess_count_fig = px.line(cn_df.sort_values('ues'),\n",
    "                    x=\"ues\", y=\"avg\", color=\"cn\",\n",
    "                    hover_data=[\"count\", \"time (ms)\"],\n",
    "                    labels=labels,\n",
    "                    title=title,\n",
    "                    markers=True)\n",
    "    # sysprocess_count_fig.show()\n",
    "    sysprocess_count_fig.write_image(f\"plotly/core_network_on_{syscall}_avg.jpeg\")\n",
    "    sysprocess_count_html = sysprocess_count_fig.to_html(full_html=False, include_plotlyjs='cdn')\n",
    "    with open(f\"{results_path}/core_network_on_{syscall}_avg.html\", 'w+') as f:\n",
    "        f.write(sysprocess_count_html)\n",
    "\n",
    "    gnuplot_df = pivot_dataframe_to_gnuplot_format(cn_df, 'avg', index='ues', columns='cn')\n",
    "    draw_gnuplot_linepoints(gnuplot_df, name=f'core_network_on_{syscall}_avg', title=title,\n",
    "                        xlabel='Number of UEs', ylabel=labels['avg'])\n",
    "\n",
    "\n",
    "    return cn_df\n",
    "\n",
    "\n",
    "def grouped_processes_stats(df_sysprocess, writer=None):\n",
    "\n",
    "    comm_df = df_sysprocess.groupby(['cn', 'comm']).agg({ 'count': 'sum', 'time (ms)': 'sum' }).reset_index()\n",
    "\n",
    "    comm_df['avg'] = (comm_df['time (ms)'] / comm_df['count'])\n",
    "\n",
    "    sunburst_fig = px.sunburst(comm_df, path=['cn', 'comm'], values='time (ms)',\n",
    "                  color_discrete_map=sunburst_colors,\n",
    "                  color='cn', hover_data=['count'],\n",
    "                  title=f\"Processes making {syscall} syscall (by latency)\")\n",
    "    sunburst_fig.update_traces(textinfo=\"label+percent root\")\n",
    "    # sunburst_fig.show()\n",
    "    sunburst_fig.write_image(f\"plotly/grouped_sysprocess_on_{syscall}_latency.jpeg\")\n",
    "    sunburst_html = sunburst_fig.to_html(full_html=False, include_plotlyjs='cdn')\n",
    "    with open(f\"{results_path}/grouped_sysprocess_on_{syscall}_latency.html\", 'w+') as f:\n",
    "        f.write(sunburst_html)\n",
    "\n",
    "    sunburst_fig = px.sunburst(comm_df, path=['cn', 'comm'], values='count',\n",
    "                  color_discrete_map=sunburst_colors,\n",
    "                  color='cn', hover_data=['time (ms)'],\n",
    "                  title=f\"Processes making {syscall} syscall (by number of calls)\")\n",
    "    sunburst_fig.update_traces(textinfo=\"label+percent root\")\n",
    "    # sunburst_fig.show()\n",
    "    sunburst_fig.write_image(f\"plotly/grouped_sysprocess_on_{syscall}_count.jpeg\")\n",
    "    sunburst_html = sunburst_fig.to_html(full_html=False, include_plotlyjs='cdn')\n",
    "    with open(f\"{results_path}/grouped_sysprocess_on_{syscall}_count.html\", 'w+') as f:\n",
    "        f.write(sunburst_html)\n",
    "\n",
    "    sunburst_fig = px.sunburst(comm_df, path=['cn', 'comm'], values='avg',\n",
    "                  color_discrete_map=sunburst_colors,\n",
    "                  color='cn', hover_data=['time (ms)'],\n",
    "                  title=f\"Processes making {syscall} syscall (by average latency)\")\n",
    "    sunburst_fig.update_traces(textinfo=\"label+percent root\")\n",
    "    # sunburst_fig.show()\n",
    "    sunburst_fig.write_image(f\"plotly/grouped_sysprocess_on_{syscall}_avg.jpeg\")\n",
    "    sunburst_html = sunburst_fig.to_html(full_html=False, include_plotlyjs='cdn')\n",
    "    with open(f\"{results_path}/grouped_sysprocess_on_{syscall}_avg.html\", 'w+') as f:\n",
    "        f.write(sunburst_html)\n",
    "\n",
    "    return comm_df\n",
    "\n",
    "def grouped_syscall_types(syscalls, syscall_type):\n",
    "\n",
    "    df = pd.DataFrame()\n",
    "    for syscall in syscalls:\n",
    "        sysprocess_df = spark.read.option(\"basePath\", basePath).json(\n",
    "            f\"{basePath}/cn=*/ues=*/tool=sysprocess_{syscall}\")\n",
    "        df1 = sysprocess_df.toPandas()\n",
    "        df1['syscall'] = syscall\n",
    "        df = pd.concat([df, df1])\n",
    "\n",
    "    df = df.reset_index(drop=True)\n",
    "    df_syscall = remove_noise_processes(df, 'comm', noise_processes)\n",
    "    syscall_df = df_syscall.groupby(['cn', 'syscall', 'comm']).agg({ 'count': 'sum', 'time (ms)': 'sum' }).reset_index()\n",
    "\n",
    "    syscall_df['avg'] = (syscall_df['time (ms)'] / syscall_df['count'])\n",
    "\n",
    "    sunburst_fig = px.sunburst(syscall_df, path=['cn', 'syscall', 'comm'], values='time (ms)',\n",
    "                  color_discrete_map=sunburst_colors,\n",
    "                  color='cn', hover_data=['count'],\n",
    "                #   title=f\"Core networks making {syscall_type} syscall (by latency)\"\n",
    "                  )\n",
    "    sunburst_fig.update_traces(textinfo=\"label+percent root\")\n",
    "    # sunburst_fig.show()\n",
    "    sunburst_fig.write_image(f\"plotly/grouped_systypes_on_{syscall_type.replace('/', '')}_latency.jpeg\")\n",
    "    sunburst_html = sunburst_fig.to_html(full_html=False, include_plotlyjs='cdn')\n",
    "    with open(f\"{results_path}/grouped_systypes_on_{syscall_type.replace('/', '')}_latency.html\", 'w+') as f:\n",
    "        f.write(sunburst_html)\n",
    "\n",
    "    sunburst_fig = px.sunburst(syscall_df, path=['cn', 'syscall', 'comm'], values='count',\n",
    "                  color_discrete_map=sunburst_colors,\n",
    "                  color='cn', hover_data=['time (ms)'],\n",
    "                #   title=f\"Core networks making {syscall_type} syscall (by number of calls)\"\n",
    "                  )\n",
    "    sunburst_fig.update_traces(textinfo=\"label+percent root\")\n",
    "    # sunburst_fig.show()\n",
    "    sunburst_fig.write_image(f\"plotly/grouped_systypes_on_{syscall_type.replace('/', '')}_count.jpeg\")\n",
    "    sunburst_html = sunburst_fig.to_html(full_html=False, include_plotlyjs='cdn')\n",
    "    with open(f\"{results_path}/grouped_systypes_on_{syscall_type.replace('/', '')}_count.html\", 'w+') as f:\n",
    "        f.write(sunburst_html)\n",
    "\n",
    "\n",
    "    sunburst_fig = px.sunburst(syscall_df, path=['cn', 'syscall', 'comm'], values='avg',\n",
    "                  color='cn', hover_data=['time (ms)'],\n",
    "                #   title=f\"Core networks making {syscall_type} syscall (by average latency)\"\n",
    "                  )\n",
    "    sunburst_fig.update_traces(textinfo=\"label+percent root\")\n",
    "    # sunburst_fig.show()\n",
    "    sunburst_fig.write_image(f\"plotly/grouped_systypes_on_{syscall_type.replace('/', '')}_avg.jpeg\")\n",
    "    sunburst_html = sunburst_fig.to_html(full_html=False, include_plotlyjs='cdn')\n",
    "    with open(f\"{results_path}/grouped_systypes_on_{syscall_type.replace('/', '')}_avg.html\", 'w+') as f:\n",
    "        f.write(sunburst_html)\n",
    "\n",
    "    return None\n",
    "\n",
    "def compute_grouped_stats(syscall, summary_df):\n",
    "    html = \"\"\n",
    "    sysprocess_df = spark.read.option(\"basePath\", basePath).json(\n",
    "    f\"{basePath}/cn=*/ues=*/tool=sysprocess_{syscall}\")\n",
    "\n",
    "    df_sysprocess = sysprocess_df.toPandas()\n",
    "    df1 = df_sysprocess\n",
    "    # df1 = remove_noise_processes(df_sysprocess, 'comm', noise_processes)\n",
    "    syscall_df, lhtml = grouped_syscall_stats(df1, syscall, writer)\n",
    "    html += '</br>' + lhtml   \n",
    "\n",
    "    comm_df, lhtml = grouped_processes_stats(df1, writer)\n",
    "    html += '</br>' + lhtml   \n",
    "\n",
    "    # Get the summary\n",
    "    df2 = comm_df.groupby(['cn']).agg({ 'count': 'sum', 'time (ms)': 'sum', 'avg': 'sum' }).reset_index()\n",
    "    \n",
    "    df2['syscall'] = syscall\n",
    "\n",
    "    summary_df = pd.concat([summary_df, df2])\n",
    "    summary_df = summary_df.reset_index(drop=True)\n",
    "    return None\n",
    "\n",
    "# writer = pd.ExcelWriter('ActiveProcessesPerSyscall-WithoutNoiseProcesses.xlsx', engine='xlsxwriter')\n",
    "writer = None\n",
    "noise_processes = ['python3', 'systemd', 'snapd', 'sshd', 'sudo', 'multipathd', 'systemd-logind', 'systemd-timesyn', 'systemd-resolve', 'systemd-udevd', 'systemd-network', 'systemctl', 'accounts-daemon', 'dbus-daemon', 'mongod', 'mysqld', '[unknown]']\n",
    "\n",
    "io_multiplex_syscalls = ['epoll_wait', 'poll', 'ppoll', 'epoll_pwait', 'select']\n",
    "grouped_syscall_types(io_multiplex_syscalls, 'IO Multiplexing')\n",
    "print(\"Syscalls for io multiplexing\")\n",
    "# Run for each syscall\n",
    "grouped_io_df = pd.DataFrame(columns=['cn', 'count', 'time (ms)', 'avg', 'syscall'])\n",
    "for syscall in io_multiplex_syscalls:\n",
    "    compute_grouped_stats(syscall, grouped_io_df)  \n",
    "\n",
    "grouped_io_df = pd.DataFrame(columns=['cn', 'count', 'time (ms)', 'avg', 'syscall'])\n",
    "socket_files_syscalls = ['read', 'write']\n",
    "grouped_syscall_types(socket_files_syscalls, 'Files')\n",
    "print(\"Syscalls for read or write for files operations\")\n",
    "for syscall in socket_files_syscalls:\n",
    "    compute_grouped_stats(syscall, grouped_io_df)\n",
    "\n",
    "grouped_io_df = pd.DataFrame(columns=['cn', 'count', 'time (ms)', 'avg', 'syscall'])\n",
    "socket_read_syscalls = [ 'recvmsg', 'recvfrom']\n",
    "grouped_syscall_types(socket_read_syscalls, 'Receive')\n",
    "print(\"Syscalls for socket read operations\")\n",
    "for syscall in socket_read_syscalls:\n",
    "    compute_grouped_stats(syscall, grouped_io_df)\n",
    "\n",
    "grouped_io_df = pd.DataFrame(columns=['cn', 'count', 'time (ms)', 'avg', 'syscall'])\n",
    "socket_write_syscalls = ['sendto', 'sendmsg' ]\n",
    "grouped_syscall_types(socket_write_syscalls, 'Send')\n",
    "print(\"Syscalls for socket write operations\")\n",
    "for syscall in socket_write_syscalls:\n",
    "    compute_grouped_stats(syscall, grouped_io_df)\n",
    "\n",
    "\n",
    "grouped_io_df = pd.DataFrame(columns=['cn', 'count', 'time (ms)', 'avg', 'syscall'])\n",
    "time_syscalls = ['clock_nanosleep', 'nanosleep']\n",
    "grouped_syscall_types(time_syscalls, 'Time')\n",
    "print(\"Syscalls for process time operations\")\n",
    "for syscall in time_syscalls:\n",
    "    compute_grouped_stats(syscall, grouped_io_df)\n",
    "\n",
    "\n",
    "grouped_io_df = pd.DataFrame(columns=['cn', 'count', 'time (ms)', 'avg', 'syscall'])\n",
    "locks_syscalls = ['futex']\n",
    "grouped_syscall_types(locks_syscalls, 'Locks')\n",
    "print(\"Syscalls for locks operations\")\n",
    "for syscall in locks_syscalls:\n",
    "    compute_grouped_stats(syscall, grouped_io_df)\n",
    "\n",
    "grouped_io_df = pd.DataFrame(columns=['cn', 'count', 'time (ms)', 'avg', 'syscall'])\n",
    "control_syscalls = ['sched_yield']\n",
    "grouped_syscall_types(control_syscalls, 'Control operations')\n",
    "\n",
    "for syscall in control_syscalls:\n",
    "    compute_grouped_stats(syscall, grouped_io_df)\n",
    "\n"
   ]
  },
  {
   "cell_type": "code",
   "execution_count": 14,
   "metadata": {},
   "outputs": [
    {
     "name": "stdout",
     "output_type": "stream",
     "text": [
      "Index(['ues', 'poll'], dtype='object', name='syscall')\n",
      "Index(['ues', 'epoll_pwait'], dtype='object', name='syscall')\n",
      "Index(['ues', 'epoll_pwait'], dtype='object', name='syscall')\n",
      "Index(['ues', 'epoll_pwait'], dtype='object', name='syscall')\n",
      "Index(['ues', 'epoll_pwait'], dtype='object', name='syscall')\n",
      "Index(['ues', 'epoll_pwait'], dtype='object', name='syscall')\n",
      "Index(['ues', 'poll'], dtype='object', name='syscall')\n",
      "Index(['ues', 'epoll_pwait'], dtype='object', name='syscall')\n",
      "Index(['ues', 'poll'], dtype='object', name='syscall')\n",
      "Index(['ues', 'epoll_pwait'], dtype='object', name='syscall')\n",
      "Index(['ues', 'epoll_pwait'], dtype='object', name='syscall')\n",
      "Index(['ues', 'epoll_pwait'], dtype='object', name='syscall')\n",
      "Index(['ues', 'poll'], dtype='object', name='syscall')\n",
      "Index(['ues', 'epoll_pwait'], dtype='object', name='syscall')\n",
      "Index(['ues', 'epoll_pwait'], dtype='object', name='syscall')\n",
      "Index(['ues', 'epoll_pwait'], dtype='object', name='syscall')\n",
      "Index(['ues', 'epoll_pwait'], dtype='object', name='syscall')\n"
     ]
    },
    {
     "name": "stderr",
     "output_type": "stream",
     "text": [
      "Warning: empty y range [2:2], adjusting to [1.98:2.02]\n"
     ]
    },
    {
     "name": "stdout",
     "output_type": "stream",
     "text": [
      "Index(['ues', 'epoll_pwait'], dtype='object', name='syscall')\n",
      "Index(['ues', 'poll'], dtype='object', name='syscall')\n",
      "Index(['ues', 'epoll_pwait'], dtype='object', name='syscall')\n"
     ]
    },
    {
     "name": "stderr",
     "output_type": "stream",
     "text": [
      "Warning: empty y range [2:2], adjusting to [1.98:2.02]\n"
     ]
    },
    {
     "name": "stdout",
     "output_type": "stream",
     "text": [
      "Index(['ues', 'poll'], dtype='object', name='syscall')\n",
      "Index(['ues', 'epoll_pwait'], dtype='object', name='syscall')\n",
      "Index(['ues', 'epoll_pwait'], dtype='object', name='syscall')\n",
      "Index(['ues', 'epoll_pwait'], dtype='object', name='syscall')\n"
     ]
    },
    {
     "name": "stderr",
     "output_type": "stream",
     "text": [
      "Warning: empty y range [2:2], adjusting to [1.98:2.02]\n"
     ]
    },
    {
     "name": "stdout",
     "output_type": "stream",
     "text": [
      "Index(['ues', 'poll'], dtype='object', name='syscall')\n",
      "Index(['ues', 'epoll_pwait'], dtype='object', name='syscall')\n",
      "Index(['ues', 'epoll_pwait'], dtype='object', name='syscall')\n",
      "Index(['ues', 'epoll_pwait'], dtype='object', name='syscall')\n",
      "Index(['ues', 'epoll_pwait'], dtype='object', name='syscall')\n",
      "Index(['ues', 'epoll_pwait'], dtype='object', name='syscall')\n",
      "Index(['ues', 'poll'], dtype='object', name='syscall')\n",
      "Index(['ues', 'epoll_pwait'], dtype='object', name='syscall')\n",
      "Index(['ues', 'poll'], dtype='object', name='syscall')\n",
      "Index(['ues', 'epoll_pwait'], dtype='object', name='syscall')\n",
      "Index(['ues', 'epoll_pwait'], dtype='object', name='syscall')\n",
      "Index(['ues', 'epoll_pwait'], dtype='object', name='syscall')\n",
      "Index(['ues', 'read', 'write'], dtype='object', name='syscall')\n",
      "Index(['ues', 'read', 'write'], dtype='object', name='syscall')\n",
      "Index(['ues', 'read', 'write'], dtype='object', name='syscall')\n",
      "Index(['ues', 'read', 'write'], dtype='object', name='syscall')\n",
      "Index(['ues', 'read', 'write'], dtype='object', name='syscall')\n",
      "Index(['ues', 'read', 'write'], dtype='object', name='syscall')\n",
      "Index(['ues', 'read', 'write'], dtype='object', name='syscall')\n",
      "Index(['ues', 'read', 'write'], dtype='object', name='syscall')\n",
      "Index(['ues', 'read', 'write'], dtype='object', name='syscall')\n",
      "Index(['ues', 'read', 'write'], dtype='object', name='syscall')\n",
      "Index(['ues', 'read', 'write'], dtype='object', name='syscall')\n",
      "Index(['ues', 'read', 'write'], dtype='object', name='syscall')\n",
      "Index(['ues', 'read', 'write'], dtype='object', name='syscall')\n",
      "Index(['ues', 'read', 'write'], dtype='object', name='syscall')\n",
      "Index(['ues', 'read', 'write'], dtype='object', name='syscall')\n",
      "Index(['ues', 'read', 'write'], dtype='object', name='syscall')\n",
      "Index(['ues', 'read', 'write'], dtype='object', name='syscall')\n",
      "Index(['ues', 'read', 'write'], dtype='object', name='syscall')\n",
      "Index(['ues', 'read', 'write'], dtype='object', name='syscall')\n",
      "Index(['ues', 'read', 'write'], dtype='object', name='syscall')\n",
      "Index(['ues', 'read', 'write'], dtype='object', name='syscall')\n",
      "Index(['ues', 'read', 'write'], dtype='object', name='syscall')\n",
      "Index(['ues', 'read', 'write'], dtype='object', name='syscall')\n",
      "Index(['ues', 'read', 'write'], dtype='object', name='syscall')\n",
      "Index(['ues', 'read', 'write'], dtype='object', name='syscall')\n",
      "Index(['ues', 'read', 'write'], dtype='object', name='syscall')\n",
      "Index(['ues', 'read', 'write'], dtype='object', name='syscall')\n",
      "Index(['ues', 'sendmsg'], dtype='object', name='syscall')\n",
      "Index(['ues', 'sendmsg'], dtype='object', name='syscall')\n",
      "Index(['ues', 'sendmsg'], dtype='object', name='syscall')\n",
      "Index(['ues', 'sendmsg'], dtype='object', name='syscall')\n"
     ]
    },
    {
     "name": "stderr",
     "output_type": "stream",
     "text": [
      "Warning: empty y range [2:2], adjusting to [1.98:2.02]\n"
     ]
    },
    {
     "name": "stdout",
     "output_type": "stream",
     "text": [
      "Index(['ues', 'sendmsg'], dtype='object', name='syscall')\n",
      "Index(['ues', 'sendmsg'], dtype='object', name='syscall')\n",
      "Index(['ues', 'recvmsg'], dtype='object', name='syscall')\n",
      "Index(['ues', 'recvmsg'], dtype='object', name='syscall')\n",
      "Index(['ues', 'recvmsg'], dtype='object', name='syscall')\n",
      "Index(['ues', 'recvmsg'], dtype='object', name='syscall')\n",
      "Index(['ues', 'recvmsg'], dtype='object', name='syscall')\n",
      "Index(['ues', 'recvmsg'], dtype='object', name='syscall')\n",
      "Index(['ues', 'recvmsg'], dtype='object', name='syscall')\n"
     ]
    },
    {
     "name": "stderr",
     "output_type": "stream",
     "text": [
      "Warning: empty y range [4:4], adjusting to [3.96:4.04]\n"
     ]
    },
    {
     "name": "stdout",
     "output_type": "stream",
     "text": [
      "Index(['ues', 'recvmsg'], dtype='object', name='syscall')\n",
      "Index(['ues', 'recvmsg'], dtype='object', name='syscall')\n",
      "Index(['ues', 'recvmsg'], dtype='object', name='syscall')\n",
      "Index(['ues', 'recvmsg'], dtype='object', name='syscall')\n",
      "Index(['ues', 'recvmsg'], dtype='object', name='syscall')\n",
      "Index(['ues', 'nanosleep'], dtype='object', name='syscall')\n",
      "Index(['ues', 'nanosleep'], dtype='object', name='syscall')\n",
      "Index(['ues', 'clock_nanosleep'], dtype='object', name='syscall')\n",
      "Index(['ues', 'nanosleep'], dtype='object', name='syscall')\n",
      "Index(['ues', 'nanosleep'], dtype='object', name='syscall')\n",
      "Index(['ues', 'nanosleep'], dtype='object', name='syscall')\n",
      "Index(['ues', 'nanosleep'], dtype='object', name='syscall')\n",
      "Index(['ues', 'nanosleep'], dtype='object', name='syscall')\n",
      "Index(['ues', 'nanosleep'], dtype='object', name='syscall')\n",
      "Index(['ues', 'nanosleep'], dtype='object', name='syscall')\n",
      "Index(['ues', 'nanosleep'], dtype='object', name='syscall')\n",
      "Index(['ues', 'nanosleep'], dtype='object', name='syscall')\n",
      "Index(['ues', 'clock_nanosleep'], dtype='object', name='syscall')\n"
     ]
    },
    {
     "name": "stderr",
     "output_type": "stream",
     "text": [
      "Warning: empty y range [1:1], adjusting to [0.99:1.01]\n"
     ]
    },
    {
     "name": "stdout",
     "output_type": "stream",
     "text": [
      "Index(['ues', 'nanosleep'], dtype='object', name='syscall')\n",
      "Index(['ues', 'nanosleep'], dtype='object', name='syscall')\n",
      "Index(['ues', 'nanosleep'], dtype='object', name='syscall')\n",
      "Index(['ues', 'nanosleep'], dtype='object', name='syscall')\n",
      "Index(['ues', 'nanosleep'], dtype='object', name='syscall')\n",
      "Index(['ues', 'nanosleep'], dtype='object', name='syscall')\n",
      "Index(['ues', 'nanosleep'], dtype='object', name='syscall')\n",
      "Index(['ues', 'nanosleep'], dtype='object', name='syscall')\n",
      "Index(['ues', 'nanosleep'], dtype='object', name='syscall')\n",
      "Index(['ues', 'clock_nanosleep'], dtype='object', name='syscall')\n",
      "Index(['ues', 'nanosleep'], dtype='object', name='syscall')\n",
      "Index(['ues', 'nanosleep'], dtype='object', name='syscall')\n",
      "Index(['ues', 'nanosleep'], dtype='object', name='syscall')\n",
      "Index(['ues', 'nanosleep'], dtype='object', name='syscall')\n",
      "Index(['ues', 'nanosleep'], dtype='object', name='syscall')\n",
      "Index(['ues', 'nanosleep'], dtype='object', name='syscall')\n",
      "Index(['ues', 'nanosleep'], dtype='object', name='syscall')\n",
      "Index(['ues', 'futex'], dtype='object', name='syscall')\n",
      "Index(['ues', 'futex'], dtype='object', name='syscall')\n",
      "Index(['ues', 'futex'], dtype='object', name='syscall')\n",
      "Index(['ues', 'futex'], dtype='object', name='syscall')\n",
      "Index(['ues', 'futex'], dtype='object', name='syscall')\n",
      "Index(['ues', 'futex'], dtype='object', name='syscall')\n",
      "Index(['ues', 'futex'], dtype='object', name='syscall')\n",
      "Index(['ues', 'futex'], dtype='object', name='syscall')\n",
      "Index(['ues', 'futex'], dtype='object', name='syscall')\n",
      "Index(['ues', 'futex'], dtype='object', name='syscall')\n",
      "Index(['ues', 'futex'], dtype='object', name='syscall')\n",
      "Index(['ues', 'futex'], dtype='object', name='syscall')\n",
      "Index(['ues', 'futex'], dtype='object', name='syscall')\n",
      "Index(['ues', 'futex'], dtype='object', name='syscall')\n",
      "Index(['ues', 'futex'], dtype='object', name='syscall')\n",
      "Index(['ues', 'futex'], dtype='object', name='syscall')\n",
      "Index(['ues', 'futex'], dtype='object', name='syscall')\n",
      "Index(['ues', 'futex'], dtype='object', name='syscall')\n",
      "Index(['ues', 'futex'], dtype='object', name='syscall')\n",
      "Index(['ues', 'futex'], dtype='object', name='syscall')\n",
      "Index(['ues', 'futex'], dtype='object', name='syscall')\n",
      "Index(['ues', 'futex'], dtype='object', name='syscall')\n",
      "Index(['ues', 'futex'], dtype='object', name='syscall')\n",
      "Index(['ues', 'futex'], dtype='object', name='syscall')\n",
      "Index(['ues', 'futex'], dtype='object', name='syscall')\n",
      "Index(['ues', 'futex'], dtype='object', name='syscall')\n",
      "Index(['ues', 'futex'], dtype='object', name='syscall')\n",
      "Index(['ues', 'futex'], dtype='object', name='syscall')\n",
      "Index(['ues', 'futex'], dtype='object', name='syscall')\n",
      "Index(['ues', 'futex'], dtype='object', name='syscall')\n",
      "Index(['ues', 'futex'], dtype='object', name='syscall')\n",
      "Index(['ues', 'futex'], dtype='object', name='syscall')\n",
      "Index(['ues', 'futex'], dtype='object', name='syscall')\n",
      "Index(['ues', 'futex'], dtype='object', name='syscall')\n",
      "Index(['ues', 'futex'], dtype='object', name='syscall')\n",
      "Index(['ues', 'futex'], dtype='object', name='syscall')\n",
      "Index(['ues', 'sched_yield'], dtype='object', name='syscall')\n",
      "Index(['ues', 'sched_yield'], dtype='object', name='syscall')\n",
      "Index(['ues', 'sched_yield'], dtype='object', name='syscall')\n",
      "Index(['ues', 'sched_yield'], dtype='object', name='syscall')\n",
      "Index(['ues', 'sched_yield'], dtype='object', name='syscall')\n"
     ]
    },
    {
     "name": "stderr",
     "output_type": "stream",
     "text": [
      "Warning: empty x range [100:100], adjusting to [99:101]\n",
      "Warning: empty y range [0.005813:0.005813], adjusting to [0.00575487:0.00587113]\n"
     ]
    },
    {
     "name": "stdout",
     "output_type": "stream",
     "text": [
      "Index(['ues', 'sched_yield'], dtype='object', name='syscall')\n",
      "Index(['ues', 'sched_yield'], dtype='object', name='syscall')\n",
      "Index(['ues', 'sched_yield'], dtype='object', name='syscall')\n",
      "Index(['ues', 'sched_yield'], dtype='object', name='syscall')\n",
      "Index(['ues', 'sched_yield'], dtype='object', name='syscall')\n",
      "Index(['ues', 'sched_yield'], dtype='object', name='syscall')\n",
      "Index(['ues', 'sched_yield'], dtype='object', name='syscall')\n"
     ]
    },
    {
     "name": "stderr",
     "output_type": "stream",
     "text": [
      "Warning: empty x range [100:100], adjusting to [99:101]\n",
      "Warning: empty y range [1:1], adjusting to [0.99:1.01]\n"
     ]
    },
    {
     "name": "stdout",
     "output_type": "stream",
     "text": [
      "Index(['ues', 'sched_yield'], dtype='object', name='syscall')\n",
      "Index(['ues', 'sched_yield'], dtype='object', name='syscall')\n",
      "Index(['ues', 'sched_yield'], dtype='object', name='syscall')\n",
      "Index(['ues', 'sched_yield'], dtype='object', name='syscall')\n",
      "Index(['ues', 'sched_yield'], dtype='object', name='syscall')\n",
      "Index(['ues', 'sched_yield'], dtype='object', name='syscall')\n",
      "Index(['ues', 'sched_yield'], dtype='object', name='syscall')\n"
     ]
    },
    {
     "name": "stderr",
     "output_type": "stream",
     "text": [
      "Warning: empty x range [100:100], adjusting to [99:101]\n",
      "Warning: empty y range [0.005813:0.005813], adjusting to [0.00575487:0.00587113]\n"
     ]
    },
    {
     "name": "stdout",
     "output_type": "stream",
     "text": [
      "Index(['ues', 'sched_yield'], dtype='object', name='syscall')\n",
      "Index(['ues', 'sched_yield'], dtype='object', name='syscall')\n",
      "Index(['ues', 'poll'], dtype='object', name='syscall')\n",
      "Index(['ues', 'epoll_wait', 'poll'], dtype='object', name='syscall')\n",
      "Index(['ues', 'epoll_wait', 'poll'], dtype='object', name='syscall')\n",
      "Index(['ues', 'epoll_wait', 'poll'], dtype='object', name='syscall')\n",
      "Index(['ues', 'poll'], dtype='object', name='syscall')\n"
     ]
    },
    {
     "name": "stderr",
     "output_type": "stream",
     "text": [
      "Warning: empty x range [5:5], adjusting to [4.95:5.05]\n",
      "Warning: empty y range [0.136756:0.136756], adjusting to [0.135388:0.138124]\n"
     ]
    },
    {
     "name": "stdout",
     "output_type": "stream",
     "text": [
      "Index(['ues', 'poll'], dtype='object', name='syscall')\n"
     ]
    },
    {
     "name": "stderr",
     "output_type": "stream",
     "text": [
      "Warning: empty x range [5:5], adjusting to [4.95:5.05]\n",
      "Warning: empty y range [0.271196:0.271196], adjusting to [0.268484:0.273908]\n"
     ]
    },
    {
     "name": "stdout",
     "output_type": "stream",
     "text": [
      "Index(['ues', 'epoll_wait', 'poll'], dtype='object', name='syscall')\n",
      "Index(['ues', 'epoll_wait', 'poll'], dtype='object', name='syscall')\n",
      "Index(['ues', 'epoll_wait', 'poll'], dtype='object', name='syscall')\n",
      "Index(['ues', 'poll'], dtype='object', name='syscall')\n",
      "Index(['ues', 'epoll_wait', 'poll'], dtype='object', name='syscall')\n",
      "Index(['ues', 'epoll_wait'], dtype='object', name='syscall')\n",
      "Index(['ues', 'epoll_wait'], dtype='object', name='syscall')\n",
      "Index(['ues', 'epoll_wait', 'poll'], dtype='object', name='syscall')\n",
      "Index(['ues', 'epoll_wait', 'poll'], dtype='object', name='syscall')\n",
      "Index(['ues', 'epoll_wait', 'poll'], dtype='object', name='syscall')\n",
      "Index(['ues', 'epoll_wait'], dtype='object', name='syscall')\n",
      "Index(['ues', 'poll'], dtype='object', name='syscall')\n",
      "Index(['ues', 'poll'], dtype='object', name='syscall')\n",
      "Index(['ues', 'poll'], dtype='object', name='syscall')\n"
     ]
    },
    {
     "name": "stderr",
     "output_type": "stream",
     "text": [
      "Warning: empty y range [10:10], adjusting to [9.9:10.1]\n"
     ]
    },
    {
     "name": "stdout",
     "output_type": "stream",
     "text": [
      "Index(['ues', 'epoll_wait', 'poll'], dtype='object', name='syscall')\n",
      "Index(['ues', 'epoll_wait', 'poll'], dtype='object', name='syscall')\n",
      "Index(['ues', 'epoll_wait', 'poll'], dtype='object', name='syscall')\n",
      "Index(['ues', 'poll'], dtype='object', name='syscall')\n"
     ]
    },
    {
     "name": "stderr",
     "output_type": "stream",
     "text": [
      "Warning: empty x range [5:5], adjusting to [4.95:5.05]\n",
      "Warning: empty y range [2:2], adjusting to [1.98:2.02]\n"
     ]
    },
    {
     "name": "stdout",
     "output_type": "stream",
     "text": [
      "Index(['ues', 'poll'], dtype='object', name='syscall')\n"
     ]
    },
    {
     "name": "stderr",
     "output_type": "stream",
     "text": [
      "Warning: empty x range [5:5], adjusting to [4.95:5.05]\n",
      "Warning: empty y range [2:2], adjusting to [1.98:2.02]\n"
     ]
    },
    {
     "name": "stdout",
     "output_type": "stream",
     "text": [
      "Index(['ues', 'epoll_wait', 'poll'], dtype='object', name='syscall')\n",
      "Index(['ues', 'epoll_wait', 'poll'], dtype='object', name='syscall')\n",
      "Index(['ues', 'epoll_wait', 'poll'], dtype='object', name='syscall')\n",
      "Index(['ues', 'poll'], dtype='object', name='syscall')\n"
     ]
    },
    {
     "name": "stderr",
     "output_type": "stream",
     "text": [
      "Warning: empty y range [2:2], adjusting to [1.98:2.02]\n"
     ]
    },
    {
     "name": "stdout",
     "output_type": "stream",
     "text": [
      "Index(['ues', 'epoll_wait', 'poll'], dtype='object', name='syscall')\n",
      "Index(['ues', 'epoll_wait'], dtype='object', name='syscall')\n",
      "Index(['ues', 'epoll_wait'], dtype='object', name='syscall')\n",
      "Index(['ues', 'epoll_wait', 'poll'], dtype='object', name='syscall')\n",
      "Index(['ues', 'epoll_wait', 'poll'], dtype='object', name='syscall')\n",
      "Index(['ues', 'epoll_wait', 'poll'], dtype='object', name='syscall')\n",
      "Index(['ues', 'epoll_wait'], dtype='object', name='syscall')\n",
      "Index(['ues', 'poll'], dtype='object', name='syscall')\n",
      "Index(['ues', 'poll'], dtype='object', name='syscall')\n",
      "Index(['ues', 'poll'], dtype='object', name='syscall')\n",
      "Index(['ues', 'epoll_wait', 'poll'], dtype='object', name='syscall')\n",
      "Index(['ues', 'epoll_wait', 'poll'], dtype='object', name='syscall')\n",
      "Index(['ues', 'epoll_wait', 'poll'], dtype='object', name='syscall')\n",
      "Index(['ues', 'poll'], dtype='object', name='syscall')\n"
     ]
    },
    {
     "name": "stderr",
     "output_type": "stream",
     "text": [
      "Warning: empty x range [5:5], adjusting to [4.95:5.05]\n",
      "Warning: empty y range [0.068378:0.068378], adjusting to [0.0676942:0.0690618]\n"
     ]
    },
    {
     "name": "stdout",
     "output_type": "stream",
     "text": [
      "Index(['ues', 'poll'], dtype='object', name='syscall')\n"
     ]
    },
    {
     "name": "stderr",
     "output_type": "stream",
     "text": [
      "Warning: empty x range [5:5], adjusting to [4.95:5.05]\n",
      "Warning: empty y range [0.135598:0.135598], adjusting to [0.134242:0.136954]\n"
     ]
    },
    {
     "name": "stdout",
     "output_type": "stream",
     "text": [
      "Index(['ues', 'epoll_wait', 'poll'], dtype='object', name='syscall')\n",
      "Index(['ues', 'epoll_wait', 'poll'], dtype='object', name='syscall')\n",
      "Index(['ues', 'epoll_wait', 'poll'], dtype='object', name='syscall')\n",
      "Index(['ues', 'poll'], dtype='object', name='syscall')\n",
      "Index(['ues', 'epoll_wait', 'poll'], dtype='object', name='syscall')\n",
      "Index(['ues', 'epoll_wait'], dtype='object', name='syscall')\n",
      "Index(['ues', 'epoll_wait'], dtype='object', name='syscall')\n",
      "Index(['ues', 'epoll_wait', 'poll'], dtype='object', name='syscall')\n",
      "Index(['ues', 'epoll_wait', 'poll'], dtype='object', name='syscall')\n",
      "Index(['ues', 'epoll_wait', 'poll'], dtype='object', name='syscall')\n",
      "Index(['ues', 'epoll_wait'], dtype='object', name='syscall')\n",
      "Index(['ues', 'poll'], dtype='object', name='syscall')\n",
      "Index(['ues', 'poll'], dtype='object', name='syscall')\n",
      "Index(['ues', 'read', 'write'], dtype='object', name='syscall')\n",
      "Index(['ues', 'read', 'write'], dtype='object', name='syscall')\n",
      "Index(['ues', 'read', 'write'], dtype='object', name='syscall')\n",
      "Index(['ues', 'write'], dtype='object', name='syscall')\n",
      "Index(['ues', 'write'], dtype='object', name='syscall')\n"
     ]
    },
    {
     "name": "stderr",
     "output_type": "stream",
     "text": [
      "Warning: empty x range [100:100], adjusting to [99:101]\n",
      "Warning: empty y range [0.023355:0.023355], adjusting to [0.0231215:0.0235885]\n"
     ]
    },
    {
     "name": "stdout",
     "output_type": "stream",
     "text": [
      "Index(['ues', 'write'], dtype='object', name='syscall')\n"
     ]
    },
    {
     "name": "stderr",
     "output_type": "stream",
     "text": [
      "Warning: empty x range [100:100], adjusting to [99:101]\n",
      "Warning: empty y range [0.091107:0.091107], adjusting to [0.0901959:0.0920181]\n"
     ]
    },
    {
     "name": "stdout",
     "output_type": "stream",
     "text": [
      "Index(['ues', 'read'], dtype='object', name='syscall')\n",
      "Index(['ues', 'read'], dtype='object', name='syscall')\n",
      "Index(['ues', 'read'], dtype='object', name='syscall')\n",
      "Index(['ues', 'read', 'write'], dtype='object', name='syscall')\n",
      "Index(['ues', 'write'], dtype='object', name='syscall')\n"
     ]
    },
    {
     "name": "stderr",
     "output_type": "stream",
     "text": [
      "Warning: empty x range [0:0], adjusting to [-1:1]\n",
      "Warning: empty y range [0.035373:0.035373], adjusting to [0.0350193:0.0357267]\n"
     ]
    },
    {
     "name": "stdout",
     "output_type": "stream",
     "text": [
      "Index(['ues', 'read', 'write'], dtype='object', name='syscall')\n",
      "Index(['ues', 'read'], dtype='object', name='syscall')\n",
      "Index(['ues', 'read', 'write'], dtype='object', name='syscall')\n",
      "Index(['ues', 'read', 'write'], dtype='object', name='syscall')\n",
      "Index(['ues', 'read', 'write'], dtype='object', name='syscall')\n",
      "Index(['ues', 'read', 'write'], dtype='object', name='syscall')\n",
      "Index(['ues', 'read', 'write'], dtype='object', name='syscall')\n",
      "Index(['ues', 'write'], dtype='object', name='syscall')\n"
     ]
    },
    {
     "name": "stderr",
     "output_type": "stream",
     "text": [
      "Warning: empty y range [4:4], adjusting to [3.96:4.04]\n"
     ]
    },
    {
     "name": "stdout",
     "output_type": "stream",
     "text": [
      "Index(['ues', 'write'], dtype='object', name='syscall')\n"
     ]
    },
    {
     "name": "stderr",
     "output_type": "stream",
     "text": [
      "Warning: empty x range [100:100], adjusting to [99:101]\n",
      "Warning: empty y range [2:2], adjusting to [1.98:2.02]\n"
     ]
    },
    {
     "name": "stdout",
     "output_type": "stream",
     "text": [
      "Index(['ues', 'write'], dtype='object', name='syscall')\n"
     ]
    },
    {
     "name": "stderr",
     "output_type": "stream",
     "text": [
      "Warning: empty x range [100:100], adjusting to [99:101]\n",
      "Warning: empty y range [16:16], adjusting to [15.84:16.16]\n"
     ]
    },
    {
     "name": "stdout",
     "output_type": "stream",
     "text": [
      "Index(['ues', 'read'], dtype='object', name='syscall')\n"
     ]
    },
    {
     "name": "stderr",
     "output_type": "stream",
     "text": [
      "Warning: empty y range [1:1], adjusting to [0.99:1.01]\n"
     ]
    },
    {
     "name": "stdout",
     "output_type": "stream",
     "text": [
      "Index(['ues', 'read'], dtype='object', name='syscall')\n"
     ]
    },
    {
     "name": "stderr",
     "output_type": "stream",
     "text": [
      "Warning: empty y range [1:1], adjusting to [0.99:1.01]\n"
     ]
    },
    {
     "name": "stdout",
     "output_type": "stream",
     "text": [
      "Index(['ues', 'read'], dtype='object', name='syscall')\n"
     ]
    },
    {
     "name": "stderr",
     "output_type": "stream",
     "text": [
      "Warning: empty y range [3:3], adjusting to [2.97:3.03]\n"
     ]
    },
    {
     "name": "stdout",
     "output_type": "stream",
     "text": [
      "Index(['ues', 'read', 'write'], dtype='object', name='syscall')\n",
      "Index(['ues', 'write'], dtype='object', name='syscall')\n"
     ]
    },
    {
     "name": "stderr",
     "output_type": "stream",
     "text": [
      "Warning: empty x range [0:0], adjusting to [-1:1]\n",
      "Warning: empty y range [2:2], adjusting to [1.98:2.02]\n"
     ]
    },
    {
     "name": "stdout",
     "output_type": "stream",
     "text": [
      "Index(['ues', 'read', 'write'], dtype='object', name='syscall')\n",
      "Index(['ues', 'read'], dtype='object', name='syscall')\n",
      "Index(['ues', 'read', 'write'], dtype='object', name='syscall')\n",
      "Index(['ues', 'read', 'write'], dtype='object', name='syscall')\n",
      "Index(['ues', 'read', 'write'], dtype='object', name='syscall')\n",
      "Index(['ues', 'read', 'write'], dtype='object', name='syscall')\n",
      "Index(['ues', 'read', 'write'], dtype='object', name='syscall')\n",
      "Index(['ues', 'write'], dtype='object', name='syscall')\n",
      "Index(['ues', 'write'], dtype='object', name='syscall')\n"
     ]
    },
    {
     "name": "stderr",
     "output_type": "stream",
     "text": [
      "Warning: empty x range [100:100], adjusting to [99:101]\n",
      "Warning: empty y range [0.0116775:0.0116775], adjusting to [0.0115607:0.0117943]\n"
     ]
    },
    {
     "name": "stdout",
     "output_type": "stream",
     "text": [
      "Index(['ues', 'write'], dtype='object', name='syscall')\n"
     ]
    },
    {
     "name": "stderr",
     "output_type": "stream",
     "text": [
      "Warning: empty x range [100:100], adjusting to [99:101]\n",
      "Warning: empty y range [0.00569419:0.00569419], adjusting to [0.00563725:0.00575113]\n"
     ]
    },
    {
     "name": "stdout",
     "output_type": "stream",
     "text": [
      "Index(['ues', 'read'], dtype='object', name='syscall')\n",
      "Index(['ues', 'read'], dtype='object', name='syscall')\n",
      "Index(['ues', 'read'], dtype='object', name='syscall')\n",
      "Index(['ues', 'read', 'write'], dtype='object', name='syscall')\n",
      "Index(['ues', 'write'], dtype='object', name='syscall')\n"
     ]
    },
    {
     "name": "stderr",
     "output_type": "stream",
     "text": [
      "Warning: empty x range [0:0], adjusting to [-1:1]\n",
      "Warning: empty y range [0.0176865:0.0176865], adjusting to [0.0175096:0.0178634]\n"
     ]
    },
    {
     "name": "stdout",
     "output_type": "stream",
     "text": [
      "Index(['ues', 'read', 'write'], dtype='object', name='syscall')\n",
      "Index(['ues', 'read'], dtype='object', name='syscall')\n",
      "Index(['ues', 'read', 'write'], dtype='object', name='syscall')\n",
      "Index(['ues', 'read', 'write'], dtype='object', name='syscall')\n",
      "Index(['ues', 'sendmsg', 'sendto'], dtype='object', name='syscall')\n",
      "Index(['ues', 'sendto'], dtype='object', name='syscall')\n",
      "Index(['ues', 'sendto'], dtype='object', name='syscall')\n",
      "Index(['ues', 'sendmsg', 'sendto'], dtype='object', name='syscall')\n",
      "Index(['ues', 'sendmsg', 'sendto'], dtype='object', name='syscall')\n",
      "Index(['ues', 'sendto'], dtype='object', name='syscall')\n",
      "Index(['ues', 'sendto'], dtype='object', name='syscall')\n",
      "Index(['ues', 'sendmsg', 'sendto'], dtype='object', name='syscall')\n",
      "Index(['ues', 'sendmsg', 'sendto'], dtype='object', name='syscall')\n",
      "Index(['ues', 'sendto'], dtype='object', name='syscall')\n",
      "Index(['ues', 'sendto'], dtype='object', name='syscall')\n",
      "Index(['ues', 'sendto'], dtype='object', name='syscall')\n",
      "Index(['ues', 'sendmsg', 'sendto'], dtype='object', name='syscall')\n",
      "Index(['ues', 'sendto'], dtype='object', name='syscall')\n",
      "Index(['ues', 'sendmsg', 'sendto'], dtype='object', name='syscall')\n",
      "Index(['ues', 'sendto'], dtype='object', name='syscall')\n",
      "Index(['ues', 'sendmsg'], dtype='object', name='syscall')\n",
      "Index(['ues', 'sendmsg', 'sendto'], dtype='object', name='syscall')\n",
      "Index(['ues', 'sendto'], dtype='object', name='syscall')\n",
      "Index(['ues', 'sendto'], dtype='object', name='syscall')\n",
      "Index(['ues', 'sendmsg', 'sendto'], dtype='object', name='syscall')\n",
      "Index(['ues', 'sendmsg', 'sendto'], dtype='object', name='syscall')\n",
      "Index(['ues', 'sendto'], dtype='object', name='syscall')\n",
      "Index(['ues', 'sendto'], dtype='object', name='syscall')\n",
      "Index(['ues', 'sendmsg', 'sendto'], dtype='object', name='syscall')\n",
      "Index(['ues', 'sendmsg', 'sendto'], dtype='object', name='syscall')\n",
      "Index(['ues', 'sendto'], dtype='object', name='syscall')\n",
      "Index(['ues', 'sendto'], dtype='object', name='syscall')\n",
      "Index(['ues', 'sendto'], dtype='object', name='syscall')\n",
      "Index(['ues', 'sendmsg', 'sendto'], dtype='object', name='syscall')\n",
      "Index(['ues', 'sendto'], dtype='object', name='syscall')\n",
      "Index(['ues', 'sendmsg', 'sendto'], dtype='object', name='syscall')\n",
      "Index(['ues', 'sendto'], dtype='object', name='syscall')\n",
      "Index(['ues', 'sendmsg'], dtype='object', name='syscall')\n"
     ]
    },
    {
     "name": "stderr",
     "output_type": "stream",
     "text": [
      "Warning: empty y range [2:2], adjusting to [1.98:2.02]\n"
     ]
    },
    {
     "name": "stdout",
     "output_type": "stream",
     "text": [
      "Index(['ues', 'sendmsg', 'sendto'], dtype='object', name='syscall')\n",
      "Index(['ues', 'sendto'], dtype='object', name='syscall')\n",
      "Index(['ues', 'sendto'], dtype='object', name='syscall')\n",
      "Index(['ues', 'sendmsg', 'sendto'], dtype='object', name='syscall')\n",
      "Index(['ues', 'sendmsg', 'sendto'], dtype='object', name='syscall')\n",
      "Index(['ues', 'sendto'], dtype='object', name='syscall')\n",
      "Index(['ues', 'sendto'], dtype='object', name='syscall')\n",
      "Index(['ues', 'sendmsg', 'sendto'], dtype='object', name='syscall')\n",
      "Index(['ues', 'sendmsg', 'sendto'], dtype='object', name='syscall')\n",
      "Index(['ues', 'sendto'], dtype='object', name='syscall')\n",
      "Index(['ues', 'sendto'], dtype='object', name='syscall')\n",
      "Index(['ues', 'sendto'], dtype='object', name='syscall')\n",
      "Index(['ues', 'sendmsg', 'sendto'], dtype='object', name='syscall')\n",
      "Index(['ues', 'sendto'], dtype='object', name='syscall')\n",
      "Index(['ues', 'sendmsg', 'sendto'], dtype='object', name='syscall')\n",
      "Index(['ues', 'sendto'], dtype='object', name='syscall')\n",
      "Index(['ues', 'sendmsg'], dtype='object', name='syscall')\n",
      "Index(['ues', 'recvmsg'], dtype='object', name='syscall')\n",
      "Index(['ues', 'recvfrom', 'recvmsg'], dtype='object', name='syscall')\n",
      "Index(['ues', 'recvfrom'], dtype='object', name='syscall')\n",
      "Index(['ues', 'recvfrom'], dtype='object', name='syscall')\n",
      "Index(['ues', 'recvmsg'], dtype='object', name='syscall')\n",
      "Index(['ues', 'recvmsg'], dtype='object', name='syscall')\n",
      "Index(['ues', 'recvfrom'], dtype='object', name='syscall')\n",
      "Index(['ues', 'recvfrom'], dtype='object', name='syscall')\n",
      "Index(['ues', 'recvfrom'], dtype='object', name='syscall')\n",
      "Index(['ues', 'recvfrom', 'recvmsg'], dtype='object', name='syscall')\n",
      "Index(['ues', 'recvfrom'], dtype='object', name='syscall')\n",
      "Index(['ues', 'recvfrom'], dtype='object', name='syscall')\n",
      "Index(['ues', 'recvfrom'], dtype='object', name='syscall')\n",
      "Index(['ues', 'recvfrom', 'recvmsg'], dtype='object', name='syscall')\n",
      "Index(['ues', 'recvfrom'], dtype='object', name='syscall')\n",
      "Index(['ues', 'recvfrom'], dtype='object', name='syscall')\n",
      "Index(['ues', 'recvfrom'], dtype='object', name='syscall')\n",
      "Index(['ues', 'recvmsg'], dtype='object', name='syscall')\n",
      "Index(['ues', 'recvmsg'], dtype='object', name='syscall')\n",
      "Index(['ues', 'recvmsg'], dtype='object', name='syscall')\n",
      "Index(['ues', 'recvfrom', 'recvmsg'], dtype='object', name='syscall')\n",
      "Index(['ues', 'recvfrom'], dtype='object', name='syscall')\n",
      "Index(['ues', 'recvfrom'], dtype='object', name='syscall')\n",
      "Index(['ues', 'recvmsg'], dtype='object', name='syscall')\n",
      "Index(['ues', 'recvmsg'], dtype='object', name='syscall')\n",
      "Index(['ues', 'recvfrom'], dtype='object', name='syscall')\n",
      "Index(['ues', 'recvfrom'], dtype='object', name='syscall')\n"
     ]
    },
    {
     "name": "stderr",
     "output_type": "stream",
     "text": [
      "Warning: empty y range [21:21], adjusting to [20.79:21.21]\n"
     ]
    },
    {
     "name": "stdout",
     "output_type": "stream",
     "text": [
      "Index(['ues', 'recvfrom'], dtype='object', name='syscall')\n",
      "Index(['ues', 'recvfrom', 'recvmsg'], dtype='object', name='syscall')\n",
      "Index(['ues', 'recvfrom'], dtype='object', name='syscall')\n",
      "Index(['ues', 'recvfrom'], dtype='object', name='syscall')\n",
      "Index(['ues', 'recvfrom'], dtype='object', name='syscall')\n",
      "Index(['ues', 'recvfrom', 'recvmsg'], dtype='object', name='syscall')\n",
      "Index(['ues', 'recvfrom'], dtype='object', name='syscall')\n",
      "Index(['ues', 'recvfrom'], dtype='object', name='syscall')\n",
      "Index(['ues', 'recvfrom'], dtype='object', name='syscall')\n",
      "Index(['ues', 'recvmsg'], dtype='object', name='syscall')\n"
     ]
    },
    {
     "name": "stderr",
     "output_type": "stream",
     "text": [
      "Warning: empty y range [4:4], adjusting to [3.96:4.04]\n"
     ]
    },
    {
     "name": "stdout",
     "output_type": "stream",
     "text": [
      "Index(['ues', 'recvmsg'], dtype='object', name='syscall')\n",
      "Index(['ues', 'recvmsg'], dtype='object', name='syscall')\n",
      "Index(['ues', 'recvfrom', 'recvmsg'], dtype='object', name='syscall')\n",
      "Index(['ues', 'recvfrom'], dtype='object', name='syscall')\n",
      "Index(['ues', 'recvfrom'], dtype='object', name='syscall')\n",
      "Index(['ues', 'recvmsg'], dtype='object', name='syscall')\n",
      "Index(['ues', 'recvmsg'], dtype='object', name='syscall')\n",
      "Index(['ues', 'recvfrom'], dtype='object', name='syscall')\n",
      "Index(['ues', 'recvfrom'], dtype='object', name='syscall')\n",
      "Index(['ues', 'recvfrom'], dtype='object', name='syscall')\n",
      "Index(['ues', 'recvfrom', 'recvmsg'], dtype='object', name='syscall')\n",
      "Index(['ues', 'recvfrom'], dtype='object', name='syscall')\n",
      "Index(['ues', 'recvfrom'], dtype='object', name='syscall')\n",
      "Index(['ues', 'recvfrom'], dtype='object', name='syscall')\n",
      "Index(['ues', 'recvfrom', 'recvmsg'], dtype='object', name='syscall')\n",
      "Index(['ues', 'recvfrom'], dtype='object', name='syscall')\n",
      "Index(['ues', 'recvfrom'], dtype='object', name='syscall')\n",
      "Index(['ues', 'recvfrom'], dtype='object', name='syscall')\n",
      "Index(['ues', 'recvmsg'], dtype='object', name='syscall')\n",
      "Index(['ues', 'recvmsg'], dtype='object', name='syscall')\n",
      "Index(['ues', 'clock_nanosleep'], dtype='object', name='syscall')\n",
      "Index(['ues', 'clock_nanosleep'], dtype='object', name='syscall')\n",
      "Index(['ues', 'clock_nanosleep'], dtype='object', name='syscall')\n",
      "Index(['ues', 'clock_nanosleep'], dtype='object', name='syscall')\n"
     ]
    },
    {
     "name": "stderr",
     "output_type": "stream",
     "text": [
      "Warning: empty y range [1:1], adjusting to [0.99:1.01]\n"
     ]
    },
    {
     "name": "stdout",
     "output_type": "stream",
     "text": [
      "Index(['ues', 'clock_nanosleep'], dtype='object', name='syscall')\n"
     ]
    },
    {
     "name": "stderr",
     "output_type": "stream",
     "text": [
      "Warning: empty y range [1:1], adjusting to [0.99:1.01]\n"
     ]
    },
    {
     "name": "stdout",
     "output_type": "stream",
     "text": [
      "Index(['ues', 'clock_nanosleep'], dtype='object', name='syscall')\n"
     ]
    },
    {
     "name": "stderr",
     "output_type": "stream",
     "text": [
      "Warning: empty y range [1:1], adjusting to [0.99:1.01]\n"
     ]
    },
    {
     "name": "stdout",
     "output_type": "stream",
     "text": [
      "Index(['ues', 'clock_nanosleep'], dtype='object', name='syscall')\n",
      "Index(['ues', 'clock_nanosleep'], dtype='object', name='syscall')\n",
      "Index(['ues', 'clock_nanosleep'], dtype='object', name='syscall')\n",
      "Index(['ues', 'futex'], dtype='object', name='syscall')\n",
      "Index(['ues', 'futex'], dtype='object', name='syscall')\n",
      "Index(['ues', 'futex'], dtype='object', name='syscall')\n",
      "Index(['ues', 'futex'], dtype='object', name='syscall')\n",
      "Index(['ues', 'futex'], dtype='object', name='syscall')\n",
      "Index(['ues', 'futex'], dtype='object', name='syscall')\n",
      "Index(['ues', 'futex'], dtype='object', name='syscall')\n",
      "Index(['ues', 'futex'], dtype='object', name='syscall')\n",
      "Index(['ues', 'futex'], dtype='object', name='syscall')\n",
      "Index(['ues', 'futex'], dtype='object', name='syscall')\n",
      "Index(['ues', 'futex'], dtype='object', name='syscall')\n",
      "Index(['ues', 'futex'], dtype='object', name='syscall')\n",
      "Index(['ues', 'futex'], dtype='object', name='syscall')\n",
      "Index(['ues', 'futex'], dtype='object', name='syscall')\n",
      "Index(['ues', 'futex'], dtype='object', name='syscall')\n",
      "Index(['ues', 'futex'], dtype='object', name='syscall')\n",
      "Index(['ues', 'futex'], dtype='object', name='syscall')\n",
      "Index(['ues', 'futex'], dtype='object', name='syscall')\n",
      "Index(['ues', 'futex'], dtype='object', name='syscall')\n",
      "Index(['ues', 'futex'], dtype='object', name='syscall')\n",
      "Index(['ues', 'futex'], dtype='object', name='syscall')\n",
      "Index(['ues', 'epoll_wait', 'poll'], dtype='object', name='syscall')\n",
      "Index(['ues', 'epoll_wait'], dtype='object', name='syscall')\n",
      "Index(['ues', 'epoll_wait', 'poll'], dtype='object', name='syscall')\n",
      "Index(['ues', 'epoll_wait', 'poll'], dtype='object', name='syscall')\n",
      "Index(['ues', 'epoll_wait', 'poll'], dtype='object', name='syscall')\n",
      "Index(['ues', 'epoll_wait', 'poll'], dtype='object', name='syscall')\n",
      "Index(['ues', 'epoll_wait'], dtype='object', name='syscall')\n",
      "Index(['ues', 'epoll_wait', 'poll'], dtype='object', name='syscall')\n",
      "Index(['ues', 'epoll_wait', 'poll'], dtype='object', name='syscall')\n",
      "Index(['ues', 'epoll_wait', 'poll'], dtype='object', name='syscall')\n",
      "Index(['ues', 'epoll_wait', 'poll'], dtype='object', name='syscall')\n",
      "Index(['ues', 'epoll_wait'], dtype='object', name='syscall')\n",
      "Index(['ues', 'epoll_wait', 'poll'], dtype='object', name='syscall')\n",
      "Index(['ues', 'epoll_wait', 'poll'], dtype='object', name='syscall')\n",
      "Index(['ues', 'epoll_wait', 'poll'], dtype='object', name='syscall')\n",
      "Index(['ues', 'write'], dtype='object', name='syscall')\n"
     ]
    },
    {
     "name": "stderr",
     "output_type": "stream",
     "text": [
      "Warning: empty x range [0:0], adjusting to [-1:1]\n",
      "Warning: empty y range [0.032638:0.032638], adjusting to [0.0323116:0.0329644]\n"
     ]
    },
    {
     "name": "stdout",
     "output_type": "stream",
     "text": [
      "Index(['ues', 'write'], dtype='object', name='syscall')\n",
      "Index(['ues', 'read', 'write'], dtype='object', name='syscall')\n",
      "Index(['ues', 'read', 'write'], dtype='object', name='syscall')\n",
      "Index(['ues', 'write'], dtype='object', name='syscall')\n"
     ]
    },
    {
     "name": "stderr",
     "output_type": "stream",
     "text": [
      "Warning: empty x range [0:0], adjusting to [-1:1]\n",
      "Warning: empty y range [0.061708:0.061708], adjusting to [0.0610909:0.0623251]\n"
     ]
    },
    {
     "name": "stdout",
     "output_type": "stream",
     "text": [
      "Index(['ues', 'read', 'write'], dtype='object', name='syscall')\n",
      "Index(['ues', 'read', 'write'], dtype='object', name='syscall')\n",
      "Index(['ues', 'read'], dtype='object', name='syscall')\n",
      "Index(['ues', 'write'], dtype='object', name='syscall')\n",
      "Index(['ues', 'read', 'write'], dtype='object', name='syscall')\n",
      "Index(['ues', 'read', 'write'], dtype='object', name='syscall')\n",
      "Index(['ues', 'write'], dtype='object', name='syscall')\n"
     ]
    },
    {
     "name": "stderr",
     "output_type": "stream",
     "text": [
      "Warning: empty x range [0:0], adjusting to [-1:1]\n",
      "Warning: empty y range [10:10], adjusting to [9.9:10.1]\n"
     ]
    },
    {
     "name": "stdout",
     "output_type": "stream",
     "text": [
      "Index(['ues', 'write'], dtype='object', name='syscall')\n",
      "Index(['ues', 'read', 'write'], dtype='object', name='syscall')\n",
      "Index(['ues', 'read', 'write'], dtype='object', name='syscall')\n",
      "Index(['ues', 'write'], dtype='object', name='syscall')\n"
     ]
    },
    {
     "name": "stderr",
     "output_type": "stream",
     "text": [
      "Warning: empty x range [0:0], adjusting to [-1:1]\n",
      "Warning: empty y range [16:16], adjusting to [15.84:16.16]\n"
     ]
    },
    {
     "name": "stdout",
     "output_type": "stream",
     "text": [
      "Index(['ues', 'read', 'write'], dtype='object', name='syscall')\n",
      "Index(['ues', 'read', 'write'], dtype='object', name='syscall')\n",
      "Index(['ues', 'read'], dtype='object', name='syscall')\n"
     ]
    },
    {
     "name": "stderr",
     "output_type": "stream",
     "text": [
      "Warning: empty y range [39:39], adjusting to [38.61:39.39]\n"
     ]
    },
    {
     "name": "stdout",
     "output_type": "stream",
     "text": [
      "Index(['ues', 'write'], dtype='object', name='syscall')\n",
      "Index(['ues', 'read', 'write'], dtype='object', name='syscall')\n",
      "Index(['ues', 'read', 'write'], dtype='object', name='syscall')\n",
      "Index(['ues', 'write'], dtype='object', name='syscall')\n"
     ]
    },
    {
     "name": "stderr",
     "output_type": "stream",
     "text": [
      "Warning: empty x range [0:0], adjusting to [-1:1]\n",
      "Warning: empty y range [0.0032638:0.0032638], adjusting to [0.00323116:0.00329644]\n"
     ]
    },
    {
     "name": "stdout",
     "output_type": "stream",
     "text": [
      "Index(['ues', 'write'], dtype='object', name='syscall')\n",
      "Index(['ues', 'read', 'write'], dtype='object', name='syscall')\n",
      "Index(['ues', 'read', 'write'], dtype='object', name='syscall')\n",
      "Index(['ues', 'write'], dtype='object', name='syscall')\n"
     ]
    },
    {
     "name": "stderr",
     "output_type": "stream",
     "text": [
      "Warning: empty x range [0:0], adjusting to [-1:1]\n",
      "Warning: empty y range [0.00385675:0.00385675], adjusting to [0.00381818:0.00389532]\n"
     ]
    },
    {
     "name": "stdout",
     "output_type": "stream",
     "text": [
      "Index(['ues', 'read', 'write'], dtype='object', name='syscall')\n",
      "Index(['ues', 'read', 'write'], dtype='object', name='syscall')\n",
      "Index(['ues', 'read'], dtype='object', name='syscall')\n",
      "Index(['ues', 'write'], dtype='object', name='syscall')\n",
      "Index(['ues', 'read', 'write'], dtype='object', name='syscall')\n",
      "Index(['ues', 'read', 'write'], dtype='object', name='syscall')\n",
      "Index(['ues', 'sendto'], dtype='object', name='syscall')\n",
      "Index(['ues', 'sendto'], dtype='object', name='syscall')\n",
      "Index(['ues', 'sendmsg', 'sendto'], dtype='object', name='syscall')\n",
      "Index(['ues', 'sendto'], dtype='object', name='syscall')\n",
      "Index(['ues', 'sendto'], dtype='object', name='syscall')\n",
      "Index(['ues', 'sendto'], dtype='object', name='syscall')\n",
      "Index(['ues', 'sendto'], dtype='object', name='syscall')\n",
      "Index(['ues', 'sendto'], dtype='object', name='syscall')\n",
      "Index(['ues', 'sendmsg', 'sendto'], dtype='object', name='syscall')\n",
      "Index(['ues', 'sendto'], dtype='object', name='syscall')\n"
     ]
    },
    {
     "name": "stderr",
     "output_type": "stream",
     "text": [
      "Warning: empty y range [23:23], adjusting to [22.77:23.23]\n"
     ]
    },
    {
     "name": "stdout",
     "output_type": "stream",
     "text": [
      "Index(['ues', 'sendto'], dtype='object', name='syscall')\n",
      "Index(['ues', 'sendto'], dtype='object', name='syscall')\n"
     ]
    },
    {
     "name": "stderr",
     "output_type": "stream",
     "text": [
      "Warning: empty y range [65:65], adjusting to [64.35:65.65]\n"
     ]
    },
    {
     "name": "stdout",
     "output_type": "stream",
     "text": [
      "Index(['ues', 'sendto'], dtype='object', name='syscall')\n",
      "Index(['ues', 'sendto'], dtype='object', name='syscall')\n",
      "Index(['ues', 'sendmsg', 'sendto'], dtype='object', name='syscall')\n",
      "Index(['ues', 'sendto'], dtype='object', name='syscall')\n",
      "Index(['ues', 'sendto'], dtype='object', name='syscall')\n",
      "Index(['ues', 'sendto'], dtype='object', name='syscall')\n",
      "Index(['ues', 'recvmsg'], dtype='object', name='syscall')\n"
     ]
    },
    {
     "name": "stderr",
     "output_type": "stream",
     "text": [
      "Warning: empty x range [50:50], adjusting to [49.5:50.5]\n",
      "Warning: empty y range [0.015059:0.015059], adjusting to [0.0149084:0.0152096]\n"
     ]
    },
    {
     "name": "stdout",
     "output_type": "stream",
     "text": [
      "Index(['ues', 'recvfrom', 'recvmsg'], dtype='object', name='syscall')\n",
      "Index(['ues', 'recvfrom', 'recvmsg'], dtype='object', name='syscall')\n",
      "Index(['ues', 'recvmsg'], dtype='object', name='syscall')\n",
      "Index(['ues', 'recvmsg'], dtype='object', name='syscall')\n"
     ]
    },
    {
     "name": "stderr",
     "output_type": "stream",
     "text": [
      "Warning: empty x range [50:50], adjusting to [49.5:50.5]\n",
      "Warning: empty y range [0.020816:0.020816], adjusting to [0.0206078:0.0210242]\n"
     ]
    },
    {
     "name": "stdout",
     "output_type": "stream",
     "text": [
      "Index(['ues', 'recvfrom', 'recvmsg'], dtype='object', name='syscall')\n",
      "Index(['ues', 'recvmsg'], dtype='object', name='syscall')\n"
     ]
    },
    {
     "name": "stderr",
     "output_type": "stream",
     "text": [
      "Warning: empty x range [50:50], adjusting to [49.5:50.5]\n",
      "Warning: empty y range [0.015532:0.015532], adjusting to [0.0153767:0.0156873]\n"
     ]
    },
    {
     "name": "stdout",
     "output_type": "stream",
     "text": [
      "Index(['ues', 'recvfrom', 'recvmsg'], dtype='object', name='syscall')\n",
      "Index(['ues', 'recvfrom', 'recvmsg'], dtype='object', name='syscall')\n",
      "Index(['ues', 'recvmsg'], dtype='object', name='syscall')\n"
     ]
    },
    {
     "name": "stderr",
     "output_type": "stream",
     "text": [
      "Warning: empty x range [50:50], adjusting to [49.5:50.5]\n",
      "Warning: empty y range [4:4], adjusting to [3.96:4.04]\n"
     ]
    },
    {
     "name": "stdout",
     "output_type": "stream",
     "text": [
      "Index(['ues', 'recvfrom', 'recvmsg'], dtype='object', name='syscall')\n",
      "Index(['ues', 'recvfrom', 'recvmsg'], dtype='object', name='syscall')\n",
      "Index(['ues', 'recvmsg'], dtype='object', name='syscall')\n",
      "Index(['ues', 'recvmsg'], dtype='object', name='syscall')\n"
     ]
    },
    {
     "name": "stderr",
     "output_type": "stream",
     "text": [
      "Warning: empty x range [50:50], adjusting to [49.5:50.5]\n",
      "Warning: empty y range [4:4], adjusting to [3.96:4.04]\n"
     ]
    },
    {
     "name": "stdout",
     "output_type": "stream",
     "text": [
      "Index(['ues', 'recvfrom', 'recvmsg'], dtype='object', name='syscall')\n",
      "Index(['ues', 'recvmsg'], dtype='object', name='syscall')\n"
     ]
    },
    {
     "name": "stderr",
     "output_type": "stream",
     "text": [
      "Warning: empty x range [50:50], adjusting to [49.5:50.5]\n",
      "Warning: empty y range [4:4], adjusting to [3.96:4.04]\n"
     ]
    },
    {
     "name": "stdout",
     "output_type": "stream",
     "text": [
      "Index(['ues', 'recvfrom', 'recvmsg'], dtype='object', name='syscall')\n",
      "Index(['ues', 'recvfrom', 'recvmsg'], dtype='object', name='syscall')\n",
      "Index(['ues', 'recvmsg'], dtype='object', name='syscall')\n"
     ]
    },
    {
     "name": "stderr",
     "output_type": "stream",
     "text": [
      "Warning: empty x range [50:50], adjusting to [49.5:50.5]\n",
      "Warning: empty y range [0.00376475:0.00376475], adjusting to [0.0037271:0.0038024]\n"
     ]
    },
    {
     "name": "stdout",
     "output_type": "stream",
     "text": [
      "Index(['ues', 'recvfrom', 'recvmsg'], dtype='object', name='syscall')\n",
      "Index(['ues', 'recvfrom', 'recvmsg'], dtype='object', name='syscall')\n",
      "Index(['ues', 'recvmsg'], dtype='object', name='syscall')\n",
      "Index(['ues', 'recvmsg'], dtype='object', name='syscall')\n"
     ]
    },
    {
     "name": "stderr",
     "output_type": "stream",
     "text": [
      "Warning: empty x range [50:50], adjusting to [49.5:50.5]\n",
      "Warning: empty y range [0.005204:0.005204], adjusting to [0.00515196:0.00525604]\n"
     ]
    },
    {
     "name": "stdout",
     "output_type": "stream",
     "text": [
      "Index(['ues', 'recvfrom', 'recvmsg'], dtype='object', name='syscall')\n",
      "Index(['ues', 'recvmsg'], dtype='object', name='syscall')\n"
     ]
    },
    {
     "name": "stderr",
     "output_type": "stream",
     "text": [
      "Warning: empty x range [50:50], adjusting to [49.5:50.5]\n",
      "Warning: empty y range [0.003883:0.003883], adjusting to [0.00384417:0.00392183]\n"
     ]
    },
    {
     "name": "stdout",
     "output_type": "stream",
     "text": [
      "Index(['ues', 'recvfrom', 'recvmsg'], dtype='object', name='syscall')\n",
      "Index(['ues', 'recvfrom', 'recvmsg'], dtype='object', name='syscall')\n",
      "Index(['ues', 'clock_nanosleep'], dtype='object', name='syscall')\n",
      "Index(['ues', 'clock_nanosleep'], dtype='object', name='syscall')\n",
      "Index(['ues', 'clock_nanosleep'], dtype='object', name='syscall')\n",
      "Index(['ues', 'clock_nanosleep'], dtype='object', name='syscall')\n"
     ]
    },
    {
     "name": "stderr",
     "output_type": "stream",
     "text": [
      "Warning: empty y range [1:1], adjusting to [0.99:1.01]\n"
     ]
    },
    {
     "name": "stdout",
     "output_type": "stream",
     "text": [
      "Index(['ues', 'clock_nanosleep'], dtype='object', name='syscall')\n",
      "Index(['ues', 'clock_nanosleep'], dtype='object', name='syscall')\n",
      "Index(['ues', 'clock_nanosleep'], dtype='object', name='syscall')\n",
      "Index(['ues', 'clock_nanosleep'], dtype='object', name='syscall')\n",
      "Index(['ues', 'clock_nanosleep'], dtype='object', name='syscall')\n",
      "Index(['ues', 'futex'], dtype='object', name='syscall')\n",
      "Index(['ues', 'futex'], dtype='object', name='syscall')\n",
      "Index(['ues', 'futex'], dtype='object', name='syscall')\n",
      "Index(['ues', 'futex'], dtype='object', name='syscall')\n"
     ]
    },
    {
     "name": "stderr",
     "output_type": "stream",
     "text": [
      "Warning: empty x range [0:0], adjusting to [-1:1]\n",
      "Warning: empty y range [0.105006:0.105006], adjusting to [0.103956:0.106056]\n"
     ]
    },
    {
     "name": "stdout",
     "output_type": "stream",
     "text": [
      "Index(['ues', 'futex'], dtype='object', name='syscall')\n",
      "Index(['ues', 'futex'], dtype='object', name='syscall')\n"
     ]
    },
    {
     "name": "stderr",
     "output_type": "stream",
     "text": [
      "Warning: empty x range [0:0], adjusting to [-1:1]\n",
      "Warning: empty y range [0.061914:0.061914], adjusting to [0.0612949:0.0625331]\n"
     ]
    },
    {
     "name": "stdout",
     "output_type": "stream",
     "text": [
      "Index(['ues', 'futex'], dtype='object', name='syscall')\n",
      "Index(['ues', 'futex'], dtype='object', name='syscall')\n",
      "Index(['ues', 'futex'], dtype='object', name='syscall')\n",
      "Index(['ues', 'futex'], dtype='object', name='syscall')\n",
      "Index(['ues', 'futex'], dtype='object', name='syscall')\n"
     ]
    },
    {
     "name": "stderr",
     "output_type": "stream",
     "text": [
      "Warning: empty y range [3:3], adjusting to [2.97:3.03]\n"
     ]
    },
    {
     "name": "stdout",
     "output_type": "stream",
     "text": [
      "Index(['ues', 'futex'], dtype='object', name='syscall')\n"
     ]
    },
    {
     "name": "stderr",
     "output_type": "stream",
     "text": [
      "Warning: empty x range [0:0], adjusting to [-1:1]\n",
      "Warning: empty y range [12:12], adjusting to [11.88:12.12]\n"
     ]
    },
    {
     "name": "stdout",
     "output_type": "stream",
     "text": [
      "Index(['ues', 'futex'], dtype='object', name='syscall')\n",
      "Index(['ues', 'futex'], dtype='object', name='syscall')\n"
     ]
    },
    {
     "name": "stderr",
     "output_type": "stream",
     "text": [
      "Warning: empty x range [0:0], adjusting to [-1:1]\n",
      "Warning: empty y range [12:12], adjusting to [11.88:12.12]\n"
     ]
    },
    {
     "name": "stdout",
     "output_type": "stream",
     "text": [
      "Index(['ues', 'futex'], dtype='object', name='syscall')\n",
      "Index(['ues', 'futex'], dtype='object', name='syscall')\n",
      "Index(['ues', 'futex'], dtype='object', name='syscall')\n",
      "Index(['ues', 'futex'], dtype='object', name='syscall')\n",
      "Index(['ues', 'futex'], dtype='object', name='syscall')\n",
      "Index(['ues', 'futex'], dtype='object', name='syscall')\n"
     ]
    },
    {
     "name": "stderr",
     "output_type": "stream",
     "text": [
      "Warning: empty x range [0:0], adjusting to [-1:1]\n",
      "Warning: empty y range [0.0087505:0.0087505], adjusting to [0.00866299:0.008838]\n"
     ]
    },
    {
     "name": "stdout",
     "output_type": "stream",
     "text": [
      "Index(['ues', 'futex'], dtype='object', name='syscall')\n",
      "Index(['ues', 'futex'], dtype='object', name='syscall')\n"
     ]
    },
    {
     "name": "stderr",
     "output_type": "stream",
     "text": [
      "Warning: empty x range [0:0], adjusting to [-1:1]\n",
      "Warning: empty y range [0.0051595:0.0051595], adjusting to [0.00510791:0.00521109]\n"
     ]
    },
    {
     "name": "stdout",
     "output_type": "stream",
     "text": [
      "Index(['ues', 'futex'], dtype='object', name='syscall')\n",
      "Index(['ues', 'futex'], dtype='object', name='syscall')\n"
     ]
    }
   ],
   "source": [
    "\"\"\" Show the characterisation of each process. We show for each process the stats for grouped syscalls\n",
    "e.g., for opne5gs-amfd we show results for the multiplexing system calls\n",
    "\n",
    "For each of the core networks, we show their processes and then\n",
    "1. The syscalls active for the process by the frequency - line graph as UE increase and sunburst\n",
    "2. The syscalls active for the process by the latency - line graph as UE increase and sunburst\n",
    "3. The syscalls active for the process by the average - line graph as UE increase and sunburst\n",
    "\"\"\"\n",
    "\n",
    "import re\n",
    "\n",
    "noise_processes = ['python3', 'systemd', 'snapd', 'sshd', 'sudo', 'multipathd', 'systemd-logind', 'systemd-timesyn', 'systemd-resolve', 'systemd-udevd', 'systemd-network', 'systemctl', 'accounts-daemon', 'dbus-daemon', 'mongod', 'mysqld', '[unknown]']\n",
    "\n",
    "noise_processes = noise_processes + ['rsyslogd', 'systemd-journal', 'irqbalance', 'fwupd']\n",
    "\n",
    "def grouped_process_and_syscall_types(syscalls, syscall_type, core_network):\n",
    "    df = pd.DataFrame()\n",
    "    for syscall in syscalls:\n",
    "        sysprocess_df = spark.read.option(\"basePath\", basePath).json(\n",
    "            f\"{basePath}/cn={core_network}/ues=*/tool=sysprocess_{syscall}\")\n",
    "        df1 = sysprocess_df.toPandas()\n",
    "        df1['syscall'] = syscall\n",
    "        df = pd.concat([df, df1])\n",
    "\n",
    "    df = df.reset_index(drop=True)\n",
    "    df_syscall = remove_noise_processes(df, 'comm', noise_processes)\n",
    "    syscall_df = df_syscall.groupby(['comm', 'ues', 'syscall']).agg({ 'count': 'sum', 'time (ms)': 'sum' }).reset_index()\n",
    "\n",
    "    syscall_df['avg'] = (syscall_df['time (ms)'] / syscall_df['count'])\n",
    "\n",
    "    # Sunburst summarising\n",
    "    title=f\"{core_network}: {syscall_type} syscalls (by latency)\"\n",
    "    file_name = re.sub(r'[^\\w\\s]','_', title).replace(' ', '_')\n",
    "    sunburst_fig = px.sunburst(syscall_df, path=['comm', 'ues', 'syscall'], values='time (ms)',\n",
    "                  color='comm', hover_data=['count'],\n",
    "                  title=title\n",
    "                  )\n",
    "    sunburst_fig.update_traces(textinfo=\"label+percent root\")\n",
    "    sunburst_fig.update_traces(sort=False, selector=dict(type='sunburst')) \n",
    "    # sunburst_fig.show()\n",
    "    sunburst_fig.write_image(f\"plotly/{file_name}.jpeg\")\n",
    "\n",
    "    # Line graph\n",
    "    for process_name, process_syscall_df in syscall_df.groupby('comm'):\n",
    "        title=f\"{core_network}: {syscall_type} syscalls by {process_name} (by latency)\"\n",
    "        sysprocess_count_fig = px.line(process_syscall_df.sort_values('ues'),\n",
    "                        x=\"ues\", y=\"time (ms)\", color=\"syscall\", \n",
    "                        facet_row=\"comm\",\n",
    "                        hover_data=[\"count\", \"time (ms)\"],\n",
    "                        labels=labels,\n",
    "                        title=title,\n",
    "                        markers=True)\n",
    "        # sysprocess_count_fig.show()\n",
    "        file_name = re.sub(r'[^\\w\\s]','_', title).replace(' ', '_')\n",
    "        sysprocess_count_fig.write_image(f\"plotly/{file_name}.jpeg\")\n",
    "\n",
    "        gnuplot_df = pivot_dataframe_to_gnuplot_format(process_syscall_df, 'time (ms)', 'ues', 'syscall')\n",
    "        draw_gnuplot_linepoints(gnuplot_df, name=file_name, title=title,\n",
    "                        xlabel='Number of UEs', ylabel=labels['time (ms)'])\n",
    "    \n",
    "    title=f\"{core_network}: {syscall_type} syscalls (by number of calls)\"\n",
    "    file_name = re.sub(r'[^\\w\\s]','_', title).replace(' ', '_')\n",
    "    sunburst_fig = px.sunburst(syscall_df, path=['comm', 'ues', 'syscall'], values='count',\n",
    "                  color='comm', hover_data=['time (ms)'],\n",
    "                  title=title\n",
    "                  )\n",
    "    sunburst_fig.update_traces(textinfo=\"label+percent root\")\n",
    "    sunburst_fig.update_traces(sort=False, selector=dict(type='sunburst'))\n",
    "    # sunburst_fig.show()\n",
    "    sunburst_fig.write_image(f\"plotly/{file_name}.jpeg\")\n",
    "\n",
    "    # Line graph\n",
    "    for process_name, process_syscall_df in syscall_df.groupby('comm'):\n",
    "        title=f\"{core_network}: {syscall_type} syscalls by {process_name} (by number of calls)\"\n",
    "        sysprocess_count_fig = px.line(process_syscall_df.sort_values('ues'),\n",
    "                        x=\"ues\", y=\"count\", color=\"syscall\", \n",
    "                        facet_row=\"comm\",\n",
    "                        hover_data=[\"count\", \"time (ms)\"],\n",
    "                        labels=labels,\n",
    "                        title=title,\n",
    "                        markers=True)\n",
    "        # sysprocess_count_fig.show()\n",
    "        file_name = re.sub(r'[^\\w\\s]','_', title).replace(' ', '_')\n",
    "        sysprocess_count_fig.write_image(f\"plotly/{file_name}.jpeg\")\n",
    "\n",
    "        gnuplot_df = pivot_dataframe_to_gnuplot_format(process_syscall_df, 'count', 'ues', 'syscall')\n",
    "        draw_gnuplot_linepoints(gnuplot_df, name=file_name, title=title,\n",
    "                        xlabel='Number of UEs', ylabel=labels['count'])\n",
    "\n",
    "    title=f\"{core_network}: {syscall_type} syscalls (by average latency)\"\n",
    "    file_name = re.sub(r'[^\\w\\s]','_', title).replace(' ', '_')\n",
    "    sunburst_fig = px.sunburst(syscall_df, path=['comm', 'ues', 'syscall'], values='avg',\n",
    "                  color='comm', hover_data=['time (ms)'],\n",
    "                  title=title\n",
    "                  )\n",
    "    sunburst_fig.update_traces(textinfo=\"label+percent root\")\n",
    "    sunburst_fig.update_traces(sort=False, selector=dict(type='sunburst'))\n",
    "    # sunburst_fig.show()\n",
    "    sunburst_fig.write_image(f\"plotly/{file_name}.jpeg\")\n",
    "\n",
    "    # Line graph\n",
    "    for process_name, process_syscall_df in syscall_df.groupby('comm'):\n",
    "        title=f\"{core_network}: {syscall_type} syscalls by {process_name} (by average latency)\"\n",
    "        sysprocess_count_fig = px.line(process_syscall_df.sort_values('ues'),\n",
    "                        x=\"ues\", y=\"avg\", color=\"syscall\", \n",
    "                        facet_row=\"comm\",\n",
    "                        hover_data=[\"count\", \"time (ms)\"],\n",
    "                        labels=labels,\n",
    "                        title=title,\n",
    "                        markers=True)\n",
    "        # sysprocess_count_fig.show()\n",
    "        file_name = re.sub(r'[^\\w\\s]','_', title).replace(' ', '_')\n",
    "        sysprocess_count_fig.write_image(f\"plotly/{file_name}.jpeg\")\n",
    "\n",
    "        gnuplot_df = pivot_dataframe_to_gnuplot_format(process_syscall_df, 'avg', 'ues', 'syscall')\n",
    "        draw_gnuplot_linepoints(gnuplot_df, name=file_name, title=title,\n",
    "                        xlabel='Number of UEs', ylabel=labels['avg'])\n",
    "\n",
    "io_multiplex_syscalls = ['epoll_wait', 'poll', 'ppoll', 'epoll_pwait', 'select']\n",
    "socket_files_syscalls = ['read', 'write']\n",
    "socket_write_syscalls = ['sendto', 'sendmsg']\n",
    "socket_read_syscalls = [ 'recvmsg', 'recvfrom']\n",
    "time_syscalls = ['clock_nanosleep', 'nanosleep']\n",
    "locks_syscalls = ['futex']\n",
    "control_syscalls = ['sched_yield']\n",
    "\n",
    "# Free 5GC\n",
    "grouped_process_and_syscall_types(io_multiplex_syscalls, 'IO Multiplexing', 'free5gc')\n",
    "\n",
    "grouped_process_and_syscall_types(socket_files_syscalls, 'File operation', 'free5gc')\n",
    "\n",
    "grouped_process_and_syscall_types(socket_write_syscalls, 'Socket write', 'free5gc')\n",
    "\n",
    "grouped_process_and_syscall_types(socket_read_syscalls, 'Socket read', 'free5gc')\n",
    "\n",
    "grouped_process_and_syscall_types(time_syscalls, 'Sleep', 'free5gc')\n",
    "\n",
    "grouped_process_and_syscall_types(locks_syscalls, 'Resource contention', 'free5gc')\n",
    "\n",
    "grouped_process_and_syscall_types(control_syscalls, 'Scheduling', 'free5gc')\n",
    "\n",
    "\n",
    "# Open5gs\n",
    "\n",
    "grouped_process_and_syscall_types(io_multiplex_syscalls, 'IO Multiplexing', 'open5gs')\n",
    "\n",
    "grouped_process_and_syscall_types(socket_files_syscalls, 'File operation', 'open5gs')\n",
    "\n",
    "grouped_process_and_syscall_types(socket_write_syscalls, 'Socket write', 'open5gs')\n",
    "\n",
    "grouped_process_and_syscall_types(socket_read_syscalls, 'Socket read', 'open5gs')\n",
    "\n",
    "grouped_process_and_syscall_types(time_syscalls, 'Sleep', 'open5gs')\n",
    "\n",
    "grouped_process_and_syscall_types(locks_syscalls, 'Resource contention', 'open5gs')\n",
    "\n",
    "grouped_process_and_syscall_types(control_syscalls, 'Scheduling', 'open5gs')\n",
    "\n",
    "\n",
    "# OAI\n",
    "\n",
    "grouped_process_and_syscall_types(io_multiplex_syscalls, 'IO Multiplexing', 'oai')\n",
    "\n",
    "grouped_process_and_syscall_types(socket_files_syscalls, 'File operation', 'oai')\n",
    "\n",
    "grouped_process_and_syscall_types(socket_write_syscalls, 'Socket write', 'oai')\n",
    "\n",
    "grouped_process_and_syscall_types(socket_read_syscalls, 'Socket read', 'oai')\n",
    "\n",
    "grouped_process_and_syscall_types(time_syscalls, 'Sleep', 'oai')\n",
    "\n",
    "grouped_process_and_syscall_types(locks_syscalls, 'Resource contention', 'oai')\n",
    "\n",
    "grouped_process_and_syscall_types(control_syscalls, 'Scheduling', 'oai')\n",
    "\n"
   ]
  },
  {
   "cell_type": "code",
   "execution_count": 15,
   "metadata": {},
   "outputs": [
    {
     "data": {
      "application/vnd.plotly.v1+json": {
       "config": {
        "plotlyServerURL": "https://plot.ly"
       },
       "data": [
        {
         "hovertemplate": "<b>%{hovertext}</b><br><br>Core network=free5gc<br>Cummulative number of calls=%{x}<br>Rate of change of N# of calls=%{y}<br>Time (ms)=%{marker.size}<extra></extra>",
         "hovertext": [
          "ModemManager",
          "amf",
          "ausf",
          "cron",
          "irqbalance",
          "mongod",
          "nrf",
          "nssf",
          "packagekitd",
          "pcf",
          "polkitd",
          "rsyslogd",
          "smf",
          "systemd-journal",
          "udisksd",
          "udm",
          "udr",
          "upf"
         ],
         "legendgroup": "free5gc",
         "marker": {
          "color": "#636efa",
          "size": [
           0.25,
           2.175060808543,
           0.25,
           0.25,
           0.25,
           9.167585352734,
           1.917765355456,
           0.25,
           0.25,
           1.7181563814369998,
           0.25,
           0.25,
           0.25,
           0.25,
           0.25,
           0.25,
           1.864697957058,
           0.25
          ],
          "sizemode": "area",
          "sizeref": 0.0046874335237164,
          "symbol": "circle"
         },
         "mode": "markers",
         "name": "free5gc",
         "orientation": "v",
         "showlegend": true,
         "type": "scatter",
         "x": [
          303,
          2666357,
          659107,
          42,
          716,
          244173,
          1304713,
          447,
          98,
          444726,
          512,
          721,
          456,
          9398,
          306,
          1712431,
          1835871,
          433
         ],
         "xaxis": "x",
         "y": [
          0.010000000000000009,
          3313.0441666666666,
          836.4125,
          0,
          0.625,
          241.23666666666668,
          1548.3374999999999,
          0.31249999999999994,
          null,
          533.875,
          -0.4675,
          0.21916666666666665,
          0.31749999999999995,
          1.3533333333333335,
          -0.835,
          2143.755833333333,
          2214.523333333333,
          0.30166666666666664
         ],
         "yaxis": "y"
        },
        {
         "hovertemplate": "<b>%{hovertext}</b><br><br>Core network=oai<br>Cummulative number of calls=%{x}<br>Rate of change of N# of calls=%{y}<br>Time (ms)=%{marker.size}<extra></extra>",
         "hovertext": [
          "amf",
          "ausf",
          "cron",
          "fwupd",
          "irqbalance",
          "mysqld",
          "nrf",
          "rsyslogd",
          "smf",
          "systemd-journal",
          "udisksd",
          "udm",
          "udr"
         ],
         "legendgroup": "oai",
         "marker": {
          "color": "#EF553B",
          "size": [
           0.25,
           0.25,
           0.25,
           0.25,
           0.25,
           11.718583809291,
           0.25,
           0.25,
           1.260514775093,
           0.25,
           0.25,
           0.25,
           0.25
          ],
          "sizemode": "area",
          "sizeref": 0.0046874335237164,
          "symbol": "circle"
         },
         "mode": "markers",
         "name": "oai",
         "orientation": "v",
         "showlegend": true,
         "type": "scatter",
         "x": [
          115805,
          586874,
          13,
          118,
          758,
          312639,
          487312,
          10499,
          11365,
          32589,
          14,
          670767,
          549358
         ],
         "xaxis": "x",
         "y": [
          null,
          168.07916666666665,
          null,
          null,
          0.36666666666666664,
          222.54583333333335,
          -1.7475000000000012,
          -5.5375000000000005,
          1.9574999999999998,
          9.921666666666667,
          null,
          298.8533333333333,
          103.2625
         ],
         "yaxis": "y"
        },
        {
         "hovertemplate": "<b>%{hovertext}</b><br><br>Core network=open5gs<br>Cummulative number of calls=%{x}<br>Rate of change of N# of calls=%{y}<br>Time (ms)=%{marker.size}<extra></extra>",
         "hovertext": [
          "ModemManager",
          "cron",
          "irqbalance",
          "mongod",
          "open5gs-amfd",
          "open5gs-ausfd",
          "open5gs-bsfd",
          "open5gs-hssd",
          "open5gs-mmed",
          "open5gs-nrfd",
          "open5gs-nssfd",
          "open5gs-pcfd",
          "open5gs-pcrfd",
          "open5gs-scpd",
          "open5gs-sgwcd",
          "open5gs-sgwud",
          "open5gs-smfd",
          "open5gs-udmd",
          "open5gs-udrd",
          "open5gs-upfd",
          "polkitd",
          "rsyslogd",
          "systemd-journal",
          "udisksd"
         ],
         "legendgroup": "open5gs",
         "marker": {
          "color": "#00cc96",
          "size": [
           0.25,
           0.25,
           0.25,
           6.640177812822,
           0.25,
           0.25,
           0.25,
           3.8173416380579996,
           3.817282171391,
           0.25,
           0.25,
           0.25,
           3.8763060682920005,
           0.25,
           0.25,
           0.25,
           4.376560972612,
           0.25,
           0.25,
           0.25,
           0.25,
           0.25,
           0.25,
           0.25
          ],
          "sizemode": "area",
          "sizeref": 0.0046874335237164,
          "symbol": "circle"
         },
         "mode": "markers",
         "name": "open5gs",
         "orientation": "v",
         "showlegend": true,
         "type": "scatter",
         "x": [
          57,
          26,
          743,
          73197,
          483334,
          81802,
          714,
          10778,
          10793,
          26045,
          697,
          25450,
          10850,
          332997,
          278,
          305,
          12627,
          154272,
          45073,
          361,
          81,
          92398,
          58888,
          37
         ],
         "xaxis": "x",
         "y": [
          null,
          0,
          1.033333333333333,
          37.06333333333333,
          652.3850000000001,
          96.8275,
          -0.35333333333333333,
          -0.7916666666666666,
          -2.0541666666666667,
          30.754166666666666,
          0.11583333333333334,
          37.490833333333335,
          2.035833333333333,
          445.3216666666667,
          -0.7216666666666667,
          -0.4366666666666667,
          20.391666666666666,
          207.29416666666665,
          70.685,
          0.5166666666666667,
          null,
          115.30916666666667,
          72.46166666666666,
          null
         ],
         "yaxis": "y"
        }
       ],
       "layout": {
        "legend": {
         "itemsizing": "constant",
         "title": {
          "text": "Core network"
         },
         "tracegroupgap": 0
        },
        "margin": {
         "t": 60
        },
        "shapes": [
         {
          "line": {
           "width": 1
          },
          "opacity": 0.5,
          "type": "line",
          "x0": 237831.34545454546,
          "x1": 237831.34545454546,
          "xref": "x",
          "y0": 0,
          "y1": 1,
          "yref": "y domain"
         },
         {
          "line": {
           "width": 1
          },
          "opacity": 0.5,
          "type": "line",
          "x0": 0,
          "x1": 1,
          "xref": "x domain",
          "y0": 285.4479078014184,
          "y1": 285.4479078014184,
          "yref": "y"
         }
        ],
        "template": {
         "data": {
          "bar": [
           {
            "error_x": {
             "color": "#2a3f5f"
            },
            "error_y": {
             "color": "#2a3f5f"
            },
            "marker": {
             "line": {
              "color": "#E5ECF6",
              "width": 0.5
             },
             "pattern": {
              "fillmode": "overlay",
              "size": 10,
              "solidity": 0.2
             }
            },
            "type": "bar"
           }
          ],
          "barpolar": [
           {
            "marker": {
             "line": {
              "color": "#E5ECF6",
              "width": 0.5
             },
             "pattern": {
              "fillmode": "overlay",
              "size": 10,
              "solidity": 0.2
             }
            },
            "type": "barpolar"
           }
          ],
          "carpet": [
           {
            "aaxis": {
             "endlinecolor": "#2a3f5f",
             "gridcolor": "white",
             "linecolor": "white",
             "minorgridcolor": "white",
             "startlinecolor": "#2a3f5f"
            },
            "baxis": {
             "endlinecolor": "#2a3f5f",
             "gridcolor": "white",
             "linecolor": "white",
             "minorgridcolor": "white",
             "startlinecolor": "#2a3f5f"
            },
            "type": "carpet"
           }
          ],
          "choropleth": [
           {
            "colorbar": {
             "outlinewidth": 0,
             "ticks": ""
            },
            "type": "choropleth"
           }
          ],
          "contour": [
           {
            "colorbar": {
             "outlinewidth": 0,
             "ticks": ""
            },
            "colorscale": [
             [
              0,
              "#0d0887"
             ],
             [
              0.1111111111111111,
              "#46039f"
             ],
             [
              0.2222222222222222,
              "#7201a8"
             ],
             [
              0.3333333333333333,
              "#9c179e"
             ],
             [
              0.4444444444444444,
              "#bd3786"
             ],
             [
              0.5555555555555556,
              "#d8576b"
             ],
             [
              0.6666666666666666,
              "#ed7953"
             ],
             [
              0.7777777777777778,
              "#fb9f3a"
             ],
             [
              0.8888888888888888,
              "#fdca26"
             ],
             [
              1,
              "#f0f921"
             ]
            ],
            "type": "contour"
           }
          ],
          "contourcarpet": [
           {
            "colorbar": {
             "outlinewidth": 0,
             "ticks": ""
            },
            "type": "contourcarpet"
           }
          ],
          "heatmap": [
           {
            "colorbar": {
             "outlinewidth": 0,
             "ticks": ""
            },
            "colorscale": [
             [
              0,
              "#0d0887"
             ],
             [
              0.1111111111111111,
              "#46039f"
             ],
             [
              0.2222222222222222,
              "#7201a8"
             ],
             [
              0.3333333333333333,
              "#9c179e"
             ],
             [
              0.4444444444444444,
              "#bd3786"
             ],
             [
              0.5555555555555556,
              "#d8576b"
             ],
             [
              0.6666666666666666,
              "#ed7953"
             ],
             [
              0.7777777777777778,
              "#fb9f3a"
             ],
             [
              0.8888888888888888,
              "#fdca26"
             ],
             [
              1,
              "#f0f921"
             ]
            ],
            "type": "heatmap"
           }
          ],
          "heatmapgl": [
           {
            "colorbar": {
             "outlinewidth": 0,
             "ticks": ""
            },
            "colorscale": [
             [
              0,
              "#0d0887"
             ],
             [
              0.1111111111111111,
              "#46039f"
             ],
             [
              0.2222222222222222,
              "#7201a8"
             ],
             [
              0.3333333333333333,
              "#9c179e"
             ],
             [
              0.4444444444444444,
              "#bd3786"
             ],
             [
              0.5555555555555556,
              "#d8576b"
             ],
             [
              0.6666666666666666,
              "#ed7953"
             ],
             [
              0.7777777777777778,
              "#fb9f3a"
             ],
             [
              0.8888888888888888,
              "#fdca26"
             ],
             [
              1,
              "#f0f921"
             ]
            ],
            "type": "heatmapgl"
           }
          ],
          "histogram": [
           {
            "marker": {
             "pattern": {
              "fillmode": "overlay",
              "size": 10,
              "solidity": 0.2
             }
            },
            "type": "histogram"
           }
          ],
          "histogram2d": [
           {
            "colorbar": {
             "outlinewidth": 0,
             "ticks": ""
            },
            "colorscale": [
             [
              0,
              "#0d0887"
             ],
             [
              0.1111111111111111,
              "#46039f"
             ],
             [
              0.2222222222222222,
              "#7201a8"
             ],
             [
              0.3333333333333333,
              "#9c179e"
             ],
             [
              0.4444444444444444,
              "#bd3786"
             ],
             [
              0.5555555555555556,
              "#d8576b"
             ],
             [
              0.6666666666666666,
              "#ed7953"
             ],
             [
              0.7777777777777778,
              "#fb9f3a"
             ],
             [
              0.8888888888888888,
              "#fdca26"
             ],
             [
              1,
              "#f0f921"
             ]
            ],
            "type": "histogram2d"
           }
          ],
          "histogram2dcontour": [
           {
            "colorbar": {
             "outlinewidth": 0,
             "ticks": ""
            },
            "colorscale": [
             [
              0,
              "#0d0887"
             ],
             [
              0.1111111111111111,
              "#46039f"
             ],
             [
              0.2222222222222222,
              "#7201a8"
             ],
             [
              0.3333333333333333,
              "#9c179e"
             ],
             [
              0.4444444444444444,
              "#bd3786"
             ],
             [
              0.5555555555555556,
              "#d8576b"
             ],
             [
              0.6666666666666666,
              "#ed7953"
             ],
             [
              0.7777777777777778,
              "#fb9f3a"
             ],
             [
              0.8888888888888888,
              "#fdca26"
             ],
             [
              1,
              "#f0f921"
             ]
            ],
            "type": "histogram2dcontour"
           }
          ],
          "mesh3d": [
           {
            "colorbar": {
             "outlinewidth": 0,
             "ticks": ""
            },
            "type": "mesh3d"
           }
          ],
          "parcoords": [
           {
            "line": {
             "colorbar": {
              "outlinewidth": 0,
              "ticks": ""
             }
            },
            "type": "parcoords"
           }
          ],
          "pie": [
           {
            "automargin": true,
            "type": "pie"
           }
          ],
          "scatter": [
           {
            "fillpattern": {
             "fillmode": "overlay",
             "size": 10,
             "solidity": 0.2
            },
            "type": "scatter"
           }
          ],
          "scatter3d": [
           {
            "line": {
             "colorbar": {
              "outlinewidth": 0,
              "ticks": ""
             }
            },
            "marker": {
             "colorbar": {
              "outlinewidth": 0,
              "ticks": ""
             }
            },
            "type": "scatter3d"
           }
          ],
          "scattercarpet": [
           {
            "marker": {
             "colorbar": {
              "outlinewidth": 0,
              "ticks": ""
             }
            },
            "type": "scattercarpet"
           }
          ],
          "scattergeo": [
           {
            "marker": {
             "colorbar": {
              "outlinewidth": 0,
              "ticks": ""
             }
            },
            "type": "scattergeo"
           }
          ],
          "scattergl": [
           {
            "marker": {
             "colorbar": {
              "outlinewidth": 0,
              "ticks": ""
             }
            },
            "type": "scattergl"
           }
          ],
          "scattermapbox": [
           {
            "marker": {
             "colorbar": {
              "outlinewidth": 0,
              "ticks": ""
             }
            },
            "type": "scattermapbox"
           }
          ],
          "scatterpolar": [
           {
            "marker": {
             "colorbar": {
              "outlinewidth": 0,
              "ticks": ""
             }
            },
            "type": "scatterpolar"
           }
          ],
          "scatterpolargl": [
           {
            "marker": {
             "colorbar": {
              "outlinewidth": 0,
              "ticks": ""
             }
            },
            "type": "scatterpolargl"
           }
          ],
          "scatterternary": [
           {
            "marker": {
             "colorbar": {
              "outlinewidth": 0,
              "ticks": ""
             }
            },
            "type": "scatterternary"
           }
          ],
          "surface": [
           {
            "colorbar": {
             "outlinewidth": 0,
             "ticks": ""
            },
            "colorscale": [
             [
              0,
              "#0d0887"
             ],
             [
              0.1111111111111111,
              "#46039f"
             ],
             [
              0.2222222222222222,
              "#7201a8"
             ],
             [
              0.3333333333333333,
              "#9c179e"
             ],
             [
              0.4444444444444444,
              "#bd3786"
             ],
             [
              0.5555555555555556,
              "#d8576b"
             ],
             [
              0.6666666666666666,
              "#ed7953"
             ],
             [
              0.7777777777777778,
              "#fb9f3a"
             ],
             [
              0.8888888888888888,
              "#fdca26"
             ],
             [
              1,
              "#f0f921"
             ]
            ],
            "type": "surface"
           }
          ],
          "table": [
           {
            "cells": {
             "fill": {
              "color": "#EBF0F8"
             },
             "line": {
              "color": "white"
             }
            },
            "header": {
             "fill": {
              "color": "#C8D4E3"
             },
             "line": {
              "color": "white"
             }
            },
            "type": "table"
           }
          ]
         },
         "layout": {
          "annotationdefaults": {
           "arrowcolor": "#2a3f5f",
           "arrowhead": 0,
           "arrowwidth": 1
          },
          "autotypenumbers": "strict",
          "coloraxis": {
           "colorbar": {
            "outlinewidth": 0,
            "ticks": ""
           }
          },
          "colorscale": {
           "diverging": [
            [
             0,
             "#8e0152"
            ],
            [
             0.1,
             "#c51b7d"
            ],
            [
             0.2,
             "#de77ae"
            ],
            [
             0.3,
             "#f1b6da"
            ],
            [
             0.4,
             "#fde0ef"
            ],
            [
             0.5,
             "#f7f7f7"
            ],
            [
             0.6,
             "#e6f5d0"
            ],
            [
             0.7,
             "#b8e186"
            ],
            [
             0.8,
             "#7fbc41"
            ],
            [
             0.9,
             "#4d9221"
            ],
            [
             1,
             "#276419"
            ]
           ],
           "sequential": [
            [
             0,
             "#0d0887"
            ],
            [
             0.1111111111111111,
             "#46039f"
            ],
            [
             0.2222222222222222,
             "#7201a8"
            ],
            [
             0.3333333333333333,
             "#9c179e"
            ],
            [
             0.4444444444444444,
             "#bd3786"
            ],
            [
             0.5555555555555556,
             "#d8576b"
            ],
            [
             0.6666666666666666,
             "#ed7953"
            ],
            [
             0.7777777777777778,
             "#fb9f3a"
            ],
            [
             0.8888888888888888,
             "#fdca26"
            ],
            [
             1,
             "#f0f921"
            ]
           ],
           "sequentialminus": [
            [
             0,
             "#0d0887"
            ],
            [
             0.1111111111111111,
             "#46039f"
            ],
            [
             0.2222222222222222,
             "#7201a8"
            ],
            [
             0.3333333333333333,
             "#9c179e"
            ],
            [
             0.4444444444444444,
             "#bd3786"
            ],
            [
             0.5555555555555556,
             "#d8576b"
            ],
            [
             0.6666666666666666,
             "#ed7953"
            ],
            [
             0.7777777777777778,
             "#fb9f3a"
            ],
            [
             0.8888888888888888,
             "#fdca26"
            ],
            [
             1,
             "#f0f921"
            ]
           ]
          },
          "colorway": [
           "#636efa",
           "#EF553B",
           "#00cc96",
           "#ab63fa",
           "#FFA15A",
           "#19d3f3",
           "#FF6692",
           "#B6E880",
           "#FF97FF",
           "#FECB52"
          ],
          "font": {
           "color": "#2a3f5f"
          },
          "geo": {
           "bgcolor": "white",
           "lakecolor": "white",
           "landcolor": "#E5ECF6",
           "showlakes": true,
           "showland": true,
           "subunitcolor": "white"
          },
          "hoverlabel": {
           "align": "left"
          },
          "hovermode": "closest",
          "mapbox": {
           "style": "light"
          },
          "paper_bgcolor": "white",
          "plot_bgcolor": "#E5ECF6",
          "polar": {
           "angularaxis": {
            "gridcolor": "white",
            "linecolor": "white",
            "ticks": ""
           },
           "bgcolor": "#E5ECF6",
           "radialaxis": {
            "gridcolor": "white",
            "linecolor": "white",
            "ticks": ""
           }
          },
          "scene": {
           "xaxis": {
            "backgroundcolor": "#E5ECF6",
            "gridcolor": "white",
            "gridwidth": 2,
            "linecolor": "white",
            "showbackground": true,
            "ticks": "",
            "zerolinecolor": "white"
           },
           "yaxis": {
            "backgroundcolor": "#E5ECF6",
            "gridcolor": "white",
            "gridwidth": 2,
            "linecolor": "white",
            "showbackground": true,
            "ticks": "",
            "zerolinecolor": "white"
           },
           "zaxis": {
            "backgroundcolor": "#E5ECF6",
            "gridcolor": "white",
            "gridwidth": 2,
            "linecolor": "white",
            "showbackground": true,
            "ticks": "",
            "zerolinecolor": "white"
           }
          },
          "shapedefaults": {
           "line": {
            "color": "#2a3f5f"
           }
          },
          "ternary": {
           "aaxis": {
            "gridcolor": "white",
            "linecolor": "white",
            "ticks": ""
           },
           "baxis": {
            "gridcolor": "white",
            "linecolor": "white",
            "ticks": ""
           },
           "bgcolor": "#E5ECF6",
           "caxis": {
            "gridcolor": "white",
            "linecolor": "white",
            "ticks": ""
           }
          },
          "title": {
           "x": 0.05
          },
          "xaxis": {
           "automargin": true,
           "gridcolor": "white",
           "linecolor": "white",
           "ticks": "",
           "title": {
            "standoff": 15
           },
           "zerolinecolor": "white",
           "zerolinewidth": 2
          },
          "yaxis": {
           "automargin": true,
           "gridcolor": "white",
           "linecolor": "white",
           "ticks": "",
           "title": {
            "standoff": 15
           },
           "zerolinecolor": "white",
           "zerolinewidth": 2
          }
         }
        },
        "title": {
         "font": {
          "size": 10
         }
        },
        "xaxis": {
         "anchor": "y",
         "domain": [
          0,
          1
         ],
         "title": {
          "text": "Cummulative number of calls"
         },
         "type": "log"
        },
        "yaxis": {
         "anchor": "x",
         "domain": [
          0,
          1
         ],
         "title": {
          "text": "Rate of change of N# of calls"
         },
         "type": "log"
        }
       }
      }
     },
     "metadata": {},
     "output_type": "display_data"
    }
   ],
   "source": [
    "sysprocess_scatter_df = spark.read.option(\"basePath\", basePath).json(\n",
    "    f\"{basePath}/cn=*/ues=*/tool=sysprocess\")\n",
    "\n",
    "df_sysprocess_scatter = sysprocess_scatter_df.toPandas()\n",
    "\n",
    "# Calculate average rate of increase per slot\n",
    "sorted_df = df_sysprocess_scatter.groupby(['cn', 'comm', 'ues']).first().sort_values(by='ues').reset_index()\n",
    "\n",
    "sorted_df['diff'] = sorted_df.groupby(['cn', 'comm'])['count'].diff() / sorted_df.groupby(['cn', 'comm'])['ues'].diff()\n",
    "\n",
    "sum_df = sorted_df.groupby(['cn', 'comm'])['count'].sum().to_frame()\n",
    "duration_df = sorted_df.groupby(['cn', 'comm'])['time (ms)'].sum().to_frame()\n",
    "mean_df = sorted_df.groupby(['cn', 'comm'])['diff'].mean().to_frame()\n",
    "\n",
    "\n",
    "merged_df = pd.merge(sum_df, duration_df, on=['cn', 'comm']) \\\n",
    "             .merge(mean_df.rename(columns={'diff': 'rct'}), on=['cn', 'comm']).reset_index()\n",
    "\n",
    "\n",
    "merged_df['avg_duration'] = (merged_df['time (ms)'] / 1000000)\n",
    "merged_df[\"avg_duration\"] = [0.25 if val < 1 else val for val in merged_df['avg_duration']]\n",
    "merged_df = remove_noise_processes(merged_df, 'comm', noise_processes_excl_db)\n",
    "fig = px.scatter(merged_df, x=\"count\", y=\"rct\",\n",
    "\t         size=\"avg_duration\", color=\"cn\",\n",
    "             labels={\n",
    "                \"ues\": \"Number of UEs\",\n",
    "                \"time (ms)\": \"Time (ms)\",\n",
    "                \"syscall\": \"System calls\",\n",
    "                \"count\": \"Cummulative number of calls\",\n",
    "                \"avg\": \"Average time per syscall (ms)\",\n",
    "                \"avg_duration\": \"Time (ms)\",\n",
    "                \"cn\": \"Core network\",\n",
    "                \"rct\": \"Rate of change of N# of calls\"\n",
    "            },\n",
    "            #  title=\"Total number of calls against thier rate of change as the number of UEs generated increases per Core network. Each bubble represents a process.\",\n",
    "                 hover_name=\"comm\", log_x=True, log_y=True, size_max=50)\n",
    "fig.update_layout(title_font=dict(size=10))\n",
    "x_avg = merged_df['count'].mean()\n",
    "y_avg = merged_df['rct'].mean()\n",
    "fig.add_vline(x=x_avg, line_width=1, opacity=0.5)\n",
    "fig.add_hline(y=y_avg, line_width=1, opacity=0.5)\n",
    "\n",
    "# Update layout with new dimensions as percentages\n",
    "# fig.update_layout(\n",
    "#     height=600,     \n",
    "#     width=800\n",
    "# )\n",
    "\n",
    "fig.show()\n",
    "fig.write_image(f\"plotly/processes_scatter_summary.jpeg\")"
   ]
  },
  {
   "cell_type": "code",
   "execution_count": 16,
   "metadata": {},
   "outputs": [
    {
     "data": {
      "application/vnd.plotly.v1+json": {
       "config": {
        "plotlyServerURL": "https://plot.ly"
       },
       "data": [
        {
         "hovertemplate": "<b>%{hovertext}</b><br><br>Core network=free5gc<br>Cummulative number of calls=%{x}<br>Rate of change of N# of calls=%{y}<br>Time (ms)=%{marker.size}<extra></extra>",
         "hovertext": [
          "clock_nanosleep",
          "epoll_pwait",
          "epoll_wait",
          "futex",
          "nanosleep",
          "poll",
          "ppoll",
          "read",
          "recvmsg",
          "sched_yield",
          "select",
          "sendmsg",
          "sendto",
          "write"
         ],
         "legendgroup": "free5gc",
         "marker": {
          "color": "#636efa",
          "size": [
           1.5441469781,
           1.881263096471,
           1.782203172859,
           13.168498707267,
           0.5,
           1.653454579811,
           0.5,
           0.5,
           3.060743933238,
           0.5,
           0.5,
           0.5,
           0.5,
           0.5
          ],
          "sizemode": "area",
          "sizeref": 0.008383469292505599,
          "symbol": "circle"
         },
         "mode": "markers",
         "name": "free5gc",
         "orientation": "v",
         "showlegend": true,
         "type": "scatter",
         "x": [
          5479,
          619908,
          1162,
          607358,
          577410,
          1122,
          161,
          347755,
          38720,
          63255,
          1802,
          20257,
          162,
          196432
         ],
         "xaxis": "x",
         "y": [
          0.02416666666666667,
          902.2983333333333,
          -1.1858333333333333,
          902.1433333333333,
          824.035,
          -1.1183333333333334,
          -0.0375,
          505.3341666666667,
          53.95333333333334,
          90.69333333333333,
          2.268333333333333,
          28.97666666666667,
          -0.23166666666666666,
          290.37916666666666
         ],
         "yaxis": "y"
        },
        {
         "hovertemplate": "<b>%{hovertext}</b><br><br>Core network=oai<br>Cummulative number of calls=%{x}<br>Rate of change of N# of calls=%{y}<br>Time (ms)=%{marker.size}<extra></extra>",
         "hovertext": [
          "clock_nanosleep",
          "epoll_wait",
          "futex",
          "nanosleep",
          "poll",
          "ppoll",
          "read",
          "recvfrom",
          "recvmsg",
          "sched_yield",
          "select",
          "sendmmsg",
          "sendmsg",
          "sendto",
          "write"
         ],
         "legendgroup": "oai",
         "marker": {
          "color": "#EF553B",
          "size": [
           1.0283781950620001,
           3.9313830982730003,
           8.752308778859001,
           0.5,
           1.976469951477,
           0.5,
           1.935575233767,
           0.5,
           0.5,
           0.5,
           0.5,
           0.5,
           0.5,
           0.5,
           0.5
          ],
          "sizemode": "area",
          "sizeref": 0.008383469292505599,
          "symbol": "circle"
         },
         "mode": "markers",
         "name": "oai",
         "orientation": "v",
         "showlegend": true,
         "type": "scatter",
         "x": [
          1044,
          11963,
          161478,
          3752,
          4447,
          479,
          1979727,
          4366,
          14214,
          672,
          2389,
          86,
          8151,
          1537,
          7245
         ],
         "xaxis": "x",
         "y": [
          -0.04583333333333334,
          2.214166666666667,
          10.034166666666668,
          -6.884166666666666,
          -2.2308333333333334,
          -0.23916666666666678,
          13.014166666666668,
          0.20666666666666667,
          2.1541666666666672,
          -37.154444444444444,
          -0.029166666666666678,
          0.005,
          -0.24416666666666664,
          -0.18583333333333338,
          1.37
         ],
         "yaxis": "y"
        },
        {
         "hovertemplate": "<b>%{hovertext}</b><br><br>Core network=open5gs<br>Cummulative number of calls=%{x}<br>Rate of change of N# of calls=%{y}<br>Time (ms)=%{marker.size}<extra></extra>",
         "hovertext": [
          "clock_nanosleep",
          "epoll_pwait",
          "epoll_wait",
          "futex",
          "nanosleep",
          "poll",
          "ppoll",
          "read",
          "recvfrom",
          "recvmsg",
          "sched_yield",
          "select",
          "sendmsg",
          "sendto",
          "write"
         ],
         "legendgroup": "open5gs",
         "marker": {
          "color": "#00cc96",
          "size": [
           1.8566997585259999,
           0.5,
           8.108781513494,
           20.958673231263997,
           0.5,
           1.966956372149,
           0.5,
           0.5,
           0.5,
           1.9591558394259998,
           0.5,
           0.5,
           0.5,
           0.5,
           0.5
          ],
          "sizemode": "area",
          "sizeref": 0.008383469292505599,
          "symbol": "circle"
         },
         "mode": "markers",
         "name": "open5gs",
         "orientation": "v",
         "showlegend": true,
         "type": "scatter",
         "x": [
          5491,
          3,
          32347,
          67947,
          2579,
          27213,
          168,
          12585,
          20866,
          35254,
          3932,
          1700,
          11106,
          18272,
          14312
         ],
         "xaxis": "x",
         "y": [
          -0.025833333333333333,
          null,
          100.47250000000001,
          35.120000000000005,
          6.970833333333334,
          62.458333333333336,
          0.02916666666666667,
          10.108333333333333,
          76.26083333333334,
          45.76916666666667,
          -11.85125,
          3.953333333333333,
          30.891666666666666,
          60.95166666666666,
          40.26583333333334
         ],
         "yaxis": "y"
        }
       ],
       "layout": {
        "legend": {
         "itemsizing": "constant",
         "title": {
          "text": "Core network"
         },
         "tracegroupgap": 0
        },
        "margin": {
         "t": 60
        },
        "shapes": [
         {
          "line": {
           "width": 1
          },
          "opacity": 0.5,
          "type": "line",
          "x0": 112188.81818181818,
          "x1": 112188.81818181818,
          "xref": "x",
          "y0": 0,
          "y1": 1,
          "yref": "y domain"
         },
         {
          "line": {
           "width": 1
          },
          "opacity": 0.5,
          "type": "line",
          "x0": 0,
          "x1": 1,
          "xref": "x domain",
          "y0": 93.97422803617573,
          "y1": 93.97422803617573,
          "yref": "y"
         }
        ],
        "template": {
         "data": {
          "bar": [
           {
            "error_x": {
             "color": "#2a3f5f"
            },
            "error_y": {
             "color": "#2a3f5f"
            },
            "marker": {
             "line": {
              "color": "#E5ECF6",
              "width": 0.5
             },
             "pattern": {
              "fillmode": "overlay",
              "size": 10,
              "solidity": 0.2
             }
            },
            "type": "bar"
           }
          ],
          "barpolar": [
           {
            "marker": {
             "line": {
              "color": "#E5ECF6",
              "width": 0.5
             },
             "pattern": {
              "fillmode": "overlay",
              "size": 10,
              "solidity": 0.2
             }
            },
            "type": "barpolar"
           }
          ],
          "carpet": [
           {
            "aaxis": {
             "endlinecolor": "#2a3f5f",
             "gridcolor": "white",
             "linecolor": "white",
             "minorgridcolor": "white",
             "startlinecolor": "#2a3f5f"
            },
            "baxis": {
             "endlinecolor": "#2a3f5f",
             "gridcolor": "white",
             "linecolor": "white",
             "minorgridcolor": "white",
             "startlinecolor": "#2a3f5f"
            },
            "type": "carpet"
           }
          ],
          "choropleth": [
           {
            "colorbar": {
             "outlinewidth": 0,
             "ticks": ""
            },
            "type": "choropleth"
           }
          ],
          "contour": [
           {
            "colorbar": {
             "outlinewidth": 0,
             "ticks": ""
            },
            "colorscale": [
             [
              0,
              "#0d0887"
             ],
             [
              0.1111111111111111,
              "#46039f"
             ],
             [
              0.2222222222222222,
              "#7201a8"
             ],
             [
              0.3333333333333333,
              "#9c179e"
             ],
             [
              0.4444444444444444,
              "#bd3786"
             ],
             [
              0.5555555555555556,
              "#d8576b"
             ],
             [
              0.6666666666666666,
              "#ed7953"
             ],
             [
              0.7777777777777778,
              "#fb9f3a"
             ],
             [
              0.8888888888888888,
              "#fdca26"
             ],
             [
              1,
              "#f0f921"
             ]
            ],
            "type": "contour"
           }
          ],
          "contourcarpet": [
           {
            "colorbar": {
             "outlinewidth": 0,
             "ticks": ""
            },
            "type": "contourcarpet"
           }
          ],
          "heatmap": [
           {
            "colorbar": {
             "outlinewidth": 0,
             "ticks": ""
            },
            "colorscale": [
             [
              0,
              "#0d0887"
             ],
             [
              0.1111111111111111,
              "#46039f"
             ],
             [
              0.2222222222222222,
              "#7201a8"
             ],
             [
              0.3333333333333333,
              "#9c179e"
             ],
             [
              0.4444444444444444,
              "#bd3786"
             ],
             [
              0.5555555555555556,
              "#d8576b"
             ],
             [
              0.6666666666666666,
              "#ed7953"
             ],
             [
              0.7777777777777778,
              "#fb9f3a"
             ],
             [
              0.8888888888888888,
              "#fdca26"
             ],
             [
              1,
              "#f0f921"
             ]
            ],
            "type": "heatmap"
           }
          ],
          "heatmapgl": [
           {
            "colorbar": {
             "outlinewidth": 0,
             "ticks": ""
            },
            "colorscale": [
             [
              0,
              "#0d0887"
             ],
             [
              0.1111111111111111,
              "#46039f"
             ],
             [
              0.2222222222222222,
              "#7201a8"
             ],
             [
              0.3333333333333333,
              "#9c179e"
             ],
             [
              0.4444444444444444,
              "#bd3786"
             ],
             [
              0.5555555555555556,
              "#d8576b"
             ],
             [
              0.6666666666666666,
              "#ed7953"
             ],
             [
              0.7777777777777778,
              "#fb9f3a"
             ],
             [
              0.8888888888888888,
              "#fdca26"
             ],
             [
              1,
              "#f0f921"
             ]
            ],
            "type": "heatmapgl"
           }
          ],
          "histogram": [
           {
            "marker": {
             "pattern": {
              "fillmode": "overlay",
              "size": 10,
              "solidity": 0.2
             }
            },
            "type": "histogram"
           }
          ],
          "histogram2d": [
           {
            "colorbar": {
             "outlinewidth": 0,
             "ticks": ""
            },
            "colorscale": [
             [
              0,
              "#0d0887"
             ],
             [
              0.1111111111111111,
              "#46039f"
             ],
             [
              0.2222222222222222,
              "#7201a8"
             ],
             [
              0.3333333333333333,
              "#9c179e"
             ],
             [
              0.4444444444444444,
              "#bd3786"
             ],
             [
              0.5555555555555556,
              "#d8576b"
             ],
             [
              0.6666666666666666,
              "#ed7953"
             ],
             [
              0.7777777777777778,
              "#fb9f3a"
             ],
             [
              0.8888888888888888,
              "#fdca26"
             ],
             [
              1,
              "#f0f921"
             ]
            ],
            "type": "histogram2d"
           }
          ],
          "histogram2dcontour": [
           {
            "colorbar": {
             "outlinewidth": 0,
             "ticks": ""
            },
            "colorscale": [
             [
              0,
              "#0d0887"
             ],
             [
              0.1111111111111111,
              "#46039f"
             ],
             [
              0.2222222222222222,
              "#7201a8"
             ],
             [
              0.3333333333333333,
              "#9c179e"
             ],
             [
              0.4444444444444444,
              "#bd3786"
             ],
             [
              0.5555555555555556,
              "#d8576b"
             ],
             [
              0.6666666666666666,
              "#ed7953"
             ],
             [
              0.7777777777777778,
              "#fb9f3a"
             ],
             [
              0.8888888888888888,
              "#fdca26"
             ],
             [
              1,
              "#f0f921"
             ]
            ],
            "type": "histogram2dcontour"
           }
          ],
          "mesh3d": [
           {
            "colorbar": {
             "outlinewidth": 0,
             "ticks": ""
            },
            "type": "mesh3d"
           }
          ],
          "parcoords": [
           {
            "line": {
             "colorbar": {
              "outlinewidth": 0,
              "ticks": ""
             }
            },
            "type": "parcoords"
           }
          ],
          "pie": [
           {
            "automargin": true,
            "type": "pie"
           }
          ],
          "scatter": [
           {
            "fillpattern": {
             "fillmode": "overlay",
             "size": 10,
             "solidity": 0.2
            },
            "type": "scatter"
           }
          ],
          "scatter3d": [
           {
            "line": {
             "colorbar": {
              "outlinewidth": 0,
              "ticks": ""
             }
            },
            "marker": {
             "colorbar": {
              "outlinewidth": 0,
              "ticks": ""
             }
            },
            "type": "scatter3d"
           }
          ],
          "scattercarpet": [
           {
            "marker": {
             "colorbar": {
              "outlinewidth": 0,
              "ticks": ""
             }
            },
            "type": "scattercarpet"
           }
          ],
          "scattergeo": [
           {
            "marker": {
             "colorbar": {
              "outlinewidth": 0,
              "ticks": ""
             }
            },
            "type": "scattergeo"
           }
          ],
          "scattergl": [
           {
            "marker": {
             "colorbar": {
              "outlinewidth": 0,
              "ticks": ""
             }
            },
            "type": "scattergl"
           }
          ],
          "scattermapbox": [
           {
            "marker": {
             "colorbar": {
              "outlinewidth": 0,
              "ticks": ""
             }
            },
            "type": "scattermapbox"
           }
          ],
          "scatterpolar": [
           {
            "marker": {
             "colorbar": {
              "outlinewidth": 0,
              "ticks": ""
             }
            },
            "type": "scatterpolar"
           }
          ],
          "scatterpolargl": [
           {
            "marker": {
             "colorbar": {
              "outlinewidth": 0,
              "ticks": ""
             }
            },
            "type": "scatterpolargl"
           }
          ],
          "scatterternary": [
           {
            "marker": {
             "colorbar": {
              "outlinewidth": 0,
              "ticks": ""
             }
            },
            "type": "scatterternary"
           }
          ],
          "surface": [
           {
            "colorbar": {
             "outlinewidth": 0,
             "ticks": ""
            },
            "colorscale": [
             [
              0,
              "#0d0887"
             ],
             [
              0.1111111111111111,
              "#46039f"
             ],
             [
              0.2222222222222222,
              "#7201a8"
             ],
             [
              0.3333333333333333,
              "#9c179e"
             ],
             [
              0.4444444444444444,
              "#bd3786"
             ],
             [
              0.5555555555555556,
              "#d8576b"
             ],
             [
              0.6666666666666666,
              "#ed7953"
             ],
             [
              0.7777777777777778,
              "#fb9f3a"
             ],
             [
              0.8888888888888888,
              "#fdca26"
             ],
             [
              1,
              "#f0f921"
             ]
            ],
            "type": "surface"
           }
          ],
          "table": [
           {
            "cells": {
             "fill": {
              "color": "#EBF0F8"
             },
             "line": {
              "color": "white"
             }
            },
            "header": {
             "fill": {
              "color": "#C8D4E3"
             },
             "line": {
              "color": "white"
             }
            },
            "type": "table"
           }
          ]
         },
         "layout": {
          "annotationdefaults": {
           "arrowcolor": "#2a3f5f",
           "arrowhead": 0,
           "arrowwidth": 1
          },
          "autotypenumbers": "strict",
          "coloraxis": {
           "colorbar": {
            "outlinewidth": 0,
            "ticks": ""
           }
          },
          "colorscale": {
           "diverging": [
            [
             0,
             "#8e0152"
            ],
            [
             0.1,
             "#c51b7d"
            ],
            [
             0.2,
             "#de77ae"
            ],
            [
             0.3,
             "#f1b6da"
            ],
            [
             0.4,
             "#fde0ef"
            ],
            [
             0.5,
             "#f7f7f7"
            ],
            [
             0.6,
             "#e6f5d0"
            ],
            [
             0.7,
             "#b8e186"
            ],
            [
             0.8,
             "#7fbc41"
            ],
            [
             0.9,
             "#4d9221"
            ],
            [
             1,
             "#276419"
            ]
           ],
           "sequential": [
            [
             0,
             "#0d0887"
            ],
            [
             0.1111111111111111,
             "#46039f"
            ],
            [
             0.2222222222222222,
             "#7201a8"
            ],
            [
             0.3333333333333333,
             "#9c179e"
            ],
            [
             0.4444444444444444,
             "#bd3786"
            ],
            [
             0.5555555555555556,
             "#d8576b"
            ],
            [
             0.6666666666666666,
             "#ed7953"
            ],
            [
             0.7777777777777778,
             "#fb9f3a"
            ],
            [
             0.8888888888888888,
             "#fdca26"
            ],
            [
             1,
             "#f0f921"
            ]
           ],
           "sequentialminus": [
            [
             0,
             "#0d0887"
            ],
            [
             0.1111111111111111,
             "#46039f"
            ],
            [
             0.2222222222222222,
             "#7201a8"
            ],
            [
             0.3333333333333333,
             "#9c179e"
            ],
            [
             0.4444444444444444,
             "#bd3786"
            ],
            [
             0.5555555555555556,
             "#d8576b"
            ],
            [
             0.6666666666666666,
             "#ed7953"
            ],
            [
             0.7777777777777778,
             "#fb9f3a"
            ],
            [
             0.8888888888888888,
             "#fdca26"
            ],
            [
             1,
             "#f0f921"
            ]
           ]
          },
          "colorway": [
           "#636efa",
           "#EF553B",
           "#00cc96",
           "#ab63fa",
           "#FFA15A",
           "#19d3f3",
           "#FF6692",
           "#B6E880",
           "#FF97FF",
           "#FECB52"
          ],
          "font": {
           "color": "#2a3f5f"
          },
          "geo": {
           "bgcolor": "white",
           "lakecolor": "white",
           "landcolor": "#E5ECF6",
           "showlakes": true,
           "showland": true,
           "subunitcolor": "white"
          },
          "hoverlabel": {
           "align": "left"
          },
          "hovermode": "closest",
          "mapbox": {
           "style": "light"
          },
          "paper_bgcolor": "white",
          "plot_bgcolor": "#E5ECF6",
          "polar": {
           "angularaxis": {
            "gridcolor": "white",
            "linecolor": "white",
            "ticks": ""
           },
           "bgcolor": "#E5ECF6",
           "radialaxis": {
            "gridcolor": "white",
            "linecolor": "white",
            "ticks": ""
           }
          },
          "scene": {
           "xaxis": {
            "backgroundcolor": "#E5ECF6",
            "gridcolor": "white",
            "gridwidth": 2,
            "linecolor": "white",
            "showbackground": true,
            "ticks": "",
            "zerolinecolor": "white"
           },
           "yaxis": {
            "backgroundcolor": "#E5ECF6",
            "gridcolor": "white",
            "gridwidth": 2,
            "linecolor": "white",
            "showbackground": true,
            "ticks": "",
            "zerolinecolor": "white"
           },
           "zaxis": {
            "backgroundcolor": "#E5ECF6",
            "gridcolor": "white",
            "gridwidth": 2,
            "linecolor": "white",
            "showbackground": true,
            "ticks": "",
            "zerolinecolor": "white"
           }
          },
          "shapedefaults": {
           "line": {
            "color": "#2a3f5f"
           }
          },
          "ternary": {
           "aaxis": {
            "gridcolor": "white",
            "linecolor": "white",
            "ticks": ""
           },
           "baxis": {
            "gridcolor": "white",
            "linecolor": "white",
            "ticks": ""
           },
           "bgcolor": "#E5ECF6",
           "caxis": {
            "gridcolor": "white",
            "linecolor": "white",
            "ticks": ""
           }
          },
          "title": {
           "x": 0.05
          },
          "xaxis": {
           "automargin": true,
           "gridcolor": "white",
           "linecolor": "white",
           "ticks": "",
           "title": {
            "standoff": 15
           },
           "zerolinecolor": "white",
           "zerolinewidth": 2
          },
          "yaxis": {
           "automargin": true,
           "gridcolor": "white",
           "linecolor": "white",
           "ticks": "",
           "title": {
            "standoff": 15
           },
           "zerolinecolor": "white",
           "zerolinewidth": 2
          }
         }
        },
        "title": {
         "font": {
          "size": 10
         }
        },
        "xaxis": {
         "anchor": "y",
         "domain": [
          0,
          1
         ],
         "title": {
          "text": "Cummulative number of calls"
         },
         "type": "log"
        },
        "yaxis": {
         "anchor": "x",
         "domain": [
          0,
          1
         ],
         "title": {
          "text": "Rate of change of N# of calls"
         },
         "type": "log"
        }
       }
      }
     },
     "metadata": {},
     "output_type": "display_data"
    }
   ],
   "source": [
    "# Get the data\n",
    "syscall_scatter_df = spark.read.option(\"basePath\", basePath).json(\n",
    "    f\"{basePath}/cn=*/ues=*/tool=syscount\")\n",
    "\n",
    "df_syscall_scatter = syscall_scatter_df.toPandas()\n",
    "df_syscall_scatter['avg'] = ((df_syscall_scatter['time (ms)'] / df_syscall_scatter['count']) / 100)\n",
    "study_syscalls = ['futex', 'epoll_wait', 'epoll_wait2', 'epoll_pwait', 'epoll_pwait2', 'poll', 'ppoll', 'select', 'nanosleep', 'clock_nanosleep', 'read', 'write', 'recv', 'recvfrom', 'recvmsg', 'recvmmsg', 'send', 'sendto', 'sendmsg', 'sendmmsg', 'sched_yield']\n",
    "df_syscall_scatter =df_syscall_scatter[df_syscall_scatter[\"syscall\"].isin(study_syscalls)]\n",
    "\n",
    "# Calculate average rate of increase per slot\n",
    "sorted_df = df_syscall_scatter.groupby(['cn', 'syscall', 'ues']).first().sort_values(by='ues').reset_index()\n",
    "\n",
    "sorted_df['diff'] = sorted_df.groupby(['cn', 'syscall'])['count'].diff() / sorted_df.groupby(['cn', 'syscall'])['ues'].diff()\n",
    "\n",
    "sum_df = sorted_df.groupby(['cn', 'syscall'])['count'].sum().to_frame()\n",
    "duration_df = sorted_df.groupby(['cn', 'syscall'])['time (ms)'].sum().to_frame()\n",
    "mean_df = sorted_df.groupby(['cn', 'syscall'])['diff'].mean().to_frame()\n",
    "\n",
    "\n",
    "merged_df = pd.merge(sum_df, duration_df, on=['cn', 'syscall']) \\\n",
    "             .merge(mean_df.rename(columns={'diff': 'rct'}), on=['cn', 'syscall']).reset_index()\n",
    "\n",
    "merged_df['avg_duration'] = (merged_df['time (ms)'] / 1000000)\n",
    "merged_df[\"avg_duration\"] = [0.5 if val < 1 else val for val in merged_df['avg_duration']]\n",
    "fig = px.scatter(merged_df, x=\"count\", y=\"rct\",\n",
    "            labels={\n",
    "                \"ues\": \"Number of UEs\",\n",
    "                \"time (ms)\": \"Time (ms)\",\n",
    "                \"syscall\": \"System calls\",\n",
    "                \"count\": \"Cummulative number of calls\",\n",
    "                \"avg\": \"Average time per syscall (ms)\",\n",
    "                \"avg_duration\": \"Time (ms)\",\n",
    "                \"cn\": \"Core network\",\n",
    "                \"rct\": \"Rate of change of N# of calls\"\n",
    "            },\n",
    "            # title=\"Total number of calls against thier rate of change as the number of UEs generated increases per Core network. Each bubble represents a syscall.\",\n",
    "\t         size=\"avg_duration\", color=\"cn\",\n",
    "                hover_name=\"syscall\",\n",
    "                 log_x=True, log_y=True, size_max=50)\n",
    "fig.update_layout(title_font=dict(size=10))\n",
    "x_avg = merged_df['count'].mean()\n",
    "y_avg = merged_df['rct'].mean()\n",
    "fig.add_vline(x=x_avg, line_width=1, opacity=0.5)\n",
    "fig.add_hline(y=y_avg, line_width=1, opacity=0.5)\n",
    "#label each bubble\n",
    "# fig.update_traces(textposition='top center')\n",
    "\n",
    "# fig.update_layout(\n",
    "#     height=600,     \n",
    "#     width=800\n",
    "# )\n",
    "\n",
    "fig.show()\n",
    "fig.write_image(f\"plotly/syscalls_scatter_summary.jpeg\")"
   ]
  },
  {
   "cell_type": "code",
   "execution_count": 17,
   "metadata": {},
   "outputs": [
    {
     "data": {
      "application/vnd.plotly.v1+json": {
       "config": {
        "plotlyServerURL": "https://plot.ly"
       },
       "data": [
        {
         "hovertemplate": "Core network=free5gc<br>Number of calls=%{x}<br>Rate of change of N# of calls=%{y}<br>Time (ms)=%{marker.size}<extra></extra>",
         "legendgroup": "free5gc",
         "marker": {
          "color": "#636efa",
          "size": [
           24.708807133776002
          ],
          "sizemode": "area",
          "sizeref": 0.014519073315264402,
          "symbol": "circle"
         },
         "mode": "markers",
         "name": "free5gc",
         "orientation": "v",
         "showlegend": true,
         "type": "scatter",
         "x": [
          2480983
         ],
         "xaxis": "x",
         "y": [
          256.9666071428572
         ],
         "yaxis": "y"
        },
        {
         "hovertemplate": "Core network=oai<br>Number of calls=%{x}<br>Rate of change of N# of calls=%{y}<br>Time (ms)=%{marker.size}<extra></extra>",
         "legendgroup": "oai",
         "marker": {
          "color": "#EF553B",
          "size": [
           19.045351509251
          ],
          "sizemode": "area",
          "sizeref": 0.014519073315264402,
          "symbol": "circle"
         },
         "mode": "markers",
         "name": "oai",
         "orientation": "v",
         "showlegend": true,
         "type": "scatter",
         "x": [
          2201550
         ],
         "xaxis": "x",
         "y": [
          -1.2010185185185185
         ],
         "yaxis": "y"
        },
        {
         "hovertemplate": "Core network=open5gs<br>Number of calls=%{x}<br>Rate of change of N# of calls=%{y}<br>Time (ms)=%{marker.size}<extra></extra>",
         "legendgroup": "open5gs",
         "marker": {
          "color": "#00cc96",
          "size": [
           36.297683288161004
          ],
          "sizemode": "area",
          "sizeref": 0.014519073315264402,
          "symbol": "circle"
         },
         "mode": "markers",
         "name": "open5gs",
         "orientation": "v",
         "showlegend": true,
         "type": "scatter",
         "x": [
          253775
         ],
         "xaxis": "x",
         "y": [
          32.95532738095238
         ],
         "yaxis": "y"
        }
       ],
       "layout": {
        "legend": {
         "itemsizing": "constant",
         "title": {
          "text": "Core network"
         },
         "tracegroupgap": 0
        },
        "margin": {
         "t": 60
        },
        "shapes": [
         {
          "line": {
           "width": 1
          },
          "opacity": 0.5,
          "type": "line",
          "x0": 1645436,
          "x1": 1645436,
          "xref": "x",
          "y0": 0,
          "y1": 1,
          "yref": "y domain"
         },
         {
          "line": {
           "width": 1
          },
          "opacity": 0.5,
          "type": "line",
          "x0": 0,
          "x1": 1,
          "xref": "x domain",
          "y0": 96.24030533509703,
          "y1": 96.24030533509703,
          "yref": "y"
         }
        ],
        "template": {
         "data": {
          "bar": [
           {
            "error_x": {
             "color": "#2a3f5f"
            },
            "error_y": {
             "color": "#2a3f5f"
            },
            "marker": {
             "line": {
              "color": "#E5ECF6",
              "width": 0.5
             },
             "pattern": {
              "fillmode": "overlay",
              "size": 10,
              "solidity": 0.2
             }
            },
            "type": "bar"
           }
          ],
          "barpolar": [
           {
            "marker": {
             "line": {
              "color": "#E5ECF6",
              "width": 0.5
             },
             "pattern": {
              "fillmode": "overlay",
              "size": 10,
              "solidity": 0.2
             }
            },
            "type": "barpolar"
           }
          ],
          "carpet": [
           {
            "aaxis": {
             "endlinecolor": "#2a3f5f",
             "gridcolor": "white",
             "linecolor": "white",
             "minorgridcolor": "white",
             "startlinecolor": "#2a3f5f"
            },
            "baxis": {
             "endlinecolor": "#2a3f5f",
             "gridcolor": "white",
             "linecolor": "white",
             "minorgridcolor": "white",
             "startlinecolor": "#2a3f5f"
            },
            "type": "carpet"
           }
          ],
          "choropleth": [
           {
            "colorbar": {
             "outlinewidth": 0,
             "ticks": ""
            },
            "type": "choropleth"
           }
          ],
          "contour": [
           {
            "colorbar": {
             "outlinewidth": 0,
             "ticks": ""
            },
            "colorscale": [
             [
              0,
              "#0d0887"
             ],
             [
              0.1111111111111111,
              "#46039f"
             ],
             [
              0.2222222222222222,
              "#7201a8"
             ],
             [
              0.3333333333333333,
              "#9c179e"
             ],
             [
              0.4444444444444444,
              "#bd3786"
             ],
             [
              0.5555555555555556,
              "#d8576b"
             ],
             [
              0.6666666666666666,
              "#ed7953"
             ],
             [
              0.7777777777777778,
              "#fb9f3a"
             ],
             [
              0.8888888888888888,
              "#fdca26"
             ],
             [
              1,
              "#f0f921"
             ]
            ],
            "type": "contour"
           }
          ],
          "contourcarpet": [
           {
            "colorbar": {
             "outlinewidth": 0,
             "ticks": ""
            },
            "type": "contourcarpet"
           }
          ],
          "heatmap": [
           {
            "colorbar": {
             "outlinewidth": 0,
             "ticks": ""
            },
            "colorscale": [
             [
              0,
              "#0d0887"
             ],
             [
              0.1111111111111111,
              "#46039f"
             ],
             [
              0.2222222222222222,
              "#7201a8"
             ],
             [
              0.3333333333333333,
              "#9c179e"
             ],
             [
              0.4444444444444444,
              "#bd3786"
             ],
             [
              0.5555555555555556,
              "#d8576b"
             ],
             [
              0.6666666666666666,
              "#ed7953"
             ],
             [
              0.7777777777777778,
              "#fb9f3a"
             ],
             [
              0.8888888888888888,
              "#fdca26"
             ],
             [
              1,
              "#f0f921"
             ]
            ],
            "type": "heatmap"
           }
          ],
          "heatmapgl": [
           {
            "colorbar": {
             "outlinewidth": 0,
             "ticks": ""
            },
            "colorscale": [
             [
              0,
              "#0d0887"
             ],
             [
              0.1111111111111111,
              "#46039f"
             ],
             [
              0.2222222222222222,
              "#7201a8"
             ],
             [
              0.3333333333333333,
              "#9c179e"
             ],
             [
              0.4444444444444444,
              "#bd3786"
             ],
             [
              0.5555555555555556,
              "#d8576b"
             ],
             [
              0.6666666666666666,
              "#ed7953"
             ],
             [
              0.7777777777777778,
              "#fb9f3a"
             ],
             [
              0.8888888888888888,
              "#fdca26"
             ],
             [
              1,
              "#f0f921"
             ]
            ],
            "type": "heatmapgl"
           }
          ],
          "histogram": [
           {
            "marker": {
             "pattern": {
              "fillmode": "overlay",
              "size": 10,
              "solidity": 0.2
             }
            },
            "type": "histogram"
           }
          ],
          "histogram2d": [
           {
            "colorbar": {
             "outlinewidth": 0,
             "ticks": ""
            },
            "colorscale": [
             [
              0,
              "#0d0887"
             ],
             [
              0.1111111111111111,
              "#46039f"
             ],
             [
              0.2222222222222222,
              "#7201a8"
             ],
             [
              0.3333333333333333,
              "#9c179e"
             ],
             [
              0.4444444444444444,
              "#bd3786"
             ],
             [
              0.5555555555555556,
              "#d8576b"
             ],
             [
              0.6666666666666666,
              "#ed7953"
             ],
             [
              0.7777777777777778,
              "#fb9f3a"
             ],
             [
              0.8888888888888888,
              "#fdca26"
             ],
             [
              1,
              "#f0f921"
             ]
            ],
            "type": "histogram2d"
           }
          ],
          "histogram2dcontour": [
           {
            "colorbar": {
             "outlinewidth": 0,
             "ticks": ""
            },
            "colorscale": [
             [
              0,
              "#0d0887"
             ],
             [
              0.1111111111111111,
              "#46039f"
             ],
             [
              0.2222222222222222,
              "#7201a8"
             ],
             [
              0.3333333333333333,
              "#9c179e"
             ],
             [
              0.4444444444444444,
              "#bd3786"
             ],
             [
              0.5555555555555556,
              "#d8576b"
             ],
             [
              0.6666666666666666,
              "#ed7953"
             ],
             [
              0.7777777777777778,
              "#fb9f3a"
             ],
             [
              0.8888888888888888,
              "#fdca26"
             ],
             [
              1,
              "#f0f921"
             ]
            ],
            "type": "histogram2dcontour"
           }
          ],
          "mesh3d": [
           {
            "colorbar": {
             "outlinewidth": 0,
             "ticks": ""
            },
            "type": "mesh3d"
           }
          ],
          "parcoords": [
           {
            "line": {
             "colorbar": {
              "outlinewidth": 0,
              "ticks": ""
             }
            },
            "type": "parcoords"
           }
          ],
          "pie": [
           {
            "automargin": true,
            "type": "pie"
           }
          ],
          "scatter": [
           {
            "fillpattern": {
             "fillmode": "overlay",
             "size": 10,
             "solidity": 0.2
            },
            "type": "scatter"
           }
          ],
          "scatter3d": [
           {
            "line": {
             "colorbar": {
              "outlinewidth": 0,
              "ticks": ""
             }
            },
            "marker": {
             "colorbar": {
              "outlinewidth": 0,
              "ticks": ""
             }
            },
            "type": "scatter3d"
           }
          ],
          "scattercarpet": [
           {
            "marker": {
             "colorbar": {
              "outlinewidth": 0,
              "ticks": ""
             }
            },
            "type": "scattercarpet"
           }
          ],
          "scattergeo": [
           {
            "marker": {
             "colorbar": {
              "outlinewidth": 0,
              "ticks": ""
             }
            },
            "type": "scattergeo"
           }
          ],
          "scattergl": [
           {
            "marker": {
             "colorbar": {
              "outlinewidth": 0,
              "ticks": ""
             }
            },
            "type": "scattergl"
           }
          ],
          "scattermapbox": [
           {
            "marker": {
             "colorbar": {
              "outlinewidth": 0,
              "ticks": ""
             }
            },
            "type": "scattermapbox"
           }
          ],
          "scatterpolar": [
           {
            "marker": {
             "colorbar": {
              "outlinewidth": 0,
              "ticks": ""
             }
            },
            "type": "scatterpolar"
           }
          ],
          "scatterpolargl": [
           {
            "marker": {
             "colorbar": {
              "outlinewidth": 0,
              "ticks": ""
             }
            },
            "type": "scatterpolargl"
           }
          ],
          "scatterternary": [
           {
            "marker": {
             "colorbar": {
              "outlinewidth": 0,
              "ticks": ""
             }
            },
            "type": "scatterternary"
           }
          ],
          "surface": [
           {
            "colorbar": {
             "outlinewidth": 0,
             "ticks": ""
            },
            "colorscale": [
             [
              0,
              "#0d0887"
             ],
             [
              0.1111111111111111,
              "#46039f"
             ],
             [
              0.2222222222222222,
              "#7201a8"
             ],
             [
              0.3333333333333333,
              "#9c179e"
             ],
             [
              0.4444444444444444,
              "#bd3786"
             ],
             [
              0.5555555555555556,
              "#d8576b"
             ],
             [
              0.6666666666666666,
              "#ed7953"
             ],
             [
              0.7777777777777778,
              "#fb9f3a"
             ],
             [
              0.8888888888888888,
              "#fdca26"
             ],
             [
              1,
              "#f0f921"
             ]
            ],
            "type": "surface"
           }
          ],
          "table": [
           {
            "cells": {
             "fill": {
              "color": "#EBF0F8"
             },
             "line": {
              "color": "white"
             }
            },
            "header": {
             "fill": {
              "color": "#C8D4E3"
             },
             "line": {
              "color": "white"
             }
            },
            "type": "table"
           }
          ]
         },
         "layout": {
          "annotationdefaults": {
           "arrowcolor": "#2a3f5f",
           "arrowhead": 0,
           "arrowwidth": 1
          },
          "autotypenumbers": "strict",
          "coloraxis": {
           "colorbar": {
            "outlinewidth": 0,
            "ticks": ""
           }
          },
          "colorscale": {
           "diverging": [
            [
             0,
             "#8e0152"
            ],
            [
             0.1,
             "#c51b7d"
            ],
            [
             0.2,
             "#de77ae"
            ],
            [
             0.3,
             "#f1b6da"
            ],
            [
             0.4,
             "#fde0ef"
            ],
            [
             0.5,
             "#f7f7f7"
            ],
            [
             0.6,
             "#e6f5d0"
            ],
            [
             0.7,
             "#b8e186"
            ],
            [
             0.8,
             "#7fbc41"
            ],
            [
             0.9,
             "#4d9221"
            ],
            [
             1,
             "#276419"
            ]
           ],
           "sequential": [
            [
             0,
             "#0d0887"
            ],
            [
             0.1111111111111111,
             "#46039f"
            ],
            [
             0.2222222222222222,
             "#7201a8"
            ],
            [
             0.3333333333333333,
             "#9c179e"
            ],
            [
             0.4444444444444444,
             "#bd3786"
            ],
            [
             0.5555555555555556,
             "#d8576b"
            ],
            [
             0.6666666666666666,
             "#ed7953"
            ],
            [
             0.7777777777777778,
             "#fb9f3a"
            ],
            [
             0.8888888888888888,
             "#fdca26"
            ],
            [
             1,
             "#f0f921"
            ]
           ],
           "sequentialminus": [
            [
             0,
             "#0d0887"
            ],
            [
             0.1111111111111111,
             "#46039f"
            ],
            [
             0.2222222222222222,
             "#7201a8"
            ],
            [
             0.3333333333333333,
             "#9c179e"
            ],
            [
             0.4444444444444444,
             "#bd3786"
            ],
            [
             0.5555555555555556,
             "#d8576b"
            ],
            [
             0.6666666666666666,
             "#ed7953"
            ],
            [
             0.7777777777777778,
             "#fb9f3a"
            ],
            [
             0.8888888888888888,
             "#fdca26"
            ],
            [
             1,
             "#f0f921"
            ]
           ]
          },
          "colorway": [
           "#636efa",
           "#EF553B",
           "#00cc96",
           "#ab63fa",
           "#FFA15A",
           "#19d3f3",
           "#FF6692",
           "#B6E880",
           "#FF97FF",
           "#FECB52"
          ],
          "font": {
           "color": "#2a3f5f"
          },
          "geo": {
           "bgcolor": "white",
           "lakecolor": "white",
           "landcolor": "#E5ECF6",
           "showlakes": true,
           "showland": true,
           "subunitcolor": "white"
          },
          "hoverlabel": {
           "align": "left"
          },
          "hovermode": "closest",
          "mapbox": {
           "style": "light"
          },
          "paper_bgcolor": "white",
          "plot_bgcolor": "#E5ECF6",
          "polar": {
           "angularaxis": {
            "gridcolor": "white",
            "linecolor": "white",
            "ticks": ""
           },
           "bgcolor": "#E5ECF6",
           "radialaxis": {
            "gridcolor": "white",
            "linecolor": "white",
            "ticks": ""
           }
          },
          "scene": {
           "xaxis": {
            "backgroundcolor": "#E5ECF6",
            "gridcolor": "white",
            "gridwidth": 2,
            "linecolor": "white",
            "showbackground": true,
            "ticks": "",
            "zerolinecolor": "white"
           },
           "yaxis": {
            "backgroundcolor": "#E5ECF6",
            "gridcolor": "white",
            "gridwidth": 2,
            "linecolor": "white",
            "showbackground": true,
            "ticks": "",
            "zerolinecolor": "white"
           },
           "zaxis": {
            "backgroundcolor": "#E5ECF6",
            "gridcolor": "white",
            "gridwidth": 2,
            "linecolor": "white",
            "showbackground": true,
            "ticks": "",
            "zerolinecolor": "white"
           }
          },
          "shapedefaults": {
           "line": {
            "color": "#2a3f5f"
           }
          },
          "ternary": {
           "aaxis": {
            "gridcolor": "white",
            "linecolor": "white",
            "ticks": ""
           },
           "baxis": {
            "gridcolor": "white",
            "linecolor": "white",
            "ticks": ""
           },
           "bgcolor": "#E5ECF6",
           "caxis": {
            "gridcolor": "white",
            "linecolor": "white",
            "ticks": ""
           }
          },
          "title": {
           "x": 0.05
          },
          "xaxis": {
           "automargin": true,
           "gridcolor": "white",
           "linecolor": "white",
           "ticks": "",
           "title": {
            "standoff": 15
           },
           "zerolinecolor": "white",
           "zerolinewidth": 2
          },
          "yaxis": {
           "automargin": true,
           "gridcolor": "white",
           "linecolor": "white",
           "ticks": "",
           "title": {
            "standoff": 15
           },
           "zerolinecolor": "white",
           "zerolinewidth": 2
          }
         }
        },
        "title": {
         "font": {
          "size": 10
         }
        },
        "xaxis": {
         "anchor": "y",
         "domain": [
          0,
          1
         ],
         "title": {
          "text": "Number of calls"
         },
         "type": "log"
        },
        "yaxis": {
         "anchor": "x",
         "domain": [
          0,
          1
         ],
         "title": {
          "text": "Rate of change of N# of calls"
         },
         "type": "log"
        }
       }
      }
     },
     "metadata": {},
     "output_type": "display_data"
    }
   ],
   "source": [
    "# Get the data\n",
    "syscall_scatter_df = spark.read.option(\"basePath\", basePath).json(\n",
    "    f\"{basePath}/cn=*/ues=*/tool=syscount\")\n",
    "\n",
    "df_syscall_scatter = syscall_scatter_df.toPandas()\n",
    "df_syscall_scatter['avg'] = ((df_syscall_scatter['time (ms)'] / df_syscall_scatter['count']) / 100)\n",
    "study_syscalls = ['futex', 'epoll_wait', 'epoll_wait2', 'epoll_pwait', 'epoll_pwait2', 'poll', 'ppoll', 'select', 'nanosleep', 'clock_nanosleep', 'read', 'write', 'recv', 'recvfrom', 'recvmsg', 'recvmmsg', 'send', 'sendto', 'sendmsg', 'sendmmsg', 'sched_yield']\n",
    "df_syscall_scatter =df_syscall_scatter[df_syscall_scatter[\"syscall\"].isin(study_syscalls)]\n",
    "\n",
    "# Calculate average rate of increase per slot\n",
    "sorted_df = df_syscall_scatter.groupby(['cn', 'syscall', 'ues']).first().sort_values(by='ues').reset_index()\n",
    "\n",
    "sorted_df['diff'] = sorted_df.groupby(['cn', 'syscall'])['count'].diff() / sorted_df.groupby(['cn', 'syscall'])['ues'].diff()\n",
    "\n",
    "sum_df = sorted_df.groupby(['cn'])['count'].sum().to_frame()\n",
    "duration_df = sorted_df.groupby(['cn'])['time (ms)'].sum().to_frame()\n",
    "mean_df = sorted_df.groupby(['cn', 'syscall'])['diff'].mean().to_frame()\n",
    "mean_2_df = mean_df.groupby(['cn'])['diff'].mean().to_frame()\n",
    "\n",
    "\n",
    "merged_df = pd.merge(sum_df, duration_df, on=['cn']) \\\n",
    "             .merge(mean_2_df.rename(columns={'diff': 'rct'}), on=['cn']).reset_index()\n",
    "\n",
    "merged_df.to_csv(\"merged_df.csv\")\n",
    "merged_df['avg_duration'] = (merged_df['time (ms)'] / 1000000)\n",
    "merged_df[\"avg_duration\"] = [0.5 if val < 1 else val for val in merged_df['avg_duration']]\n",
    "\n",
    "fig = px.scatter(merged_df, x=\"count\", y=\"rct\",\n",
    "            labels=labels,\n",
    "            # title=\"Total number of calls against thier rate of change as the number of UEs generated increases per Core network. Each bubble represents a syscall.\",\n",
    "\t         size=\"avg_duration\", color=\"cn\",\n",
    "                # hover_name=\"syscall\",\n",
    "                 log_x=True, log_y=True, size_max=50)\n",
    "fig.update_layout(title_font=dict(size=10))\n",
    "x_avg = merged_df['count'].mean()\n",
    "y_avg = merged_df['rct'].mean()\n",
    "fig.add_vline(x=x_avg, line_width=1, opacity=0.5)\n",
    "fig.add_hline(y=y_avg, line_width=1, opacity=0.5)\n",
    "#label each bubble\n",
    "# fig.update_traces(textposition='top center')\n",
    "\n",
    "# fig.update_layout(\n",
    "#     height=600,     \n",
    "#     width=800\n",
    "# )\n",
    "\n",
    "# fig.update_layout(\n",
    "#     yaxis=dict(\n",
    "#         range=[-50, 200]\n",
    "#     )\n",
    "# )\n",
    "\n",
    "fig.show()\n",
    "fig.write_image(f\"plotly/syscalls_scatter_summary.jpeg\")"
   ]
  },
  {
   "cell_type": "code",
   "execution_count": 18,
   "metadata": {},
   "outputs": [
    {
     "name": "stdout",
     "output_type": "stream",
     "text": [
      "Hello___World__How__Are_You_\n"
     ]
    }
   ],
   "source": [
    "import re\n",
    "\n",
    "my_string = \"Hello / World: How, Are You?\"\n",
    "\n",
    "new_string = re.sub(r'[^\\w\\s]+','_', my_string).replace(' ', '_')\n",
    "\n",
    "print(new_string) # Output: Hello___World__How__Are_You_\n"
   ]
  },
  {
   "cell_type": "code",
   "execution_count": 19,
   "metadata": {},
   "outputs": [
    {
     "data": {
      "text/plain": [
       "' For each syscall look at the processes that are making the calls\\n(a) Graphs\\n(b) Tables with the sum per latency, count and average latency\\nThis should give us:\\n1. An idea of the processes making use of the most relavant syscall or the syscall we are looking at in the study\\n2. It will give us an ide of the relavance of these processes and making it easier for us to analysis e.g., if the rsyslog system\\nis the most active process per syscall, we know we need to do further work to disable logs or looking at another logging mechanism\\n3. \\n'"
      ]
     },
     "execution_count": 19,
     "metadata": {},
     "output_type": "execute_result"
    }
   ],
   "source": [
    "\"\"\" For each syscall look at the processes that are making the calls\n",
    "(a) Graphs\n",
    "(b) Tables with the sum per latency, count and average latency\n",
    "This should give us:\n",
    "1. An idea of the processes making use of the most relavant syscall or the syscall we are looking at in the study\n",
    "2. It will give us an ide of the relavance of these processes and making it easier for us to analysis e.g., if the rsyslog system\n",
    "is the most active process per syscall, we know we need to do further work to disable logs or looking at another logging mechanism\n",
    "3. \n",
    "\"\"\""
   ]
  }
 ],
 "metadata": {
  "kernelspec": {
   "display_name": "Python 3",
   "language": "python",
   "name": "python3"
  },
  "language_info": {
   "codemirror_mode": {
    "name": "ipython",
    "version": 3
   },
   "file_extension": ".py",
   "mimetype": "text/x-python",
   "name": "python",
   "nbconvert_exporter": "python",
   "pygments_lexer": "ipython3",
   "version": "3.11.6"
  },
  "orig_nbformat": 4,
  "vscode": {
   "interpreter": {
    "hash": "916dbcbb3f70747c44a77c7bcd40155683ae19c65e1c03b4aa3499c5328201f1"
   }
  }
 },
 "nbformat": 4,
 "nbformat_minor": 2
}
